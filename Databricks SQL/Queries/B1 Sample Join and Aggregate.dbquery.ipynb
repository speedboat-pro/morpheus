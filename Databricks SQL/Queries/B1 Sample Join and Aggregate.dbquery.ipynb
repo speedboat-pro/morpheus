{
 "cells": [
  {
   "cell_type": "code",
   "execution_count": 0,
   "metadata": {
    "application/vnd.databricks.v1+cell": {
     "cellMetadata": {
      "byteLimit": 10485760,
      "rowLimit": 64000
     },
     "inputWidgets": {},
     "nuid": "247ef42a-b016-44cf-88e0-5aa943ae74bd",
     "showTitle": false,
     "tableResultSettingsMap": {},
     "title": ""
    }
   },
   "outputs": [],
   "source": [
    "--sample join\n",
    "SELECT\n",
    "  c.state,\n",
    "  sum(s.total_price) as revenue\n",
    "FROM\n",
    "  customers c\n",
    "    INNER JOIN sales s\n",
    "      ON c.customer_id = s.customer_id\n",
    "GROUP BY\n",
    "  c.state;\n",
    "\n",
    "--sample aggregate\n",
    "SELECT\n",
    "  sq.state,\n",
    "  sum(sq.total_price) as revenue\n",
    "FROM\n",
    "  (\n",
    "    SELECT\n",
    "      c.state,\n",
    "      s.total_price\n",
    "    FROM\n",
    "      customers c\n",
    "        INNER JOIN sales s\n",
    "          ON c.customer_id = s.customer_id\n",
    "  ) sq\n",
    "GROUP BY\n",
    "  sq.state;\n",
    "\n",
    "SELECT\n",
    "  c.customer_id cid_from_customers,\n",
    "  s.customer_id cid_from_sales,\n",
    "  c.state,\n",
    "  s.total_price\n",
    "FROM\n",
    "  customers c\n",
    "    LEFT JOIN sales s\n",
    "      ON c.customer_id = s.customer_id\n",
    "ORDER BY cid_from_customers;\n",
    "--29148 records\n",
    "\n",
    "SELECT\n",
    "  c.customer_id cid_from_customers,\n",
    "  s.customer_id cid_from_sales,\n",
    "  c.state,\n",
    "  s.total_price\n",
    "FROM\n",
    "  customers c\n",
    "    INNER JOIN sales s\n",
    "      ON c.customer_id = s.customer_id\n",
    "ORDER BY cid_from_customers;\n",
    "--360 records\n",
    "\n",
    "SELECT\n",
    "  c.customer_id cid_from_customers,\n",
    "  s.customer_id cid_from_sales,\n",
    "  c.state,\n",
    "  s.total_price\n",
    "FROM\n",
    "  customers c\n",
    "    RIGHT JOIN sales s\n",
    "      ON c.customer_id = s.customer_id\n",
    "ORDER BY cid_from_customers;\n",
    "--360 records\n",
    "\n",
    "SELECT\n",
    "  c.customer_id cid_from_customers,\n",
    "  s.customer_id cid_from_sales,\n",
    "  c.state,\n",
    "  s.total_price\n",
    "FROM\n",
    "  customers c\n",
    "    FULL JOIN sales s\n",
    "      ON c.customer_id = s.customer_id\n",
    "ORDER BY cid_from_customers;\n",
    "--29148 records"
   ]
  }
 ],
 "metadata": {
  "application/vnd.databricks.v1+notebook": {
   "computePreferences": null,
   "dashboards": [],
   "environmentMetadata": null,
   "inputWidgetPreferences": null,
   "language": "sql",
   "notebookMetadata": {
    "pythonIndentUnit": 4,
    "sqlQueryOptions": {
     "applyAutoLimit": false,
     "catalog": "labuser8664401_1745330262",
     "schema": "dawd_v2"
    }
   },
   "notebookName": "B1 Sample Join and Aggregate.dbquery.ipynb",
   "widgets": {}
  },
  "language_info": {
   "name": "sql"
  }
 },
 "nbformat": 4,
 "nbformat_minor": 0
}
