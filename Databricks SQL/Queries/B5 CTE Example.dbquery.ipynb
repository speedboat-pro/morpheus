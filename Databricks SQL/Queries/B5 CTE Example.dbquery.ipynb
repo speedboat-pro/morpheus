{
 "cells": [
  {
   "cell_type": "code",
   "execution_count": 0,
   "metadata": {
    "application/vnd.databricks.v1+cell": {
     "cellMetadata": {
      "byteLimit": 10485760,
      "rowLimit": 1000
     },
     "inputWidgets": {},
     "nuid": "cde81e07-eaa3-4a1c-801b-a5a5d260c723",
     "showTitle": false,
     "tableResultSettingsMap": {},
     "title": ""
    }
   },
   "outputs": [],
   "source": [
    "/*\n",
    "Subquery example:\n",
    "\n",
    "SELECT  \n",
    "  sq.state\n",
    "  ,sum(sq.total_price) as revenue\n",
    "FROM  \n",
    "(\n",
    "  SELECT\n",
    "  c.state\n",
    "  ,s.total_price\n",
    "  FROM\n",
    "  customers c\n",
    "  INNER JOIN sales s\n",
    "    ON c.customer_id = s.customer_id\n",
    ") sq\n",
    "GROUP BY sq.state;\n",
    "*/\n",
    "WITH \n",
    "  sq \n",
    "  AS \n",
    "    (\n",
    "      SELECT\n",
    "        c.state,\n",
    "        s.total_price\n",
    "      FROM\n",
    "        customers c\n",
    "          INNER JOIN sales s\n",
    "            ON c.customer_id = s.customer_id\n",
    "  )\n",
    "SELECT\n",
    "  sq.state,\n",
    "  sum(sq.total_price) as revenue\n",
    "FROM\n",
    "  sq\n",
    "GROUP BY\n",
    "  sq.state;"
   ]
  }
 ],
 "metadata": {
  "application/vnd.databricks.v1+notebook": {
   "computePreferences": null,
   "dashboards": [],
   "environmentMetadata": null,
   "inputWidgetPreferences": null,
   "language": "sql",
   "notebookMetadata": {
    "pythonIndentUnit": 4,
    "sqlQueryOptions": {
     "applyAutoLimit": true,
     "catalog": "labuser8664401_1745330262",
     "schema": "dawd_v2"
    }
   },
   "notebookName": "B5 CTE Example.dbquery.ipynb",
   "widgets": {}
  },
  "language_info": {
   "name": "sql"
  }
 },
 "nbformat": 4,
 "nbformat_minor": 0
}
