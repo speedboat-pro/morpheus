{
 "cells": [
  {
   "cell_type": "code",
   "execution_count": 0,
   "metadata": {
    "application/vnd.databricks.v1+cell": {
     "cellMetadata": {
      "byteLimit": 10485760,
      "rowLimit": 1000
     },
     "inputWidgets": {},
     "nuid": "a1b1a57f-059b-4214-8c83-6607ce2b267b",
     "showTitle": false,
     "tableResultSettingsMap": {},
     "title": ""
    }
   },
   "outputs": [],
   "source": [
    "CREATE\n",
    "OR REPLACE TABLE customers AS\n",
    "SELECT\n",
    "customer_id2 AS customer_id,\n",
    "tax_id,\n",
    "tax_code,\n",
    "customer_name3 AS customer_name,\n",
    "state,\n",
    "city,\n",
    "postcode,\n",
    "street,\n",
    "number,\n",
    "unit,\n",
    "region,\n",
    "district,\n",
    "lon,\n",
    "lat,\n",
    "ship_to_address,\n",
    "valid_from,\n",
    "valid_to,\n",
    "units_purchased,\n",
    "loyalty_segment\n",
    "FROM\n",
    "data\n",
    "WHERE\n",
    "table_name1 IS NULL\n",
    "AND table_name IS NULL;\n",
    "\n",
    "\n",
    "CREATE\n",
    "OR REPLACE TABLE sales AS\n",
    "SELECT\n",
    "customer_id,\n",
    "customer_name,\n",
    "product_name,\n",
    "order_date,\n",
    "product_category,\n",
    "product,\n",
    "total_price\n",
    "FROM\n",
    "data\n",
    "WHERE\n",
    "table_name IS NOT NULL;\n",
    "\n"
   ]
  }
 ],
 "metadata": {
  "application/vnd.databricks.v1+notebook": {
   "computePreferences": null,
   "dashboards": [],
   "environmentMetadata": null,
   "inputWidgetPreferences": null,
   "language": "sql",
   "notebookMetadata": {
    "pythonIndentUnit": 4,
    "sqlQueryOptions": {
     "applyAutoLimit": true,
     "catalog": "labuser9837865_1743753657",
     "schema": "dawd_v2"
    }
   },
   "notebookName": "04 Create new tables for the course.dbquery.ipynb",
   "widgets": {}
  },
  "language_info": {
   "name": "sql"
  }
 },
 "nbformat": 4,
 "nbformat_minor": 0
}
