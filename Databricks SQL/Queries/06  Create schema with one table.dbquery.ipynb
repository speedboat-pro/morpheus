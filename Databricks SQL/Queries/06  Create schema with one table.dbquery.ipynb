{
 "cells": [
  {
   "cell_type": "code",
   "execution_count": 0,
   "metadata": {
    "application/vnd.databricks.v1+cell": {
     "cellMetadata": {
      "byteLimit": 10485760,
      "rowLimit": 1000
     },
     "inputWidgets": {},
     "nuid": "4ccf75d9-197c-447d-9c95-7d5020c0e3be",
     "showTitle": false,
     "tableResultSettingsMap": {},
     "title": ""
    }
   },
   "outputs": [],
   "source": [
    "DROP SCHEMA IF EXISTS temporary_schema CASCADE;\n",
    "\n",
    "CREATE SCHEMA IF NOT EXISTS temporary_schema;\n",
    "\n",
    "CREATE OR REPLACE TABLE temporary_schema.simple_table(width INT, length INT, height INT);\n",
    "\n",
    "INSERT INTO\n",
    "  temporary_schema.simple_table\n",
    "VALUES (3, 2, 1);\n",
    "\n",
    "SELECT\n",
    "  *\n",
    "FROM\n",
    "  temporary_schema.simple_table;\n",
    "\n",
    "DESCRIBE EXTENDED temporary_schema.simple_table;\n",
    "\n",
    "DESCRIBE DETAIL temporary_schema.simple_table;\n",
    "\n",
    "DESCRIBE HISTORY temporary_schema.simple_table;"
   ]
  }
 ],
 "metadata": {
  "application/vnd.databricks.v1+notebook": {
   "computePreferences": null,
   "dashboards": [],
   "environmentMetadata": null,
   "inputWidgetPreferences": null,
   "language": "sql",
   "notebookMetadata": {
    "sqlQueryOptions": {
     "applyAutoLimit": true,
     "catalog": "labuser9837865_1743753657",
     "schema": "dawd_v2"
    }
   },
   "notebookName": "06  Create schema with one table.dbquery.ipynb",
   "widgets": {}
  },
  "language_info": {
   "name": "sql"
  }
 },
 "nbformat": 4,
 "nbformat_minor": 0
}
