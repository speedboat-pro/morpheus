{
 "cells": [
  {
   "cell_type": "code",
   "execution_count": 0,
   "metadata": {
    "application/vnd.databricks.v1+cell": {
     "cellMetadata": {},
     "inputWidgets": {},
     "nuid": "ccf8e108-2153-4066-841f-1f21c41ca890",
     "showTitle": false,
     "tableResultSettingsMap": {},
     "title": ""
    }
   },
   "outputs": [],
   "source": [
    "SELECT\n",
    "  c.state,\n",
    "  sum(s.total_price) as revenue\n",
    "FROM\n",
    "  customers c\n",
    "    INNER JOIN sales s\n",
    "      ON c.customer_id = s.customer_id\n",
    "GROUP BY\n",
    "  c.state\n",
    "HAVING sum(s.total_price)> 61434  \n",
    "  ;"
   ]
  }
 ],
 "metadata": {
  "application/vnd.databricks.v1+notebook": {
   "computePreferences": null,
   "dashboards": [],
   "environmentMetadata": null,
   "inputWidgetPreferences": null,
   "language": "sql",
   "notebookMetadata": {
    "sqlQueryOptions": {
     "applyAutoLimit": true,
     "catalog": "labuser8664401_1745330262",
     "schema": "dawd_v2"
    }
   },
   "notebookName": "B3 HAVING Example.dbquery.ipynb",
   "widgets": {}
  },
  "language_info": {
   "name": "sql"
  }
 },
 "nbformat": 4,
 "nbformat_minor": 0
}
