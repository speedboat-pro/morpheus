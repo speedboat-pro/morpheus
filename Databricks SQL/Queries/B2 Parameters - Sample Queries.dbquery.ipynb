{
 "cells": [
  {
   "cell_type": "code",
   "execution_count": 0,
   "metadata": {
    "application/vnd.databricks.v1+cell": {
     "cellMetadata": {
      "byteLimit": 10485760,
      "rowLimit": 1000
     },
     "inputWidgets": {},
     "nuid": "dee816bd-9758-497f-8b5a-2791a4273ea0",
     "showTitle": false,
     "tableResultSettingsMap": {},
     "title": ""
    }
   },
   "outputs": [],
   "source": [
    "--https://docs.databricks.com/aws/en/sql/user/queries/query-parameters\n",
    "\n",
    "--Old parameter syntax\n",
    "SELECT \n",
    "  c.state\n",
    "  ,sum(total_price) as revenue\n",
    "FROM\n",
    "  customers c\n",
    "  INNER JOIN sales s\n",
    "    ON c.customer_id = s.customer_id\n",
    "GROUP BY\n",
    "  c.state\n",
    "HAVING\n",
    "  c.state in ({{state}})\n",
    "\n",
    "--New parameter syntax\n",
    "SELECT \n",
    "  c.state\n",
    "  ,sum(total_price) as revenue\n",
    "FROM\n",
    "  customers c\n",
    "  INNER JOIN sales s\n",
    "    ON c.customer_id = s.customer_id\n",
    "GROUP BY\n",
    "  c.state\n",
    "HAVING\n",
    "  c.state in (:state)"
   ]
  }
 ],
 "metadata": {
  "application/vnd.databricks.v1+notebook": {
   "computePreferences": null,
   "dashboards": [],
   "environmentMetadata": null,
   "inputWidgetPreferences": null,
   "language": "sql",
   "notebookMetadata": {
    "sqlQueryOptions": {
     "applyAutoLimit": true,
     "catalog": "labuser8664401_1745330262",
     "schema": "dawd_v2"
    }
   },
   "notebookName": "B2 Parameters - Sample Queries.dbquery.ipynb",
   "widgets": {
    "state": {
     "currentValue": "CA",
     "nuid": "cb297e0e-8a6a-4bb2-b483-25cf947217d5",
     "typedWidgetInfo": {
      "autoCreated": false,
      "defaultValue": "CA",
      "label": "state",
      "name": "state",
      "options": {
       "widgetDisplayType": "Text",
       "validationRegex": null
      },
      "parameterDataType": "String"
     },
     "widgetInfo": {
      "widgetType": "text",
      "defaultValue": "CA",
      "label": "state",
      "name": "state",
      "options": {
       "widgetType": "text",
       "autoCreated": false,
       "validationRegex": null
      }
     }
    }
   }
  },
  "language_info": {
   "name": "sql"
  }
 },
 "nbformat": 4,
 "nbformat_minor": 0
}
