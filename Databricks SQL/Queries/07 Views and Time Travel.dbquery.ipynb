{
 "cells": [
  {
   "cell_type": "code",
   "execution_count": 0,
   "metadata": {
    "application/vnd.databricks.v1+cell": {
     "cellMetadata": {
      "byteLimit": 10485760,
      "rowLimit": 1000
     },
     "inputWidgets": {},
     "nuid": "59ed5318-afd1-41b3-a6db-ec17822b8eb4",
     "showTitle": false,
     "tableResultSettingsMap": {},
     "title": ""
    }
   },
   "outputs": [],
   "source": [
    "CREATE OR REPLACE VIEW high_sales AS\n",
    "SELECT\n",
    "  *\n",
    "FROM\n",
    "  sales\n",
    "WHERE\n",
    "  total_price > 10000;\n",
    "\n",
    "SELECT\n",
    "  *\n",
    "FROM\n",
    "  high_sales;\n",
    "\n",
    "DESCRIBE HISTORY customers;\n",
    "\n",
    "UPDATE\n",
    "  customers\n",
    "SET\n",
    "  loyalty_segment = 10\n",
    "WHERE\n",
    "  loyalty_segment = 0;\n",
    "\n",
    "UPDATE\n",
    "  customers\n",
    "SET\n",
    "  loyalty_segment = 0\n",
    "WHERE\n",
    "  loyalty_segment = 10;\n",
    "\n",
    "DESCRIBE HISTORY customers;\n",
    "\n",
    "SELECT DISTINCT\n",
    "  loyalty_segment\n",
    "FROM\n",
    "  customers VERSION AS OF 1;\n",
    "\n",
    "SELECT DISTINCT\n",
    "  loyalty_segment\n",
    "FROM\n",
    "  customers@v1;\n",
    "\n",
    "SELECT DISTINCT\n",
    "  loyalty_segment\n",
    "FROM\n",
    "  customers TIMESTAMP AS OF '2025-04-04T08:53:32.000+00:00';\n",
    "\n",
    "\n",
    "   RESTORE TABLE customers TO VERSION AS OF 0;\n",
    " DESCRIBE HISTORY customers;"
   ]
  }
 ],
 "metadata": {
  "application/vnd.databricks.v1+notebook": {
   "computePreferences": null,
   "dashboards": [],
   "environmentMetadata": null,
   "inputWidgetPreferences": null,
   "language": "sql",
   "notebookMetadata": {
    "sqlQueryOptions": {
     "applyAutoLimit": true,
     "catalog": "labuser9837865_1743753657",
     "schema": "dawd_v2"
    }
   },
   "notebookName": "07 Views and Time Travel.dbquery.ipynb",
   "widgets": {}
  },
  "language_info": {
   "name": "sql"
  }
 },
 "nbformat": 4,
 "nbformat_minor": 0
}
