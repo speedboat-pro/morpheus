{
 "cells": [
  {
   "cell_type": "code",
   "execution_count": 0,
   "metadata": {
    "application/vnd.databricks.v1+cell": {
     "cellMetadata": {},
     "inputWidgets": {},
     "nuid": "a093a312-1b12-4eec-9ca5-cf8421a3a335",
     "showTitle": false,
     "tableResultSettingsMap": {},
     "title": ""
    }
   },
   "outputs": [],
   "source": [
    "SELECT\n",
    "  c.customer_id cid_from_customers\n",
    "  ,c.state\n",
    "FROM\n",
    "  customers c\n",
    "    ANTI JOIN sales s\n",
    "      ON c.customer_id = s.customer_id\n",
    "ORDER BY cid_from_customers;\n",
    "\n",
    "\n"
   ]
  }
 ],
 "metadata": {
  "application/vnd.databricks.v1+notebook": {
   "computePreferences": null,
   "dashboards": [],
   "environmentMetadata": null,
   "inputWidgetPreferences": null,
   "language": "sql",
   "notebookMetadata": {
    "pythonIndentUnit": 4,
    "sqlQueryOptions": {
     "applyAutoLimit": true,
     "catalog": "labuser8664401_1745330262",
     "schema": "dawd_v2"
    }
   },
   "notebookName": "B4 Anti Join Example.dbquery.ipynb",
   "widgets": {}
  },
  "language_info": {
   "name": "sql"
  }
 },
 "nbformat": 4,
 "nbformat_minor": 0
}
