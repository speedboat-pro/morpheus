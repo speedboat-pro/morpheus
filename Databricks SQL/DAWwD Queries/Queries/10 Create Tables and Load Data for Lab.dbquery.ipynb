{
 "cells": [
  {
   "cell_type": "code",
   "execution_count": 0,
   "metadata": {
    "application/vnd.databricks.v1+cell": {
     "cellMetadata": {
      "byteLimit": 10485760,
      "rowLimit": 1000
     },
     "inputWidgets": {},
     "nuid": "6cd0ea11-5142-4b2f-a1e4-ab40363cc576",
     "showTitle": false,
     "tableResultSettingsMap": {},
     "title": ""
    }
   },
   "outputs": [],
   "source": [
    " DROP TABLE IF EXISTS sales_orders;\n",
    " CREATE TABLE sales_orders AS\n",
    " SELECT\n",
    "   *\n",
    " FROM\n",
    " delta.`wasbs://courseware@dbacademy.blob.core.windows.net/data-analysis-with-databricks/v03/retail-org/sales_orders/sales_orders_delta`;"
   ]
  }
 ],
 "metadata": {
  "application/vnd.databricks.v1+notebook": {
   "computePreferences": null,
   "dashboards": [],
   "environmentMetadata": null,
   "inputWidgetPreferences": null,
   "language": "sql",
   "notebookMetadata": {
    "sqlQueryOptions": {
     "applyAutoLimit": true,
     "catalog": "labuser9837865_1743753657",
     "schema": "dawd_v2"
    }
   },
   "notebookName": "10 Create Tables and Load Data for Lab.dbquery.ipynb",
   "widgets": {}
  },
  "language_info": {
   "name": "sql"
  }
 },
 "nbformat": 4,
 "nbformat_minor": 0
}
