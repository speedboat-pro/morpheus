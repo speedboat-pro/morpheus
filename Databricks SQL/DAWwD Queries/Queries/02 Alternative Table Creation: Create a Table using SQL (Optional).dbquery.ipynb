{
 "cells": [
  {
   "cell_type": "code",
   "execution_count": 0,
   "metadata": {
    "application/vnd.databricks.v1+cell": {
     "cellMetadata": {
      "byteLimit": 10485760,
      "rowLimit": 1000
     },
     "inputWidgets": {},
     "nuid": "7055f184-0c71-4395-9219-7b2b9fb76900",
     "showTitle": false,
     "tableResultSettingsMap": {},
     "title": ""
    }
   },
   "outputs": [],
   "source": [
    "-- Create or replace the table 'csv_bronze' to read the raw CSV data into a temporary table\n",
    "  CREATE\n",
    "  OR REPLACE TABLE csv_bronze AS\n",
    "  SELECT\n",
    "    *\n",
    "  FROM\n",
    "    read_files(\n",
    "      \"/Volumes/dbacademy/dawd_v2/importing/data.csv\",\n",
    "      format => \"csv\",\n",
    "      header => false,\n",
    "      skipRows => 1,\n",
    "      escape => '\"',\n",
    "      -- reads the quoted json string as a single column\n",
    "      inferSchema => false -- I'll create my own schema in the next query\n",
    "    );\n",
    "\n",
    "  -- Create or replace the 'customers' table with a custom schema by casting specific columns\n",
    "  CREATE\n",
    "    OR REPLACE TABLE customers_alt AS\n",
    "  SELECT\n",
    "    CAST(_c13 AS BIGINT) customer_id,\n",
    "    CAST(_c14 AS DOUBLE) tax_id,\n",
    "    _c15 AS tax_code,\n",
    "    _c16 AS customer_name,\n",
    "    _c17 AS state,\n",
    "    _c18 AS city,\n",
    "    _c19 AS postcode,\n",
    "    _c20 AS street,\n",
    "    _c21 AS number,\n",
    "    _c22 AS unit,\n",
    "    _c23 AS region,\n",
    "    _c24 AS district,\n",
    "    CAST(_c25 AS DOUBLE) lon,\n",
    "    CAST(_c26 AS DOUBLE) lat,\n",
    "    _c27 AS ship_to_address,\n",
    "    CAST(_c28 AS BIGINT) valid_from,\n",
    "    CAST(_c29 AS DOUBLE) valid_to,\n",
    "    CAST(_c30 AS DOUBLE) units_purchased,\n",
    "    CAST(_c31 AS BIGINT) loyalty_segment\n",
    "  FROM\n",
    "    csv_bronze\n",
    "  where\n",
    "    _c0 IS NULL\n",
    "    AND _C8 IS NULL;\n",
    "\n",
    "  -- Create or replace the 'sales' table with a custom schema by casting specific columns\n",
    "  CREATE\n",
    "    OR REPLACE TABLE sales_alt AS\n",
    "  SELECT\n",
    "    CAST(_c1 AS BIGINT) customer_id,\n",
    "    _c2 AS customer_name,\n",
    "    _c3 AS product_name,\n",
    "    CAST(_c4 AS DATE) order_date,\n",
    "    _c5 AS product_category,\n",
    "    _c6 AS product,\n",
    "    CAST(_c7 AS DOUBLE) total_price\n",
    "  FROM\n",
    "    csv_bronze\n",
    "  WHERE\n",
    "    _c0 = 'sales';"
   ]
  }
 ],
 "metadata": {
  "application/vnd.databricks.v1+notebook": {
   "computePreferences": null,
   "dashboards": [],
   "environmentMetadata": null,
   "inputWidgetPreferences": null,
   "language": "sql",
   "notebookMetadata": {
    "pythonIndentUnit": 4,
    "sqlQueryOptions": {
     "applyAutoLimit": true,
     "catalog": "labuser9837865_1743753657",
     "schema": "dawd_v2"
    }
   },
   "notebookName": "02 Alternative Table Creation: Create a Table using SQL (Optional).dbquery.ipynb",
   "widgets": {}
  },
  "language_info": {
   "name": "sql"
  }
 },
 "nbformat": 4,
 "nbformat_minor": 0
}
