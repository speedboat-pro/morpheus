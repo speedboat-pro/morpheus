{
 "cells": [
  {
   "cell_type": "code",
   "execution_count": 0,
   "metadata": {
    "application/vnd.databricks.v1+cell": {
     "cellMetadata": {
      "byteLimit": 10485760,
      "rowLimit": 1000
     },
     "inputWidgets": {},
     "nuid": "89d55e38-fa1f-4d3b-8108-540a83c309f9",
     "showTitle": false,
     "tableResultSettingsMap": {},
     "title": ""
    }
   },
   "outputs": [
    {
     "output_type": "display_data",
     "data": {
      "text/plain": [
       "Databricks visualization. Run in Databricks to view."
      ]
     },
     "metadata": {
      "application/vnd.databricks.v1.subcommand+json": {
       "baseErrorDetails": null,
       "bindings": {},
       "collapsed": false,
       "command": "%sql WITH q AS (SELECT\n   customer_name,\n   total_price AS Total_Sales,\n   date_format(order_date, \"MM\") AS Month,\n   product_category\n FROM\n   sales\n WHERE\n   order_date >= to_date('2019-08-01')\n AND order_date <= to_date('2019-10-31')) SELECT `Month`,SUM(`Total_Sales`) `column_c64daad0343`,COUNT(`Total_Sales`) `column_c64daad0346` FROM q GROUP BY `Month`",
       "commandTitle": "Sales by Month",
       "commandType": "auto",
       "commandVersion": 0,
       "commentThread": [],
       "commentsVisible": false,
       "contentSha256Hex": null,
       "customPlotOptions": {
        "redashChart": [
         {
          "key": "type",
          "value": "CHART"
         },
         {
          "key": "options",
          "value": {
           "alignYAxesAtZero": true,
           "coefficient": 1,
           "columnConfigurationMap": {
            "x": {
             "column": "Month",
             "id": "column_c64daad0341"
            },
            "y": [
             {
              "column": "Total_Sales",
              "id": "column_c64daad0343",
              "transform": "SUM"
             },
             {
              "column": "Total_Sales",
              "id": "column_c64daad0346",
              "transform": "COUNT"
             }
            ]
           },
           "dateTimeFormat": "DD/MM/YYYY HH:mm",
           "direction": {
            "type": "counterclockwise"
           },
           "error_y": {
            "type": "data",
            "visible": true
           },
           "globalSeriesType": "combo",
           "isAggregationOn": true,
           "legend": {
            "traceorder": "normal"
           },
           "missingValuesAsZero": true,
           "numberFormat": "0,0.[00000]",
           "percentFormat": "0[.]00%",
           "series": {
            "error_y": {
             "type": "data",
             "visible": true
            },
            "stacking": null
           },
           "seriesOptions": {
            "column_c64daad0343": {
             "name": "Total Sales",
             "type": "column",
             "yAxis": 0
            },
            "column_c64daad0346": {
             "name": "Number of Sales",
             "type": "line",
             "yAxis": 1
            }
           },
           "showDataLabels": false,
           "sizemode": "diameter",
           "sortX": true,
           "sortY": true,
           "swappedAxes": false,
           "textFormat": "",
           "useAggregationsUi": true,
           "valuesOptions": {},
           "version": 2,
           "xAxis": {
            "labels": {
             "enabled": true
            },
            "type": "-"
           },
           "yAxis": [
            {
             "type": "logarithmic"
            },
            {
             "opposite": true,
             "type": "-"
            }
           ]
          }
         }
        ]
       },
       "datasetPreviewNameToCmdIdMap": {},
       "diffDeletes": [],
       "diffInserts": [],
       "displayType": "redashChart",
       "error": null,
       "errorDetails": null,
       "errorSummary": null,
       "errorTraceType": null,
       "finishTime": 0,
       "globalVars": {},
       "guid": "",
       "height": "auto",
       "hideCommandCode": false,
       "hideCommandResult": false,
       "iPythonMetadata": null,
       "inputWidgets": {},
       "isLockedInExamMode": false,
       "latestUser": "a user",
       "latestUserId": null,
       "listResultMetadata": null,
       "metadata": {},
       "nuid": "8ef9db83-da78-416e-9aa1-ca5ae469fb95",
       "origId": 0,
       "parentHierarchy": [],
       "pivotAggregation": null,
       "pivotColumns": null,
       "position": 3.0,
       "resultDbfsErrorMessage": null,
       "resultDbfsStatus": "INLINED_IN_TREE",
       "results": null,
       "showCommandTitle": false,
       "startTime": 0,
       "state": "input",
       "streamStates": {},
       "subcommandOptions": {
        "queryPlan": {
         "groups": [
          {
           "column": "Month",
           "type": "column"
          }
         ],
         "selects": [
          {
           "column": "Month",
           "type": "column"
          },
          {
           "alias": "column_c64daad0343",
           "args": [
            {
             "column": "Total_Sales",
             "type": "column"
            }
           ],
           "function": "SUM",
           "type": "function"
          },
          {
           "alias": "column_c64daad0346",
           "args": [
            {
             "column": "Total_Sales",
             "type": "column"
            }
           ],
           "function": "COUNT",
           "type": "function"
          }
         ]
        },
        "redashId": "cd50ac26-261d-46e0-bcfb-b3c8eef26414",
        "redashLastUpdated": 1743757395000
       },
       "submitTime": 0,
       "subtype": "tableResultSubCmd.visualization",
       "tableResultIndex": 0,
       "tableResultSettingsMap": {},
       "useConsistentColors": false,
       "version": "CommandV1",
       "width": "auto",
       "workflows": null,
       "xColumns": null,
       "yColumns": null
      }
     },
     "output_type": "display_data"
    }
   ],
   "source": [
    " SELECT\n",
    "   customer_name,\n",
    "   total_price AS Total_Sales,\n",
    "   date_format(order_date, \"MM\") AS Month,\n",
    "   product_category\n",
    " FROM\n",
    "   sales\n",
    " WHERE\n",
    "   order_date >= to_date('2019-08-01')\n",
    " AND order_date <= to_date('2019-10-31');"
   ]
  }
 ],
 "metadata": {
  "application/vnd.databricks.v1+notebook": {
   "computePreferences": null,
   "dashboards": [],
   "environmentMetadata": null,
   "inputWidgetPreferences": null,
   "language": "sql",
   "notebookMetadata": {
    "sqlQueryOptions": {
     "applyAutoLimit": true,
     "catalog": "labuser9837865_1743753657",
     "schema": "dawd_v2"
    }
   },
   "notebookName": "09 Sales over three months.dbquery.ipynb",
   "widgets": {}
  },
  "language_info": {
   "name": "sql"
  }
 },
 "nbformat": 4,
 "nbformat_minor": 0
}
