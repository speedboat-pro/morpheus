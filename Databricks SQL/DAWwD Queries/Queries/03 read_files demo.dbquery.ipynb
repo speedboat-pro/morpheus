{
 "cells": [
  {
   "cell_type": "code",
   "execution_count": 0,
   "metadata": {
    "application/vnd.databricks.v1+cell": {
     "cellMetadata": {
      "byteLimit": 10485760,
      "rowLimit": 1000
     },
     "inputWidgets": {},
     "nuid": "2fa2f8ab-530a-498a-9bfc-f56e83bf7a2a",
     "showTitle": false,
     "tableResultSettingsMap": {},
     "title": ""
    }
   },
   "outputs": [],
   "source": [
    "\n",
    "SELECT * from csv.`/Volumes/labuser9837865_1743753657/dawd_v2/import/data.csv`\n",
    "\n",
    "CREATE TABLE volume_data AS\n",
    "SELECT * from read_files ('/Volumes/labuser9837865_1743753657/dawd_v2/import/data.csv',\n",
    "      format => \"csv\",\n",
    "      header => true,\n",
    "     inferSchema => true \n",
    ")"
   ]
  }
 ],
 "metadata": {
  "application/vnd.databricks.v1+notebook": {
   "computePreferences": null,
   "dashboards": [],
   "environmentMetadata": null,
   "inputWidgetPreferences": null,
   "language": "sql",
   "notebookMetadata": {
    "pythonIndentUnit": 4,
    "sqlQueryOptions": {
     "applyAutoLimit": true,
     "catalog": "labuser9837865_1743753657",
     "schema": "dawd_v2"
    }
   },
   "notebookName": "03 read_files demo.dbquery.ipynb",
   "widgets": {}
  },
  "language_info": {
   "name": "sql"
  }
 },
 "nbformat": 4,
 "nbformat_minor": 0
}
