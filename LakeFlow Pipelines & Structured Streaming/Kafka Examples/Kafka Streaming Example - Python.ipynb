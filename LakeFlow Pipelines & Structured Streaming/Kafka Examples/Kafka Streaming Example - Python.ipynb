{
 "cells": [
  {
   "cell_type": "markdown",
   "metadata": {
    "application/vnd.databricks.v1+cell": {
     "cellMetadata": {},
     "inputWidgets": {},
     "nuid": "9045f85b-f381-4e9a-96b2-b2c7879c4bca",
     "showTitle": false,
     "tableResultSettingsMap": {},
     "title": ""
    }
   },
   "source": [
    "[Original Source](https://docs.databricks.com/aws/en/connect/streaming/kafka#example)"
   ]
  },
  {
   "cell_type": "code",
   "execution_count": 0,
   "metadata": {
    "application/vnd.databricks.v1+cell": {
     "cellMetadata": {},
     "inputWidgets": {},
     "nuid": "51cd4d1a-8faa-4301-9274-f5b818255211",
     "showTitle": false,
     "tableResultSettingsMap": {},
     "title": ""
    }
   },
   "outputs": [],
   "source": [
    "# This is the only section you need to modify for auth purposes!\n",
    "# ------------------------------\n",
    "tenant_id = \"...\"\n",
    "client_id = \"...\"\n",
    "client_secret = dbutils.secrets.get(\"your-scope\", \"your-secret-name\")\n",
    "\n",
    "event_hubs_server = \"...\"\n",
    "event_hubs_topic = \"...\"\n",
    "# -------------------------------\n",
    "\n",
    "sasl_config = f'kafkashaded.org.apache.kafka.common.security.oauthbearer.OAuthBearerLoginModule required clientId=\"{client_id}\" clientSecret=\"{client_secret}\" scope=\"https://{event_hubs_server}/.default\" ssl.protocol=\"SSL\";'\n",
    "\n",
    "kafka_options = {\n",
    "# Port 9093 is the EventHubs Kafka port\n",
    "\"kafka.bootstrap.servers\": f\"{event_hubs_server}:9093\",\n",
    "\"kafka.sasl.jaas.config\": sasl_config,\n",
    "\"kafka.sasl.oauthbearer.token.endpoint.url\": f\"https://login.microsoft.com/{tenant_id}/oauth2/v2.0/token\",\n",
    "\"subscribe\": event_hubs_topic,\n",
    "\n",
    "# You should not need to modify these\n",
    "\"kafka.security.protocol\": \"SASL_SSL\",\n",
    "\"kafka.sasl.mechanism\": \"OAUTHBEARER\",\n",
    "\"kafka.sasl.login.callback.handler.class\": \"kafkashaded.org.apache.kafka.common.security.oauthbearer.secured.OAuthBearerLoginCallbackHandler\"\n",
    "}\n",
    "\n",
    "df = spark.readStream.format(\"kafka\").options(**kafka_options)\n",
    "\n",
    "display(df)"
   ]
  }
 ],
 "metadata": {
  "application/vnd.databricks.v1+notebook": {
   "computePreferences": null,
   "dashboards": [],
   "environmentMetadata": {
    "base_environment": "",
    "environment_version": "4"
   },
   "inputWidgetPreferences": null,
   "language": "python",
   "notebookMetadata": {
    "pythonIndentUnit": 4
   },
   "notebookName": "Kafka Streaming Example - Python",
   "widgets": {}
  },
  "language_info": {
   "name": "python"
  }
 },
 "nbformat": 4,
 "nbformat_minor": 0
}
