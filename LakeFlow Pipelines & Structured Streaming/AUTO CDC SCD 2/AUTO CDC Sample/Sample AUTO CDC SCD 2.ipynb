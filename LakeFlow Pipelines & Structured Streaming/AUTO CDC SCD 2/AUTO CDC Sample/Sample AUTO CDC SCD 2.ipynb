{
 "cells": [
  {
   "cell_type": "code",
   "execution_count": 0,
   "metadata": {
    "application/vnd.databricks.v1+cell": {
     "cellMetadata": {
      "byteLimit": 2048000,
      "rowLimit": 10000
     },
     "inputWidgets": {},
     "nuid": "dccd48ed-ad5b-40e2-a692-5d3f74049aa7",
     "showTitle": false,
     "tableResultSettingsMap": {},
     "title": ""
    }
   },
   "outputs": [],
   "source": [
    "CREATE OR REFRESH STREAMING TABLE cdf_bronze2 AS\n",
    "SELECT * FROM STREAM cdf_bronze_tbl"
   ]
  },
  {
   "cell_type": "code",
   "execution_count": 0,
   "metadata": {
    "application/vnd.databricks.v1+cell": {
     "cellMetadata": {},
     "inputWidgets": {},
     "nuid": "f376a505-f116-4f6e-850f-f4e9079187bc",
     "showTitle": false,
     "tableResultSettingsMap": {},
     "title": ""
    }
   },
   "outputs": [],
   "source": [
    "CREATE OR REFRESH STREAMING TABLE emp_silver_streaming\n",
    "  COMMENT 'SCD Type 2 Historical Customer Data';"
   ]
  },
  {
   "cell_type": "code",
   "execution_count": 0,
   "metadata": {
    "application/vnd.databricks.v1+cell": {
     "cellMetadata": {},
     "inputWidgets": {},
     "nuid": "83db3a10-afe6-4fe7-be32-5f5afe922148",
     "showTitle": false,
     "tableResultSettingsMap": {},
     "title": ""
    }
   },
   "outputs": [],
   "source": [
    "CREATE FLOW new_scd_type_2_flow AS \n",
    "AUTO CDC INTO emp_silver_streaming -- Target table to update with SCD Type 1 (or 2)\n",
    "FROM STREAM  cdf_bronze2  -- Source records to determine updates, deletes and inserts\n",
    "  KEYS (EmployeeID)                              -- Primary key for identifying records\n",
    "  APPLY AS DELETE WHEN changetype = \"delete\"       -- Handle deletes from source to the target\n",
    "  SEQUENCE BY commit_timestamp                  -- Defines order of operations for applying changes\n",
    "  COLUMNS * EXCEPT (changetype, commit_timestamp)     -- Select columns and exclude metadata fields\n",
    "  STORED AS SCD TYPE 2;      -- Use Slowly Changing Dimension Type 1 to update the target table (no historical information)"
   ]
  }
 ],
 "metadata": {
  "application/vnd.databricks.v1+notebook": {
   "computePreferences": null,
   "dashboards": [],
   "environmentMetadata": {
    "base_environment": "",
    "environment_version": "4"
   },
   "inputWidgetPreferences": null,
   "language": "sql",
   "notebookMetadata": {
    "pythonIndentUnit": 4
   },
   "notebookName": "Sample AUTO CDC SCD 2",
   "widgets": {}
  },
  "language_info": {
   "name": "sql"
  }
 },
 "nbformat": 4,
 "nbformat_minor": 0
}
