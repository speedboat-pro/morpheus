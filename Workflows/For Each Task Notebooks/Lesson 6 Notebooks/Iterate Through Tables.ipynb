{
 "cells": [
  {
   "cell_type": "code",
   "execution_count": 0,
   "metadata": {
    "application/vnd.databricks.v1+cell": {
     "cellMetadata": {
      "byteLimit": 2048000,
      "rowLimit": 10000
     },
     "inputWidgets": {},
     "nuid": "edb5b33e-7af8-451e-a9fe-19efead633eb",
     "showTitle": false,
     "tableResultSettingsMap": {},
     "title": ""
    }
   },
   "outputs": [],
   "source": [
    "table_name = dbutils.widgets.get(\"table_name\")\n",
    "catalog = dbutils.widgets.get(\"catalog\")\n",
    "schema = dbutils.widgets.get(\"schema\")"
   ]
  },
  {
   "cell_type": "code",
   "execution_count": 0,
   "metadata": {
    "application/vnd.databricks.v1+cell": {
     "cellMetadata": {},
     "inputWidgets": {},
     "nuid": "366f9bb1-ee20-49c0-b723-e02b16c14ae1",
     "showTitle": false,
     "tableResultSettingsMap": {},
     "title": ""
    }
   },
   "outputs": [],
   "source": [
    "spark.sql(f\"use {catalog}.{schema}\")"
   ]
  },
  {
   "cell_type": "code",
   "execution_count": 0,
   "metadata": {
    "application/vnd.databricks.v1+cell": {
     "cellMetadata": {
      "byteLimit": 2048000,
      "implicitDf": true,
      "rowLimit": 10000
     },
     "inputWidgets": {},
     "nuid": "36ba4424-ee56-46e5-ab62-346fc8fb12c1",
     "showTitle": false,
     "tableResultSettingsMap": {},
     "title": ""
    }
   },
   "outputs": [],
   "source": [
    "\n",
    "display(spark.sql(f\"select * from {table_name} limit 100\"))"
   ]
  },
  {
   "cell_type": "code",
   "execution_count": 0,
   "metadata": {
    "application/vnd.databricks.v1+cell": {
     "cellMetadata": {
      "byteLimit": 2048000,
      "rowLimit": 10000
     },
     "inputWidgets": {},
     "nuid": "9eaea886-4e86-46dc-83ee-44eee225ec48",
     "showTitle": false,
     "tableResultSettingsMap": {},
     "title": ""
    }
   },
   "outputs": [],
   "source": [
    "# df = spark.sql(\"show tables\").select(\"tableName\").collect()\n",
    "\n",
    "# table_list = [str(r[0]) for r in df][:-1]\n",
    "# import json\n",
    "\n",
    "# json_data = json.dumps(table_list)\n",
    "\n",
    "# # Display the JSON data\n",
    "# print(json_data)"
   ]
  },
  {
   "cell_type": "code",
   "execution_count": 0,
   "metadata": {
    "application/vnd.databricks.v1+cell": {
     "cellMetadata": {},
     "inputWidgets": {},
     "nuid": "1dbc416d-f72f-4d85-a826-2c03643d0afb",
     "showTitle": false,
     "tableResultSettingsMap": {},
     "title": ""
    }
   },
   "outputs": [],
   "source": [
    "sample_job_config = \"\"\"\n",
    "{\n",
    "  \"job_id\": 119301071691272,\n",
    "  \"creator_user_name\": \"labuser9200150_1739977067@vocareum.com\",\n",
    "  \"run_as_user_name\": \"labuser9200150_1739977067@vocareum.com\",\n",
    "  \"run_as_owner\": true,\n",
    "  \"settings\": {\n",
    "    \"name\": \"New Job Feb 24, 2025, 01:11 PM\",\n",
    "    \"email_notifications\": {\n",
    "      \"no_alert_for_skipped_runs\": false\n",
    "    },\n",
    "    \"webhook_notifications\": {},\n",
    "    \"timeout_seconds\": 0,\n",
    "    \"max_concurrent_runs\": 1,\n",
    "    \"tasks\": [\n",
    "      {\n",
    "        \"task_key\": \"For_Each\",\n",
    "        \"run_if\": \"ALL_SUCCESS\",\n",
    "        \"for_each_task\": {\n",
    "          \"inputs\": \"[\\\"customer\\\",\\\"lineitem\\\",\\\"nation\\\",\\\"orders\\\",\\\"part\\\",\\\"partsupp\\\",\\\"region\\\",\\\"supplier\\\"]\",\n",
    "          \"task\": {\n",
    "            \"task_key\": \"For_Each_iteration\",\n",
    "            \"run_if\": \"ALL_SUCCESS\",\n",
    "            \"notebook_task\": {\n",
    "              \"notebook_path\": \"/Workspace/Users/labuser9200150_1739977067@vocareum.com/deploy-workloads-with-databricks-workflows-2.0.1/Deploy Workloads with Databricks Workflows/Bonus: For-Each Loop\",\n",
    "              \"base_parameters\": {\n",
    "                \"table_name\": \"{{input}}\"\n",
    "              },\n",
    "              \"source\": \"WORKSPACE\"\n",
    "            },\n",
    "            \"timeout_seconds\": 0,\n",
    "            \"email_notifications\": {},\n",
    "            \"webhook_notifications\": {}\n",
    "          }\n",
    "        },\n",
    "        \"timeout_seconds\": 0,\n",
    "        \"email_notifications\": {},\n",
    "        \"webhook_notifications\": {}\n",
    "      }\n",
    "    ],\n",
    "    \"format\": \"MULTI_TASK\",\n",
    "    \"queue\": {\n",
    "      \"enabled\": true\n",
    "    }\n",
    "  },\n",
    "  \"created_time\": 1740420689964\n",
    "}\n",
    "\"\"\""
   ]
  }
 ],
 "metadata": {
  "application/vnd.databricks.v1+notebook": {
   "computePreferences": null,
   "dashboards": [],
   "environmentMetadata": {
    "base_environment": "",
    "environment_version": "2"
   },
   "language": "python",
   "notebookMetadata": {
    "mostRecentlyExecutedCommandWithImplicitDF": {
     "commandId": -1,
     "dataframes": [
      "_sqldf"
     ]
    },
    "pythonIndentUnit": 4
   },
   "notebookName": "Iterate Through Tables",
   "widgets": {
    "catalog": {
     "currentValue": "samples",
     "nuid": "959b427d-3dda-4b92-a73e-a29da0dd864f",
     "typedWidgetInfo": {
      "autoCreated": false,
      "defaultValue": "samples",
      "label": "",
      "name": "catalog",
      "options": {
       "widgetDisplayType": "Text",
       "validationRegex": null
      },
      "parameterDataType": "String"
     },
     "widgetInfo": {
      "widgetType": "text",
      "defaultValue": "samples",
      "label": "",
      "name": "catalog",
      "options": {
       "widgetType": "text",
       "autoCreated": false,
       "validationRegex": null
      }
     }
    },
    "schema": {
     "currentValue": "tpch",
     "nuid": "02511545-18c9-4085-be05-49ce253ba45b",
     "typedWidgetInfo": {
      "autoCreated": false,
      "defaultValue": "tpch",
      "label": "",
      "name": "schema",
      "options": {
       "widgetDisplayType": "Text",
       "validationRegex": null
      },
      "parameterDataType": "String"
     },
     "widgetInfo": {
      "widgetType": "text",
      "defaultValue": "tpch",
      "label": "",
      "name": "schema",
      "options": {
       "widgetType": "text",
       "autoCreated": false,
       "validationRegex": null
      }
     }
    },
    "table_name": {
     "currentValue": "orders",
     "nuid": "02824dc7-5707-428d-b018-fae32fa868d1",
     "typedWidgetInfo": {
      "autoCreated": false,
      "defaultValue": "corders",
      "label": "",
      "name": "table_name",
      "options": {
       "widgetDisplayType": "Text",
       "validationRegex": null
      },
      "parameterDataType": "String"
     },
     "widgetInfo": {
      "widgetType": "text",
      "defaultValue": "corders",
      "label": "",
      "name": "table_name",
      "options": {
       "widgetType": "text",
       "autoCreated": false,
       "validationRegex": null
      }
     }
    }
   }
  },
  "language_info": {
   "name": "python"
  }
 },
 "nbformat": 4,
 "nbformat_minor": 0
}
