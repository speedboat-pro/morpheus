{
 "cells": [
  {
   "cell_type": "markdown",
   "metadata": {
    "application/vnd.databricks.v1+cell": {
     "cellMetadata": {
      "byteLimit": 2048000,
      "rowLimit": 10000
     },
     "inputWidgets": {},
     "nuid": "3200157f-3d34-49ed-a2cd-a924cf587340",
     "showTitle": false,
     "tableResultSettingsMap": {},
     "title": ""
    }
   },
   "source": [
    "## `ai_query` and Serving Endpoint\n",
    "\n",
    "### Setup\n",
    "You will need to run this in the 4.2 Demo Notebook:\n",
    "\n",
    "\n",
    "```\n",
    "\n",
    "\n",
    "telco_df.write.format(\"delta\").saveAsTable(\"dbacademy.labuser10531593_1755786160.telco_input\")\n",
    "\n",
    "\n",
    "```"
   ]
  },
  {
   "cell_type": "code",
   "execution_count": 0,
   "metadata": {
    "application/vnd.databricks.v1+cell": {
     "cellMetadata": {
      "byteLimit": 2048000,
      "rowLimit": 10000
     },
     "inputWidgets": {},
     "nuid": "c5d6e58e-9ff7-4b54-89a6-fc565fe59f7a",
     "showTitle": false,
     "tableResultSettingsMap": {},
     "title": ""
    }
   },
   "outputs": [],
   "source": [
    "USE CATALOG IDENTIFIER(:catalog);\n",
    "USE SCHEMA IDENTIFIER(:schema);"
   ]
  },
  {
   "cell_type": "code",
   "execution_count": 0,
   "metadata": {
    "application/vnd.databricks.v1+cell": {
     "cellMetadata": {
      "byteLimit": 2048000,
      "rowLimit": 10000
     },
     "inputWidgets": {},
     "nuid": "590e8a81-c2be-4d86-bd05-988976416807",
     "showTitle": false,
     "tableResultSettingsMap": {},
     "title": ""
    }
   },
   "outputs": [],
   "source": [
    "Select\n",
    "ai_query\n",
    "(\n",
    "  'ML_AS_03_Demo4_Custom_labuser10531593_1755786160'\n",
    "  ,\n",
    "    STRUCT(\n",
    "      SeniorCitizen\n",
    "      ,tenure\n",
    "      ,MonthlyCharges\n",
    "      ,TotalCharges\n",
    "      )\n",
    ")\n",
    "from telco_input\n"
   ]
  },
  {
   "cell_type": "code",
   "execution_count": 0,
   "metadata": {
    "application/vnd.databricks.v1+cell": {
     "cellMetadata": {
      "byteLimit": 2048000,
      "rowLimit": 10000
     },
     "inputWidgets": {},
     "nuid": "26b6b0f4-f3eb-48c6-b645-1b2efd1805be",
     "showTitle": false,
     "tableResultSettingsMap": {},
     "title": ""
    }
   },
   "outputs": [],
   "source": [
    "%python\n",
    "\n",
    "model_name=dbutils.widgets.get('catalog')\\\n",
    "    +'.'+dbutils.widgets.get('schema')\\\n",
    "    +'.'+dbutils.widgets.get('model')\n",
    "\n",
    "print(model_name)"
   ]
  },
  {
   "cell_type": "code",
   "execution_count": 0,
   "metadata": {
    "application/vnd.databricks.v1+cell": {
     "cellMetadata": {
      "byteLimit": 2048000,
      "rowLimit": 10000
     },
     "inputWidgets": {},
     "nuid": "40d1788f-2740-407a-a37d-8e8bc2c70d8e",
     "showTitle": false,
     "tableResultSettingsMap": {},
     "title": ""
    }
   },
   "outputs": [],
   "source": [
    "%python\n",
    "import mlflow\n",
    "model_uri = f\"models:/{model_name}/1\"\n",
    "pyfunc_udf = mlflow.pyfunc.spark_udf(spark, model_uri)\n",
    "spark.udf.register(\"telco_model_apply\", pyfunc_udf)"
   ]
  },
  {
   "cell_type": "code",
   "execution_count": 0,
   "metadata": {
    "application/vnd.databricks.v1+cell": {
     "cellMetadata": {
      "byteLimit": 2048000,
      "rowLimit": 10000
     },
     "inputWidgets": {},
     "nuid": "7b55962a-d7c9-41df-9674-e27a347af130",
     "showTitle": false,
     "tableResultSettingsMap": {
      "0": {
       "dataGridStateBlob": "{\"version\":1,\"tableState\":{\"columnPinning\":{\"left\":[\"#row_number#\"],\"right\":[]},\"columnSizing\":{},\"columnVisibility\":{}},\"settings\":{\"columns\":{}},\"syncTimestamp\":1755789086612}",
       "filterBlob": null,
       "queryPlanFiltersBlob": null,
       "tableResultIndex": 0
      }
     },
     "title": ""
    }
   },
   "outputs": [],
   "source": [
    "\n",
    "WITH base\n",
    "AS\n",
    "(\n",
    "  SELECT\n",
    "  *,\n",
    "  telco_model_apply\n",
    "  (\n",
    "      STRUCT(\n",
    "        SeniorCitizen\n",
    "        ,tenure\n",
    "        ,MonthlyCharges\n",
    "        ,TotalCharges\n",
    "        )\n",
    "  ) as predictions\n",
    "  from telco_input\n",
    ")\n",
    "SELECT \n",
    "    predictions.prob_No\n",
    "  , predictions.prob_Yes\n",
    "  , predictions.prediction\n",
    "  , *\n",
    "  EXCEPT (predictions) \n",
    "FROM base"
   ]
  },
  {
   "cell_type": "code",
   "execution_count": 0,
   "metadata": {
    "application/vnd.databricks.v1+cell": {
     "cellMetadata": {},
     "inputWidgets": {},
     "nuid": "26ec2f4e-49a7-4341-a0cc-fdd337c8fbbf",
     "showTitle": false,
     "tableResultSettingsMap": {},
     "title": ""
    }
   },
   "outputs": [],
   "source": []
  }
 ],
 "metadata": {
  "application/vnd.databricks.v1+notebook": {
   "computePreferences": null,
   "dashboards": [],
   "environmentMetadata": {
    "base_environment": "",
    "environment_version": "3"
   },
   "inputWidgetPreferences": null,
   "language": "sql",
   "notebookMetadata": {
    "pythonIndentUnit": 4
   },
   "notebookName": "Two Methods of ML Inference in Databricks SQL",
   "widgets": {
    "catalog": {
     "currentValue": "dbacademy",
     "nuid": "ab084de2-2360-4fae-abd0-1bbe0f12a0ba",
     "typedWidgetInfo": {
      "autoCreated": false,
      "defaultValue": "dbacademy",
      "label": "",
      "name": "catalog",
      "options": {
       "widgetDisplayType": "Text",
       "validationRegex": null
      },
      "parameterDataType": "String"
     },
     "widgetInfo": {
      "widgetType": "text",
      "defaultValue": "dbacademy",
      "label": "",
      "name": "catalog",
      "options": {
       "widgetType": "text",
       "autoCreated": false,
       "validationRegex": null
      }
     }
    },
    "endpoint": {
     "currentValue": "ML_AS_03_Demo4_Custom_labuser10531593_1755786160",
     "nuid": "8aa27427-e039-4b03-a8f1-6bfde15423b7",
     "typedWidgetInfo": {
      "autoCreated": false,
      "defaultValue": "",
      "label": "",
      "name": "endpoint",
      "options": {
       "widgetDisplayType": "Text",
       "validationRegex": null
      },
      "parameterDataType": "String"
     },
     "widgetInfo": {
      "widgetType": "text",
      "defaultValue": "",
      "label": "",
      "name": "endpoint",
      "options": {
       "widgetType": "text",
       "autoCreated": false,
       "validationRegex": null
      }
     }
    },
    "model": {
     "currentValue": "custom_ml_model",
     "nuid": "a4ce9573-0b46-4494-b753-a4d4f94d932a",
     "typedWidgetInfo": {
      "autoCreated": false,
      "defaultValue": "custom_ml_model",
      "label": "",
      "name": "model",
      "options": {
       "widgetDisplayType": "Text",
       "validationRegex": null
      },
      "parameterDataType": "String"
     },
     "widgetInfo": {
      "widgetType": "text",
      "defaultValue": "custom_ml_model",
      "label": "",
      "name": "model",
      "options": {
       "widgetType": "text",
       "autoCreated": false,
       "validationRegex": null
      }
     }
    },
    "schema": {
     "currentValue": "labuser10531593_1755786160",
     "nuid": "c98e1433-10fb-4aa4-acc1-0843039592da",
     "typedWidgetInfo": {
      "autoCreated": false,
      "defaultValue": "",
      "label": "",
      "name": "schema",
      "options": {
       "widgetDisplayType": "Text",
       "validationRegex": null
      },
      "parameterDataType": "String"
     },
     "widgetInfo": {
      "widgetType": "text",
      "defaultValue": "",
      "label": "",
      "name": "schema",
      "options": {
       "widgetType": "text",
       "autoCreated": false,
       "validationRegex": null
      }
     }
    }
   }
  },
  "language_info": {
   "name": "sql"
  }
 },
 "nbformat": 4,
 "nbformat_minor": 0
}
