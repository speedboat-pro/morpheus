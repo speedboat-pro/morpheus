{
 "cells": [
  {
   "cell_type": "code",
   "execution_count": 0,
   "metadata": {
    "application/vnd.databricks.v1+cell": {
     "cellMetadata": {
      "byteLimit": 10485760,
      "rowLimit": 1000
     },
     "inputWidgets": {},
     "nuid": "7dc9bbaa-0bd6-4a01-a766-0a560846b5bc",
     "showTitle": false,
     "tableResultSettingsMap": {},
     "title": ""
    }
   },
   "outputs": [
    {
     "output_type": "display_data",
     "data": {
      "text/plain": [
       "Databricks visualization. Run in Databricks to view."
      ]
     },
     "metadata": {
      "application/vnd.databricks.v1.subcommand+json": {
       "baseErrorDetails": null,
       "bindings": {},
       "collapsed": false,
       "command": "%sql WITH q AS (SELECT \ndate_add(YEAR, 9, tpep_pickup_datetime) AS `Pickup Time`,\ndate_add(YEAR, 9, tpep_dropoff_datetime) AS `Dropoff Time`,\ntrip_distance,\nfare_amount,\npickup_zip,\ndropoff_zip,\ndate_format(date_add(YEAR, 9, tpep_pickup_datetime), 'EEEE') AS `Day of week`\nFROM samples.nyctaxi.trips \nWHERE trip_distance > 0\nAND ( :DayOfWeek = date_format(date_add(YEAR, 9, tpep_pickup_datetime), 'EEEE') )) SELECT `Dropoff Time`,SUM(`fare_amount`) `column_95ddc9db290` FROM q GROUP BY `Dropoff Time`",
       "commandTitle": "Visualization 1",
       "commandType": "auto",
       "commandVersion": 0,
       "commentThread": [],
       "commentsVisible": false,
       "contentSha256Hex": null,
       "customPlotOptions": {
        "redashChart": [
         {
          "key": "type",
          "value": "CHART"
         },
         {
          "key": "options",
          "value": {
           "alignYAxesAtZero": true,
           "coefficient": 1,
           "columnConfigurationMap": {
            "x": {
             "column": "Dropoff Time",
             "id": "column_95ddc9db287"
            },
            "y": [
             {
              "column": "fare_amount",
              "id": "column_95ddc9db290",
              "transform": "SUM"
             }
            ]
           },
           "dateTimeFormat": "DD/MM/YYYY HH:mm",
           "direction": {
            "type": "counterclockwise"
           },
           "error_y": {
            "type": "data",
            "visible": true
           },
           "globalSeriesType": "column",
           "isAggregationOn": true,
           "legend": {
            "traceorder": "normal"
           },
           "missingValuesAsZero": true,
           "numberFormat": "0,0.[00000]",
           "percentFormat": "0[.]00%",
           "series": {
            "error_y": {
             "type": "data",
             "visible": true
            },
            "stacking": null
           },
           "seriesOptions": {
            "column_95ddc9db290": {
             "type": "column",
             "yAxis": 0
            }
           },
           "showDataLabels": false,
           "sizemode": "diameter",
           "sortX": true,
           "sortY": true,
           "swappedAxes": false,
           "textFormat": "",
           "useAggregationsUi": true,
           "valuesOptions": {},
           "version": 2,
           "xAxis": {
            "labels": {
             "enabled": true
            },
            "type": "-"
           },
           "yAxis": [
            {
             "type": "-"
            },
            {
             "opposite": true,
             "type": "-"
            }
           ]
          }
         }
        ]
       },
       "datasetPreviewNameToCmdIdMap": {},
       "diffDeletes": [],
       "diffInserts": [],
       "displayType": "redashChart",
       "error": null,
       "errorDetails": null,
       "errorSummary": null,
       "errorTraceType": null,
       "finishTime": 1758734263071,
       "globalVars": {},
       "guid": "",
       "height": "auto",
       "hideCommandCode": false,
       "hideCommandResult": false,
       "iPythonMetadata": null,
       "inputWidgets": {},
       "isLockedInExamMode": false,
       "latestAssumeRoleInfo": null,
       "latestUser": "a user",
       "latestUserId": null,
       "listResultMetadata": [
        [
         "table",
         1000
        ]
       ],
       "metadata": {
        "byteLimit": 10485760,
        "rowLimit": 1000
       },
       "nuid": "23183040-a6d3-4d0e-873c-ecd76ae0bd64",
       "origId": 0,
       "parentHierarchy": [],
       "pivotAggregation": null,
       "pivotColumns": null,
       "position": 2.0,
       "resultDbfsErrorMessage": null,
       "resultDbfsStatus": "INLINED_IN_TREE",
       "results": null,
       "showCommandTitle": false,
       "startTime": 1758734262438,
       "state": "input",
       "streamStates": {},
       "subcommandOptions": {
        "queryPlan": {
         "groups": [
          {
           "column": "Dropoff Time",
           "type": "column"
          }
         ],
         "selects": [
          {
           "column": "Dropoff Time",
           "type": "column"
          },
          {
           "alias": "column_95ddc9db290",
           "args": [
            {
             "column": "fare_amount",
             "type": "column"
            }
           ],
           "function": "SUM",
           "type": "function"
          }
         ]
        },
        "redashId": "821b9196-20fa-4fb7-9680-af320644efd4",
        "redashLastUpdated": 1758734298000
       },
       "submitTime": 1758734261962,
       "subtype": "tableResultSubCmd.visualization",
       "tableResultIndex": 0,
       "tableResultSettingsMap": {},
       "useConsistentColors": false,
       "version": "CommandV1",
       "width": "auto",
       "workflows": null,
       "xColumns": null,
       "yColumns": null
      }
     },
     "output_type": "display_data"
    },
    {
     "output_type": "display_data",
     "data": {
      "text/plain": [
       "Databricks visualization. Run in Databricks to view."
      ]
     },
     "metadata": {
      "application/vnd.databricks.v1.subcommand+json": {
       "baseErrorDetails": null,
       "bindings": {},
       "collapsed": false,
       "command": "SELECT \ndate_add(YEAR, 9, tpep_pickup_datetime) AS `Pickup Time`,\ndate_add(YEAR, 9, tpep_dropoff_datetime) AS `Dropoff Time`,\ntrip_distance,\nfare_amount,\npickup_zip,\ndropoff_zip,\ndate_format(date_add(YEAR, 9, tpep_pickup_datetime), 'EEEE') AS `Day of week`\nFROM samples.nyctaxi.trips \nWHERE trip_distance > 0\nAND ( :DayOfWeek = date_format(date_add(YEAR, 9, tpep_pickup_datetime), 'EEEE') )",
       "commandTitle": "Results",
       "commandType": "auto",
       "commandVersion": 0,
       "commentThread": [],
       "commentsVisible": false,
       "contentSha256Hex": null,
       "customPlotOptions": {
        "redashChart": [
         {
          "key": "type",
          "value": "TABLE"
         },
         {
          "key": "options",
          "value": {
           "version": 2
          }
         }
        ]
       },
       "datasetPreviewNameToCmdIdMap": {},
       "diffDeletes": [],
       "diffInserts": [],
       "displayType": "redashChart",
       "error": null,
       "errorDetails": null,
       "errorSummary": null,
       "errorTraceType": null,
       "finishTime": 0,
       "globalVars": {},
       "guid": "",
       "height": "auto",
       "hideCommandCode": false,
       "hideCommandResult": false,
       "iPythonMetadata": null,
       "inputWidgets": {},
       "isLockedInExamMode": false,
       "latestAssumeRoleInfo": null,
       "latestUser": "a user",
       "latestUserId": null,
       "listResultMetadata": null,
       "metadata": {},
       "nuid": "bb1f134d-b23e-4382-9131-7b7c7b25a6d5",
       "origId": 0,
       "parentHierarchy": [],
       "pivotAggregation": null,
       "pivotColumns": null,
       "position": 3.0,
       "resultDbfsErrorMessage": null,
       "resultDbfsStatus": "INLINED_IN_TREE",
       "results": null,
       "showCommandTitle": false,
       "startTime": 0,
       "state": "input",
       "streamStates": {},
       "subcommandOptions": {
        "redashId": "854bcbb4-2891-49b2-8329-397050e79aef",
        "redashLastUpdated": 1758734100000
       },
       "submitTime": 0,
       "subtype": "tableResultSubCmd.visualization",
       "tableResultIndex": 0,
       "tableResultSettingsMap": {},
       "useConsistentColors": false,
       "version": "CommandV1",
       "width": "auto",
       "workflows": null,
       "xColumns": null,
       "yColumns": null
      }
     },
     "output_type": "display_data"
    }
   ],
   "source": [
    "SELECT \n",
    "date_add(YEAR, 9, tpep_pickup_datetime) AS `Pickup Time`,\n",
    "date_add(YEAR, 9, tpep_dropoff_datetime) AS `Dropoff Time`,\n",
    "trip_distance,\n",
    "fare_amount,\n",
    "pickup_zip,\n",
    "dropoff_zip,\n",
    "date_format(date_add(YEAR, 9, tpep_pickup_datetime), 'EEEE') AS `Day of week`\n",
    "FROM samples.nyctaxi.trips \n",
    "WHERE trip_distance > 0\n",
    "AND ( :DayOfWeek = date_format(date_add(YEAR, 9, tpep_pickup_datetime), 'EEEE') )"
   ]
  }
 ],
 "metadata": {
  "application/vnd.databricks.v1+notebook": {
   "computePreferences": null,
   "dashboards": [],
   "environmentMetadata": null,
   "inputWidgetPreferences": null,
   "language": "sql",
   "notebookMetadata": {
    "pythonIndentUnit": 4,
    "sqlQueryOptions": {
     "applyAutoLimit": true,
     "catalog": "dbacademy",
     "schema": "default"
    }
   },
   "notebookName": "Sample Query.dbquery.ipynb",
   "widgets": {
    "DayOfWeek": {
     "currentComplexValue": {
      "valueType": "Array",
      "valueDelimiter": ",",
      "valuePrefix": "",
      "valueSuffix": "",
      "values": [
       "Saturday"
      ]
     },
     "currentValue": "",
     "nuid": "5bfeeccc-671e-49b2-97f4-e3ec7a7737ba",
     "typedWidgetInfo": {
      "autoCreated": false,
      "defaultComplexValue": {
       "valueType": "Array",
       "valueDelimiter": ",",
       "valuePrefix": "",
       "valueSuffix": "",
       "values": [
        "Sunday"
       ]
      },
      "defaultValue": "",
      "label": "",
      "name": "DayOfWeek",
      "options": {
       "widgetDisplayType": "Dropdown",
       "choices": [
        "Sunday",
        "Saturday"
       ],
       "fixedDomain": true,
       "multiselect": true
      },
      "parameterDataType": "String"
     },
     "widgetInfo": {
      "widgetType": "multiselect",
      "defaultValue": "Sunday",
      "label": "",
      "name": "DayOfWeek",
      "options": {
       "widgetType": "dropdown",
       "autoCreated": false,
       "choices": [
        "Sunday",
        "Saturday"
       ]
      }
     }
    }
   }
  },
  "language_info": {
   "name": "sql"
  }
 },
 "nbformat": 4,
 "nbformat_minor": 0
}
