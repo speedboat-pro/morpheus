{
 "cells": [
  {
   "cell_type": "markdown",
   "metadata": {
    "application/vnd.databricks.v1+cell": {
     "cellMetadata": {},
     "inputWidgets": {},
     "nuid": "952b958a-4d8a-4249-98da-dd45b16a08bb",
     "showTitle": false,
     "tableResultSettingsMap": {},
     "title": ""
    }
   },
   "source": [
    "\n",
    "<div style=\"text-align: center; line-height: 0; padding-top: 9px;\">\n",
    "  <img src=\"https://databricks.com/wp-content/uploads/2018/03/db-academy-rgb-1200px.png\" alt=\"Databricks Learning\">\n",
    "</div>\n"
   ]
  },
  {
   "cell_type": "markdown",
   "metadata": {
    "application/vnd.databricks.v1+cell": {
     "cellMetadata": {},
     "inputWidgets": {},
     "nuid": "0b56b635-fd25-46ff-a0b9-19af872821da",
     "showTitle": false,
     "tableResultSettingsMap": {},
     "title": ""
    }
   },
   "source": [
    "# Complex Transformations\n",
    "\n",
    "Querying tabular data stored in the data intelligence platform with Spark SQL is easy, efficient, and fast.\n",
    "\n",
    "This gets more complicated as the data structure becomes less regular, when many tables need to be used in a single query, or when the shape of data needs to be changed dramatically. This notebook introduces a number of functions present in Spark SQL to help engineers complete even the most complicated transformations.\n",
    "\n",
    "## Learning Objectives\n",
    "By the end of this lesson, you should be able to:\n",
    "- Use **`.`** and **`:`** syntax to query nested data\n",
    "- Parse JSON strings into structs\n",
    "- Flatten and unpack arrays and structs\n",
    "- Combine datasets using joins\n",
    "- Reshape data using pivot tables"
   ]
  },
  {
   "cell_type": "markdown",
   "metadata": {
    "application/vnd.databricks.v1+cell": {
     "cellMetadata": {},
     "inputWidgets": {},
     "nuid": "937a9459-10d6-4a5c-8f86-39f18c8b02ed",
     "showTitle": false,
     "tableResultSettingsMap": {},
     "title": ""
    }
   },
   "source": [
    "## REQUIRED - SELECT CLASSIC COMPUTE\n",
    "\n",
    "Before executing cells in this notebook, please select your classic compute cluster in the lab. Be aware that **Serverless** is enabled by default.\n",
    "\n",
    "Follow these steps to select the classic compute cluster:\n",
    "\n",
    "1. Navigate to the top-right of this notebook and click the drop-down menu to select your cluster. By default, the notebook will use **Serverless**.\n",
    "\n",
    "1. If your cluster is available, select it and continue to the next cell. If the cluster is not shown:\n",
    "\n",
    "  - In the drop-down, select **More**.\n",
    "\n",
    "  - In the **Attach to an existing compute resource** pop-up, select the first drop-down. You will see a unique cluster name in that drop-down. Please select that cluster.\n",
    "\n",
    "**NOTE:** If your cluster has terminated, you might need to restart it in order to select it. To do this:\n",
    "\n",
    "1. Right-click on **Compute** in the left navigation pane and select *Open in new tab*.\n",
    "\n",
    "1. Find the triangle icon to the right of your compute cluster name and click it.\n",
    "\n",
    "1. Wait a few minutes for the cluster to start.\n",
    "\n",
    "1. Once the cluster is running, complete the steps above to select your cluster."
   ]
  },
  {
   "cell_type": "markdown",
   "metadata": {
    "application/vnd.databricks.v1+cell": {
     "cellMetadata": {},
     "inputWidgets": {},
     "nuid": "f539a90d-06ea-4372-a201-0f064d544930",
     "showTitle": false,
     "tableResultSettingsMap": {},
     "title": ""
    }
   },
   "source": [
    "## Classroom Setup\n",
    "\n",
    "Run the following cell to configure your working environment for this course. It will also set your default catalog to **dbacademy** and the schema to your specific schema name shown below using the `USE` statements.\n",
    "<br></br>\n",
    "\n",
    "\n",
    "```\n",
    "USE CATALOG dbacademy;\n",
    "USE SCHEMA dbacademy.<your unique schema name>;\n",
    "```\n",
    "\n",
    "**NOTE:** The `DA` object is only used in Databricks Academy courses and is not available outside of these courses. It will dynamically reference the information needed to run the course."
   ]
  },
  {
   "cell_type": "code",
   "execution_count": 0,
   "metadata": {
    "application/vnd.databricks.v1+cell": {
     "cellMetadata": {
      "byteLimit": 2048000,
      "rowLimit": 10000
     },
     "inputWidgets": {},
     "nuid": "237e7a95-66a5-4d72-a8dc-637155efccf4",
     "showTitle": false,
     "tableResultSettingsMap": {},
     "title": ""
    }
   },
   "outputs": [],
   "source": [
    "USE ${catalog_name}.${schema_name}"
   ]
  },
  {
   "cell_type": "markdown",
   "metadata": {
    "application/vnd.databricks.v1+cell": {
     "cellMetadata": {},
     "inputWidgets": {},
     "nuid": "40e1150a-7777-4c4c-aa05-19816db4309a",
     "showTitle": false,
     "tableResultSettingsMap": {},
     "title": ""
    }
   },
   "source": [
    "\n",
    "## Data Overview\n",
    "\n",
    "The **`events_raw`** table was registered against data representing a Kafka payload. In most cases, Kafka data will be binary-encoded JSON values. \n",
    "\n",
    "Let's cast the **`key`** and **`value`** as strings to view these values in a human-readable format."
   ]
  },
  {
   "cell_type": "code",
   "execution_count": 0,
   "metadata": {
    "application/vnd.databricks.v1+cell": {
     "cellMetadata": {
      "byteLimit": 2048000,
      "rowLimit": 10000
     },
     "inputWidgets": {},
     "nuid": "6999e5ac-a539-48f9-adf6-ae0faefb5615",
     "showTitle": true,
     "tableResultSettingsMap": {},
     "title": "Note the two ways to code a CAST"
    }
   },
   "outputs": [],
   "source": [
    "CREATE OR REPLACE TEMP VIEW events_strings AS \n",
    "SELECT \n",
    "  CAST(key AS string) AS key,  string(value) \n",
    "FROM events_raw;\n",
    "\n",
    "\n",
    "\n",
    "SELECT * \n",
    "FROM events_strings LIMIT 10;"
   ]
  },
  {
   "cell_type": "markdown",
   "metadata": {
    "application/vnd.databricks.v1+cell": {
     "cellMetadata": {},
     "inputWidgets": {},
     "nuid": "d2b1f93b-7be6-497b-8a04-b46c60fa625d",
     "showTitle": false,
     "tableResultSettingsMap": {},
     "title": ""
    }
   },
   "source": [
    "As we can see from the results above, the data consists of a unique key and a JSON string of event data."
   ]
  },
  {
   "cell_type": "markdown",
   "metadata": {
    "application/vnd.databricks.v1+cell": {
     "cellMetadata": {},
     "inputWidgets": {},
     "nuid": "725a70b2-e7b4-4faa-b93b-4d1630e00463",
     "showTitle": false,
     "tableResultSettingsMap": {},
     "title": ""
    }
   },
   "source": [
    "## Convert STRING to VARIANT"
   ]
  },
  {
   "cell_type": "code",
   "execution_count": 0,
   "metadata": {
    "application/vnd.databricks.v1+cell": {
     "cellMetadata": {
      "byteLimit": 2048000,
      "rowLimit": 10000
     },
     "inputWidgets": {},
     "nuid": "2bedd60c-8c4e-4f48-ad31-f7f1a1b98db6",
     "showTitle": false,
     "tableResultSettingsMap": {},
     "title": ""
    }
   },
   "outputs": [],
   "source": [
    "SELECT * from store_data"
   ]
  },
  {
   "cell_type": "code",
   "execution_count": 0,
   "metadata": {
    "application/vnd.databricks.v1+cell": {
     "cellMetadata": {
      "byteLimit": 2048000,
      "rowLimit": 10000
     },
     "inputWidgets": {},
     "nuid": "cbacf16c-315e-4124-a599-19c612ec0ee7",
     "showTitle": false,
     "tableResultSettingsMap": {},
     "title": ""
    }
   },
   "outputs": [],
   "source": [
    "CREATE OR REPLACE TABLE events_variant\n",
    "AS \n",
    "SELECT key as variant_key, parse_json(value) as variant_value  \n",
    "FROM events_strings"
   ]
  },
  {
   "cell_type": "markdown",
   "metadata": {
    "application/vnd.databricks.v1+cell": {
     "cellMetadata": {},
     "inputWidgets": {},
     "nuid": "2745a694-4807-46eb-aee9-939b9dcb977c",
     "showTitle": false,
     "tableResultSettingsMap": {},
     "title": ""
    }
   },
   "source": [
    "## Variant null rules\n",
    "Variants can contain two kinds of nulls:\n",
    "\n",
    "- **SQL NULL:** SQL `NULL`s indicate that the value is missing. These are the same `NULLs` as when dealing with structured data.\n",
    "- **Variant NULL:** Variant `NULLs` indicate that the variant explicitly contains a `NULL` value. These are not the same as SQL `NULLs`, because the `NULL` value is stored in the data.\n",
    "\n",
    "Use the `is_variant_null` function to determine if the variant value is a variant `NULL`."
   ]
  },
  {
   "cell_type": "code",
   "execution_count": 0,
   "metadata": {
    "application/vnd.databricks.v1+cell": {
     "cellMetadata": {},
     "inputWidgets": {},
     "nuid": "45b29b3f-3c77-48ec-83ed-03a0208391ad",
     "showTitle": false,
     "tableResultSettingsMap": {},
     "title": ""
    }
   },
   "outputs": [],
   "source": [
    "SELECT\n",
    "  is_variant_null(parse_json(NULL)) AS sql_null,\n",
    "  is_variant_null(parse_json('null')) AS variant_null,\n",
    "  is_variant_null(parse_json('{ \"field_a\": null }'):field_a) AS variant_null_value,\n",
    "  is_variant_null(parse_json('{ \"field_a\": null }'):missing) AS missing_sql_value_null\n"
   ]
  },
  {
   "cell_type": "markdown",
   "metadata": {
    "application/vnd.databricks.v1+cell": {
     "cellMetadata": {},
     "inputWidgets": {},
     "nuid": "edd54443-571f-4c8e-9e62-07affefc876b",
     "showTitle": false,
     "tableResultSettingsMap": {},
     "title": ""
    }
   },
   "source": [
    "## Manipulate Variant Data"
   ]
  },
  {
   "cell_type": "markdown",
   "metadata": {
    "application/vnd.databricks.v1+cell": {
     "cellMetadata": {},
     "inputWidgets": {},
     "nuid": "6de503ba-2f75-45a0-9408-a128281970bc",
     "showTitle": false,
     "tableResultSettingsMap": {},
     "title": ""
    }
   },
   "source": [
    "### Work with Nested Data\n",
    "Spark SQL has built-in functionality to directly interact with nested data stored as JSON strings or struct types.\n",
    "- Use **`:`** syntax in queries to access subfields in JSON strings\n",
    "- Use **`.`** syntax in queries to access subfields in struct types\n",
    "\n",
    "Let's step into the **`value`** column and grab one row of data with an **`event_name`** of \"finalize.\""
   ]
  },
  {
   "cell_type": "code",
   "execution_count": 0,
   "metadata": {
    "application/vnd.databricks.v1+cell": {
     "cellMetadata": {},
     "inputWidgets": {},
     "nuid": "a36082bd-1a03-41a6-a1da-f5bdc511c54f",
     "showTitle": false,
     "tableResultSettingsMap": {},
     "title": ""
    }
   },
   "outputs": [],
   "source": [
    "SELECT * \n",
    "FROM events_strings \n",
    "WHERE value:event_name = \"finalize\" \n",
    "ORDER BY key \n",
    "LIMIT 1;"
   ]
  },
  {
   "cell_type": "code",
   "execution_count": 0,
   "metadata": {
    "application/vnd.databricks.v1+cell": {
     "cellMetadata": {
      "byteLimit": 2048000,
      "rowLimit": 10000
     },
     "inputWidgets": {},
     "nuid": "6005ecb0-6219-43da-bbf0-b42b3b95a4a7",
     "showTitle": false,
     "tableResultSettingsMap": {},
     "title": ""
    }
   },
   "outputs": [],
   "source": [
    "WITH base AS \n",
    "(\n",
    "  SELECT * , CAST(variant_value:event_name AS STRING) AS event_name\n",
    "FROM events_variant \n",
    ")\n",
    "SELECT * EXCEPT (event_name) FROM base WHERE event_name = \"finalize\" \n",
    "ORDER BY variant_key \n",
    "LIMIT 1;"
   ]
  },
  {
   "cell_type": "code",
   "execution_count": 0,
   "metadata": {
    "application/vnd.databricks.v1+cell": {
     "cellMetadata": {
      "byteLimit": 2048000,
      "rowLimit": 10000
     },
     "inputWidgets": {},
     "nuid": "7d51ddb2-a6ec-4c64-8d43-25a546a6aee6",
     "showTitle": false,
     "tableResultSettingsMap": {},
     "title": ""
    }
   },
   "outputs": [],
   "source": [
    "SELECT * , variant_value:event_name AS event_name\n",
    "FROM events_variant \n"
   ]
  },
  {
   "cell_type": "code",
   "execution_count": 0,
   "metadata": {
    "application/vnd.databricks.v1+cell": {
     "cellMetadata": {
      "byteLimit": 2048000,
      "rowLimit": 10000
     },
     "inputWidgets": {},
     "nuid": "1c26ae08-448e-4b12-885e-7f192ac76c2a",
     "showTitle": false,
     "tableResultSettingsMap": {},
     "title": ""
    }
   },
   "outputs": [],
   "source": [
    "SELECT \n",
    " variant_value:items[0].item_id AS item_id_0\n",
    " ,variant_value:['ecommerce']:purchase_revenue_in_usd USD\n",
    " FROM events_variant"
   ]
  },
  {
   "cell_type": "markdown",
   "metadata": {
    "application/vnd.databricks.v1+cell": {
     "cellMetadata": {},
     "inputWidgets": {},
     "nuid": "82aaf2c2-3d12-4b26-9ac6-36b1a0fe8a59",
     "showTitle": false,
     "tableResultSettingsMap": {},
     "title": ""
    }
   },
   "source": [
    "## Schema inference with Variant data"
   ]
  },
  {
   "cell_type": "code",
   "execution_count": 0,
   "metadata": {
    "application/vnd.databricks.v1+cell": {
     "cellMetadata": {
      "byteLimit": 2048000,
      "rowLimit": 10000
     },
     "inputWidgets": {},
     "nuid": "a4acf332-60d4-45aa-8872-b76a13907e1c",
     "showTitle": false,
     "tableResultSettingsMap": {},
     "title": ""
    }
   },
   "outputs": [],
   "source": [
    "SELECT  schema_of_variant(parse_json(value)), count(*) AS schema FROM events_strings\n",
    "GROUP BY schema_of_variant(parse_json(value))"
   ]
  },
  {
   "cell_type": "code",
   "execution_count": 0,
   "metadata": {
    "application/vnd.databricks.v1+cell": {
     "cellMetadata": {
      "byteLimit": 2048000,
      "rowLimit": 10000
     },
     "inputWidgets": {},
     "nuid": "3e5684ef-af02-4e02-b548-6abadbbca0a2",
     "showTitle": false,
     "tableResultSettingsMap": {},
     "title": ""
    }
   },
   "outputs": [],
   "source": [
    "-- SELECT schema_of_variant_agg(a) FROM VALUES(parse_json('{\"foo\": \"bar\"}')) AS data(a);\n",
    "SELECT schema_of_variant_agg(a) FROM (SELECT parse_json(value) AS a FROM events_strings) AS Data"
   ]
  },
  {
   "cell_type": "code",
   "execution_count": 0,
   "metadata": {
    "application/vnd.databricks.v1+cell": {
     "cellMetadata": {
      "byteLimit": 2048000,
      "rowLimit": 10000
     },
     "inputWidgets": {},
     "nuid": "cb2a310f-8b40-4549-b944-5cd1a8df6382",
     "showTitle": false,
     "tableResultSettingsMap": {},
     "title": ""
    }
   },
   "outputs": [],
   "source": [
    "SELECT CAST(variant_value AS STRUCT<device: STRING, ecommerce: STRUCT<purchase_revenue_in_usd: DECIMAL(5,1), total_item_quantity: BIGINT, unique_items: BIGINT>, event_name: STRING, event_previous_timestamp: BIGINT, event_timestamp: BIGINT, geo: STRUCT<city: STRING, state: STRING>, items: ARRAY<STRUCT<coupon: STRING, item_id: STRING, item_name: STRING, item_revenue_in_usd: DECIMAL(18,14), price_in_usd: DECIMAL(4,0), quantity: BIGINT>>, traffic_source: STRING, user_first_touch_timestamp: BIGINT, user_id: STRING>) from events_variant"
   ]
  },
  {
   "cell_type": "code",
   "execution_count": 0,
   "metadata": {
    "application/vnd.databricks.v1+cell": {
     "cellMetadata": {
      "byteLimit": 2048000,
      "rowLimit": 10000
     },
     "inputWidgets": {},
     "nuid": "05660773-70ad-4695-b6b7-7dc00f6e1691",
     "showTitle": false,
     "tableResultSettingsMap": {},
     "title": ""
    }
   },
   "outputs": [],
   "source": [
    "SELECT try_variant_get(parse_json('{\"key\": 123, \"data\": [4, {\"a\": \"hello\"}, \"str\"]}'), '$.data', 'array<int>')\n",
    "  null"
   ]
  },
  {
   "cell_type": "code",
   "execution_count": 0,
   "metadata": {
    "application/vnd.databricks.v1+cell": {
     "cellMetadata": {
      "byteLimit": 2048000,
      "rowLimit": 10000
     },
     "inputWidgets": {},
     "nuid": "59abc0d3-6dc0-473f-9438-b7a2840d8681",
     "showTitle": false,
     "tableResultSettingsMap": {},
     "title": ""
    }
   },
   "outputs": [],
   "source": [
    "-- Index elements\n",
    "SELECT \n",
    " variant_value:items[0] items_0\n",
    ",variant_value:items[1] items_1 \n",
    ",variant_value:items[2] items_2 \n",
    " FROM events_variant"
   ]
  },
  {
   "cell_type": "markdown",
   "metadata": {
    "application/vnd.databricks.v1+cell": {
     "cellMetadata": {},
     "inputWidgets": {},
     "nuid": "d0b7c3c0-f0d3-4d92-9a56-ca597fddd45a",
     "showTitle": false,
     "tableResultSettingsMap": {},
     "title": ""
    }
   },
   "source": [
    "Let's use the **JSON** string example above to derive the schema, then parse the entire **JSON** column into **STRUCT** types.\n",
    "- **`schema_of_json()`** returns the schema derived from an example **JSON** string.\n",
    "- **`from_json()`** parses a column containing a **JSON** string into a **STRUCT** type using the specified schema.\n",
    "\n",
    "After we unpack the **JSON** string to a **STRUCT** type, let's unpack and flatten all **STRUCT** fields into columns.\n",
    "\n",
    "**`*`** unpacking can be used to flatten a **STRUCT**; **`col_name.*`** pulls out the subfields of **`col_name`** into their own columns."
   ]
  },
  {
   "cell_type": "code",
   "execution_count": 0,
   "metadata": {
    "application/vnd.databricks.v1+cell": {
     "cellMetadata": {
      "byteLimit": 2048000,
      "rowLimit": 10000
     },
     "inputWidgets": {},
     "nuid": "42ede158-1b68-4bf1-bf3e-0eb5b83a4fcd",
     "showTitle": false,
     "tableResultSettingsMap": {},
     "title": ""
    }
   },
   "outputs": [],
   "source": [
    "SELECT schema_of_variant(parse_json('{\"device\":\"Linux\",\"ecommerce\":{\"purchase_revenue_in_usd\":1075.5,\"total_item_quantity\":1,\"unique_items\":1},\"event_name\":\"finalize\",\"event_previous_timestamp\":1593879231210816,\"event_timestamp\":1593879335779563,\"geo\":{\"city\":\"Houston\",\"state\":\"TX\"},\"items\":[{\"coupon\":\"NEWBED10\",\"item_id\":\"M_STAN_K\",\"item_name\":\"Standard King Mattress\",\"item_revenue_in_usd\":1075.5,\"price_in_usd\":1195.0,\"quantity\":1}],\"traffic_source\":\"email\",\"user_first_touch_timestamp\":1593454417513109,\"user_id\":\"UA000000106116176\"}')) AS schema;"
   ]
  },
  {
   "cell_type": "code",
   "execution_count": 0,
   "metadata": {
    "application/vnd.databricks.v1+cell": {
     "cellMetadata": {
      "byteLimit": 2048000,
      "rowLimit": 10000
     },
     "inputWidgets": {},
     "nuid": "c29ea468-ac13-4b98-ac17-dfcbd30c8ccb",
     "showTitle": false,
     "tableResultSettingsMap": {},
     "title": ""
    }
   },
   "outputs": [],
   "source": [
    "--CREATE OR REPLACE TEMP VIEW parsed_events AS \n",
    "\n",
    "  SELECT cast(variant_value as MAP<STRING, STRING>) AS json \n",
    "  FROM events_variant;\n",
    "\n",
    "-- SELECT * \n",
    "-- FROM parsed_events;"
   ]
  },
  {
   "cell_type": "code",
   "execution_count": 0,
   "metadata": {
    "application/vnd.databricks.v1+cell": {
     "cellMetadata": {
      "byteLimit": 2048000,
      "rowLimit": 10000
     },
     "inputWidgets": {},
     "nuid": "c09cc8d6-8671-4b70-884d-df84e86ed224",
     "showTitle": false,
     "tableResultSettingsMap": {},
     "title": ""
    }
   },
   "outputs": [],
   "source": [
    "SELECT\n",
    "variant_value:items \n",
    "FROM  events_variant"
   ]
  },
  {
   "cell_type": "code",
   "execution_count": 0,
   "metadata": {
    "application/vnd.databricks.v1+cell": {
     "cellMetadata": {
      "byteLimit": 2048000,
      "rowLimit": 10000
     },
     "inputWidgets": {},
     "nuid": "b9bb9245-a1b4-4085-bb62-08ec0720efda",
     "showTitle": false,
     "tableResultSettingsMap": {},
     "title": ""
    }
   },
   "outputs": [],
   "source": [
    "CREATE OR REPLACE TEMP VIEW parsed_events_variant AS \n",
    "SELECT json.*, items_variant , variant_value FROM\n",
    "(  \n",
    "  SELECT variant_value, variant_value:items as items_variant, cast(variant_value as STRUCT<device: STRING, ecommerce: STRUCT<purchase_revenue_in_usd: DECIMAL(5,1), total_item_quantity: BIGINT, unique_items: BIGINT>, event_name: STRING, event_previous_timestamp: BIGINT, event_timestamp: BIGINT, geo: STRUCT<city: STRING, state: STRING>, items: ARRAY<STRUCT<coupon: STRING, item_id: STRING, item_name: STRING, item_revenue_in_usd: DECIMAL(5,1), price_in_usd: DECIMAL(4,0), quantity: BIGINT>>, traffic_source: STRING, user_first_touch_timestamp: BIGINT, user_id: STRING>) AS json \n",
    "  FROM events_variant\n",
    ");\n",
    "SELECT * \n",
    "FROM parsed_events_variant;"
   ]
  },
  {
   "cell_type": "markdown",
   "metadata": {
    "application/vnd.databricks.v1+cell": {
     "cellMetadata": {},
     "inputWidgets": {},
     "nuid": "18397d64-034b-4171-9a24-0e97c926c46c",
     "showTitle": false,
     "tableResultSettingsMap": {},
     "title": ""
    }
   },
   "source": [
    "### Manipulate Arrays\n",
    "\n",
    "Spark SQL has a number of functions for manipulating array data, including the following:\n",
    "- **`explode()`** separates the elements of an array into multiple rows; this creates a new row for each element.\n",
    "- **`size()`** provides a count for the number of elements in an array for each row.\n",
    "\n",
    "The code below explodes the **`items`** field (an array of structs) into multiple rows and shows events containing arrays with 3 or more items."
   ]
  },
  {
   "cell_type": "code",
   "execution_count": 0,
   "metadata": {
    "application/vnd.databricks.v1+cell": {
     "cellMetadata": {
      "byteLimit": 2048000,
      "rowLimit": 10000
     },
     "inputWidgets": {},
     "nuid": "31c2e193-72db-4775-8648-2710125bc1fd",
     "showTitle": false,
     "tableResultSettingsMap": {},
     "title": ""
    }
   },
   "outputs": [],
   "source": [
    "\n",
    "SELECT *\n",
    "from parsed_events_variant,\n",
    "LATERAL variant_explode_outer(items_variant)\n"
   ]
  },
  {
   "cell_type": "code",
   "execution_count": 0,
   "metadata": {
    "application/vnd.databricks.v1+cell": {
     "cellMetadata": {
      "byteLimit": 2048000,
      "rowLimit": 10000
     },
     "inputWidgets": {},
     "nuid": "27dd48d7-0dbc-4494-8d6e-e42d1118d610",
     "showTitle": false,
     "tableResultSettingsMap": {},
     "title": ""
    }
   },
   "outputs": [],
   "source": [
    "select size(cast(items_variant as array<variant>)) from parsed_events_variant"
   ]
  },
  {
   "cell_type": "code",
   "execution_count": 0,
   "metadata": {
    "application/vnd.databricks.v1+cell": {
     "cellMetadata": {},
     "inputWidgets": {},
     "nuid": "face0faa-3140-41fe-8e3e-c88aab1917ed",
     "showTitle": false,
     "tableResultSettingsMap": {},
     "title": ""
    }
   },
   "outputs": [],
   "source": [
    "CREATE OR REPLACE TEMP VIEW exploded_events AS\n",
    "SELECT  *, \n",
    "  explode_outer(items) AS item\n",
    "FROM parsed_events;"
   ]
  },
  {
   "cell_type": "code",
   "execution_count": 0,
   "metadata": {
    "application/vnd.databricks.v1+cell": {
     "cellMetadata": {
      "byteLimit": 2048000,
      "rowLimit": 10000
     },
     "inputWidgets": {},
     "nuid": "e49c4379-1c6b-4407-ab43-dbe36587f678",
     "showTitle": false,
     "tableResultSettingsMap": {},
     "title": ""
    }
   },
   "outputs": [],
   "source": [
    "-- Find users with more than 2 items in their cart\n",
    "SELECT * \n",
    "FROM exploded_events_variant \n",
    "WHERE size(items) > 2;"
   ]
  },
  {
   "cell_type": "code",
   "execution_count": 0,
   "metadata": {
    "application/vnd.databricks.v1+cell": {
     "cellMetadata": {},
     "inputWidgets": {},
     "nuid": "bded6cd0-0a30-4330-b81b-7c130ab00814",
     "showTitle": false,
     "tableResultSettingsMap": {},
     "title": ""
    }
   },
   "outputs": [],
   "source": [
    "-- Confirm data type for new exploded 'item' column\n",
    "DESCRIBE exploded_events;"
   ]
  },
  {
   "cell_type": "markdown",
   "metadata": {
    "application/vnd.databricks.v1+cell": {
     "cellMetadata": {},
     "inputWidgets": {},
     "nuid": "5f3a5cbd-33d9-413d-aadd-11287211310d",
     "showTitle": false,
     "tableResultSettingsMap": {},
     "title": ""
    }
   },
   "source": [
    "## Nesting Functions\n",
    "We may want to see a list of all events associated with each **`user_id`** and we can collect all items that have been in a user's cart at any time for any event. Let's walk through how we can accomplish this.\n",
    "### Step 1\n",
    "We use **`collect_set()`** to gather (\"collect\") all unique values in a group, including arrays. We use it here to collect all unique **`item_id`**'s in our **`items`** array of structs.\n"
   ]
  },
  {
   "cell_type": "code",
   "execution_count": 0,
   "metadata": {
    "application/vnd.databricks.v1+cell": {
     "cellMetadata": {
      "byteLimit": 2048000,
      "rowLimit": 10000
     },
     "inputWidgets": {},
     "nuid": "964bb31c-f944-4165-bd1e-c0dca1e26ac7",
     "showTitle": false,
     "tableResultSettingsMap": {},
     "title": ""
    }
   },
   "outputs": [],
   "source": [
    "WITH BASE AS \n",
    "(SELECT * except (exploded_events_variant.value)\n",
    "from exploded_events_variant,\n",
    "LATERAL variant_explode_outer(variant_value:items))\n",
    ",SUBSET AS\n",
    "(SELECT user_id, BASE.value as item from BASE)\n",
    "SELECT \n",
    "  user_id,\n",
    "  Collect_set(variant_get(item,'$.item_id')) AS cart_history\n",
    "FROM SUBSET\n",
    "GROUP BY user_id\n",
    "ORDER BY user_id;"
   ]
  },
  {
   "cell_type": "code",
   "execution_count": 0,
   "metadata": {
    "application/vnd.databricks.v1+cell": {
     "cellMetadata": {
      "byteLimit": 2048000,
      "rowLimit": 10000
     },
     "inputWidgets": {},
     "nuid": "f7cb74a9-aaaa-412a-9c97-48bbd3c946ac",
     "showTitle": false,
     "tableResultSettingsMap": {},
     "title": ""
    }
   },
   "outputs": [],
   "source": [
    "WITH BASE AS \n",
    "(SELECT * except (exploded_events_variant.value)\n",
    "from exploded_events_variant,\n",
    "LATERAL variant_explode_outer(variant_value:items))\n",
    ",SUBSET AS\n",
    "(SELECT user_id, BASE.value as item from BASE)\n",
    "SELECT \n",
    "  user_id,\n",
    "  array_distinct(\n",
    "    flatten(\n",
    "      array(\n",
    "        Collect_set(\n",
    "          CAST(\n",
    "            variant_get(item,'$.item_id')\n",
    "             AS STRING\n",
    "             )\n",
    "      )\n",
    "    )\n",
    "  )\n",
    " ) AS cart_history\n",
    "FROM SUBSET\n",
    "GROUP BY user_id\n",
    "ORDER BY user_id;"
   ]
  },
  {
   "cell_type": "markdown",
   "metadata": {
    "application/vnd.databricks.v1+cell": {
     "cellMetadata": {},
     "inputWidgets": {},
     "nuid": "2d087bc5-39a7-4880-ad05-bbf00ea2d4cc",
     "showTitle": false,
     "tableResultSettingsMap": {},
     "title": ""
    }
   },
   "source": [
    "In this case, our result for the list of **`item_id`**'s is an array nested in another array, so let's use **`flatten()`** to pull all items into a single array.\n"
   ]
  },
  {
   "cell_type": "markdown",
   "metadata": {
    "application/vnd.databricks.v1+cell": {
     "cellMetadata": {},
     "inputWidgets": {},
     "nuid": "72100bb1-b3b9-46c5-98fa-06615d27f908",
     "showTitle": false,
     "tableResultSettingsMap": {},
     "title": ""
    }
   },
   "source": [
    "Because there were multiple sets of items involved, there are duplicate values in our array. We use **`array-distinct()`** to remove these duplicates."
   ]
  },
  {
   "cell_type": "code",
   "execution_count": 0,
   "metadata": {
    "application/vnd.databricks.v1+cell": {
     "cellMetadata": {},
     "inputWidgets": {},
     "nuid": "931656f2-1886-4449-878d-b43ee5a102fe",
     "showTitle": false,
     "tableResultSettingsMap": {},
     "title": ""
    }
   },
   "outputs": [],
   "source": [
    "SELECT \n",
    "  user_id,\n",
    "  collect_set(event_name) AS event_history,\n",
    "  array_distinct(flatten(collect_set(items.item_id))) AS cart_history\n",
    "FROM exploded_events\n",
    "GROUP BY user_id\n",
    "ORDER BY user_id;"
   ]
  },
  {
   "cell_type": "markdown",
   "metadata": {
    "application/vnd.databricks.v1+cell": {
     "cellMetadata": {},
     "inputWidgets": {},
     "nuid": "5da5aa1d-e1eb-4b04-8b0a-9925c9da9419",
     "showTitle": false,
     "tableResultSettingsMap": {},
     "title": ""
    }
   },
   "source": [
    "\n",
    "&copy; 2025 Databricks, Inc. All rights reserved.<br/>\n",
    "Apache, Apache Spark, Spark and the Spark logo are trademarks of the \n",
    "<a href=\"https://www.apache.org/\">Apache Software Foundation</a>.<br/>\n",
    "<br/><a href=\"https://databricks.com/privacy-policy\">Privacy Policy</a> | \n",
    "<a href=\"https://databricks.com/terms-of-use\">Terms of Use</a> | \n",
    "<a href=\"https://help.databricks.com/\">Support</a>"
   ]
  }
 ],
 "metadata": {
  "application/vnd.databricks.v1+notebook": {
   "computePreferences": null,
   "dashboards": [],
   "environmentMetadata": null,
   "inputWidgetPreferences": null,
   "language": "sql",
   "notebookMetadata": {
    "pythonIndentUnit": 4
   },
   "notebookName": "Complex Transformations VARIANT Edition",
   "widgets": {
    "catalog_name": {
     "currentValue": "dbacademy",
     "nuid": "224dd4de-6a13-4a50-93b1-5b376cfb98ba",
     "typedWidgetInfo": {
      "autoCreated": false,
      "defaultValue": "dbacademy",
      "label": "catalog",
      "name": "catalog_name",
      "options": {
       "widgetDisplayType": "Text",
       "validationRegex": null
      },
      "parameterDataType": "String"
     },
     "widgetInfo": {
      "widgetType": "text",
      "defaultValue": "dbacademy",
      "label": "catalog",
      "name": "catalog_name",
      "options": {
       "widgetType": "text",
       "autoCreated": false,
       "validationRegex": null
      }
     }
    },
    "schema_name": {
     "currentValue": "labuser9078234_1744808600",
     "nuid": "8cc54106-2aad-45e3-93f8-0de90b4c0e96",
     "typedWidgetInfo": {
      "autoCreated": false,
      "defaultValue": "labuser9078234_1744808600",
      "label": "schema",
      "name": "schema_name",
      "options": {
       "widgetDisplayType": "Text",
       "validationRegex": null
      },
      "parameterDataType": "String"
     },
     "widgetInfo": {
      "widgetType": "text",
      "defaultValue": "labuser9078234_1744808600",
      "label": "schema",
      "name": "schema_name",
      "options": {
       "widgetType": "text",
       "autoCreated": false,
       "validationRegex": null
      }
     }
    }
   }
  },
  "language_info": {
   "name": "sql"
  }
 },
 "nbformat": 4,
 "nbformat_minor": 0
}
