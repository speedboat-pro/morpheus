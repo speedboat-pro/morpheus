{
 "cells": [
  {
   "cell_type": "code",
   "execution_count": 0,
   "metadata": {
    "application/vnd.databricks.v1+cell": {
     "cellMetadata": {},
     "inputWidgets": {},
     "nuid": "001ee2dc-c552-4884-8c3e-a93ae67ee741",
     "showTitle": false,
     "tableResultSettingsMap": {},
     "title": ""
    }
   },
   "outputs": [],
   "source": [
    "from delta.tables import DeltaTable\n",
    "\n",
    "deltaTable = DeltaTable.forName(spark, \"target_table\")\n",
    "sourceDF = spark.table(\"source_table\")\n",
    "\n",
    "deltaTable.merge(\n",
    "    sourceDF,\n",
    "    \"target_table.id = source_table.id\"\n",
    ") .withSchemaEvolution()\n",
    "  .whenMatchedUpdate(\n",
    "    set={\n",
    "        \"name\": \"source_table.name\",\n",
    "        \"age\": \"source_table.age\"\n",
    "    }\n",
    ").whenNotMatchedInsert(\n",
    "    values={\n",
    "        \"id\": \"source_table.id\",\n",
    "        \"name\": \"source_table.name\",\n",
    "        \"age\": \"source_table.age\"\n",
    "    }\n",
    ").execute()\n"
   ]
  }
 ],
 "metadata": {
  "application/vnd.databricks.v1+notebook": {
   "computePreferences": null,
   "dashboards": [],
   "environmentMetadata": {
    "base_environment": "",
    "environment_version": "4"
   },
   "inputWidgetPreferences": null,
   "language": "python",
   "notebookMetadata": {
    "pythonIndentUnit": 4
   },
   "notebookName": "Merge with Schema Evolution",
   "widgets": {}
  },
  "language_info": {
   "name": "python"
  }
 },
 "nbformat": 4,
 "nbformat_minor": 0
}
