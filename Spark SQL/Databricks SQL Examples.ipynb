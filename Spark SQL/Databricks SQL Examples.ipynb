{
 "cells": [
  {
   "cell_type": "markdown",
   "metadata": {
    "application/vnd.databricks.v1+cell": {
     "cellMetadata": {},
     "inputWidgets": {},
     "nuid": "515bbf45-a418-4a62-92e2-7b327b2c873f",
     "showTitle": false,
     "tableResultSettingsMap": {},
     "title": ""
    }
   },
   "source": [
    "#Date functions\n",
    "\n",
    "See [documentation](https://docs.databricks.com/en/sql/language-manual/sql-ref-datetime-pattern.html#pattern-table) for more details on date patterns\n",
    "\n",
    "| Symbol|\tMeaning\t|Presentation|\tExamples|\n",
    "|--------|-------|-------------|------|\n",
    "| G|\tera\t|text\t|AD; Anno Domini |\n",
    "| y|\tyear\t|year\t|2020; 20 |\n",
    "| D|\tday-of-year\t|number(3)|\t189 |\n",
    "| M/L|\tmonth-of-year\t|month\t|7; 07; Jul; July |\n",
    "| E|\tday-of-week\t|text\t|Tue; Tuesday |\n",
    "| F|\taligned day of week in month\t|number(1)\t|3 |\n",
    "| a|\tam-pm-of-day|\tam-pm\t|PM |\n",
    "| h|\tclock-hour-of-am-pm (1-12)|\tnumber(2)|\t12 |\n",
    "| H|\thour-of-day (0-23)|\tnumber(2)\t|0 |\n",
    "| m|\tminute-of-hour\t|number(2)\t|30 |\n",
    "| s|\tsecond-of-minute|\tnumber(2)\t|55 |\n",
    "| z|\ttime-zone name\t|zone-name\t|Pacific Standard Time; PST |\n"
   ]
  },
  {
   "cell_type": "code",
   "execution_count": 0,
   "metadata": {
    "application/vnd.databricks.v1+cell": {
     "cellMetadata": {
      "byteLimit": 2048000,
      "rowLimit": 10000
     },
     "inputWidgets": {},
     "nuid": "7ae2df25-b9c1-4706-9989-3eab06d26863",
     "showTitle": false,
     "tableResultSettingsMap": {},
     "title": ""
    }
   },
   "outputs": [],
   "source": [
    "SELECT\n",
    " unix_timestamp ('2016-04-08', 'yyyy-MM-dd')as `unix_timestamp_example`\n",
    ",date_format ('2016-04-08', 'y') as `date_format_example`\n",
    ",to_unix_timestamp ('2016-04-08', 'yyyy-MM-dd') as `to_unix_timestamp_example`\n",
    ",from_unixtime (0, 'yyyy-MM-dd HH:mm:ss') as `from_unixtime_example`\n",
    ",to_char(date'2016-04-08', 'y') as `to_char_example`\n",
    ",to_date('2009-07-30 04:17:52')as `to_date_example`\n",
    ",to_timestamp('2016-12-31', 'yyyy-MM-dd') as `to_timestamp_example`\n",
    ",to_varchar(date'2016-04-08', 'y') as `to_varchar_example`\n",
    ",from_utc_timestamp('2017-07-14 02:40:00.0', 'GMT+1') as `from_utc_timestamp_example`\n",
    ",to_utc_timestamp( '2017-07-14 02:40:00.0', 'GMT+1') as `to_utc_timestamp_example`"
   ]
  },
  {
   "cell_type": "code",
   "execution_count": 0,
   "metadata": {
    "application/vnd.databricks.v1+cell": {
     "cellMetadata": {
      "byteLimit": 2048000,
      "rowLimit": 10000
     },
     "inputWidgets": {},
     "nuid": "b49cf93c-f040-4e31-bb64-fa4baca79e89",
     "showTitle": false,
     "tableResultSettingsMap": {},
     "title": ""
    }
   },
   "outputs": [],
   "source": [
    "SELECT date_from_unix_date(1)"
   ]
  },
  {
   "cell_type": "markdown",
   "metadata": {
    "application/vnd.databricks.v1+cell": {
     "cellMetadata": {},
     "inputWidgets": {},
     "nuid": "5f057662-ade5-4bd0-9793-39e78613b5d9",
     "showTitle": false,
     "tableResultSettingsMap": {},
     "title": ""
    }
   },
   "source": [
    "#PK/FK definitions\n",
    "\n",
    "For more information read the blog article [\"Primary Key and Foreign Key constraints are GA and now enable faster queries\"](https://www.databricks.com/blog/primary-key-and-foreign-key-constraints-are-ga-and-now-enable-faster-queries)"
   ]
  },
  {
   "cell_type": "code",
   "execution_count": 0,
   "metadata": {
    "application/vnd.databricks.v1+cell": {
     "cellMetadata": {
      "byteLimit": 2048000,
      "rowLimit": 10000
     },
     "inputWidgets": {},
     "nuid": "969a89d5-dc63-4d93-8028-9c8dbb80ae65",
     "showTitle": false,
     "tableResultSettingsMap": {},
     "title": ""
    }
   },
   "outputs": [],
   "source": [
    "\n",
    "USE CATALOG corning52296;\n",
    "CREATE SCHEMA IF NOT EXISTS pk_fk_constraints;\n",
    "USE SCHEMA pk_fk_constraints;\n",
    "\n",
    "-- Create the first table with a primary key\n",
    "CREATE OR REPLACE TABLE employees(\n",
    "  EmployeeID INTEGER NOT NULL,\n",
    "  Name STRING,\n",
    "  Age INTEGER,\n",
    "  CONSTRAINT employees_pk PRIMARY KEY(EmployeeID)\n",
    ");\n",
    "\n",
    "-- Insert initial values into the first table\n",
    "INSERT INTO employees(EmployeeID, Name, Age)\n",
    "VALUES (1, 'John Doe', 30), (2, 'Jane Smith', 40) , (3, 'John Smith', 25);\n",
    "\n",
    "-- Informational constraint on 'EmployeeID'. Does not prevent insertions of duplicate 'EmployeeID'.\n",
    "INSERT INTO employees(EmployeeID, Name, Age)\n",
    "VALUES (1, 'Jane Doe', 25);\n",
    "\n",
    "SELECT * from employees;\n",
    "\n",
    "-- Create the second table with a foreign key that references the first table\n",
    "CREATE OR REPLACE TABLE orders(\n",
    "  OrderID INTEGER NOT NULL,\n",
    "  EmployeeID INTEGER,\n",
    "  Product STRING,\n",
    "  CONSTRAINT orders_pk PRIMARY KEY(OrderID),\n",
    "  CONSTRAINT orders_employees_fk FOREIGN KEY(EmployeeID) REFERENCES employees\n",
    ");\n",
    "\n",
    "-- Insert initial values into the second table\n",
    "INSERT INTO orders(OrderID, EmployeeID, Product)\n",
    "VALUES (1001, 1, 'Product A'), (1002, 2, 'Product B'), (1003, 1, 'Product B'),(1004, 3, 'Product A');\n",
    "\n",
    "\n",
    "SELECT * from orders;\n",
    "-- Insert initial values into the first table\n",
    "INSERT INTO employees(EmployeeID, Name, Age)\n",
    "VALUES (1, 'Jane Doe', 35);\n",
    "\n",
    "-- Insert initial values into the second table\n",
    "INSERT INTO orders(OrderID, EmployeeID, Product)\n",
    "VALUES (1001, 4, 'Product A'); -- 1001 is a duplicate use of primary key and 4 does not exist in the employees table\n",
    "\n",
    "SELECT * from employees;\n",
    "\n",
    "SELECT * from orders;\n"
   ]
  },
  {
   "cell_type": "markdown",
   "metadata": {
    "application/vnd.databricks.v1+cell": {
     "cellMetadata": {},
     "inputWidgets": {},
     "nuid": "460b6a3f-ae2d-44e0-8524-f2d0f0c54af7",
     "showTitle": false,
     "tableResultSettingsMap": {},
     "title": ""
    }
   },
   "source": [
    "#Joins"
   ]
  },
  {
   "cell_type": "markdown",
   "metadata": {
    "application/vnd.databricks.v1+cell": {
     "cellMetadata": {},
     "inputWidgets": {},
     "nuid": "591c24e5-f00d-450a-bca1-d33c8fae3e3a",
     "showTitle": false,
     "tableResultSettingsMap": {},
     "title": ""
    }
   },
   "source": [
    "## Setup"
   ]
  },
  {
   "cell_type": "code",
   "execution_count": 0,
   "metadata": {
    "application/vnd.databricks.v1+cell": {
     "cellMetadata": {
      "byteLimit": 2048000,
      "rowLimit": 10000
     },
     "inputWidgets": {},
     "nuid": "aa4f5876-e10b-4d73-9c89-4c8e060c276e",
     "showTitle": false,
     "tableResultSettingsMap": {},
     "title": ""
    }
   },
   "outputs": [],
   "source": [
    " CREATE TEMP VIEW employee(id, name, deptno) AS\n",
    "     VALUES(105, 'Chloe', 5),\n",
    "           (103, 'Paul' , 3),\n",
    "           (101, 'John' , 1),\n",
    "           (102, 'Lisa' , 2),\n",
    "           (104, 'Evan' , 4),\n",
    "           (106, 'Amy'  , 6);\n",
    "\n",
    "CREATE TEMP VIEW department(deptno, deptname) AS\n",
    "    VALUES(3, 'Engineering'),\n",
    "          (2, 'Sales'      ),\n",
    "          (1, 'Marketing'  );"
   ]
  },
  {
   "cell_type": "markdown",
   "metadata": {
    "application/vnd.databricks.v1+cell": {
     "cellMetadata": {},
     "inputWidgets": {},
     "nuid": "b76cf8fa-0ad8-4d3c-9d48-52931b4fbf83",
     "showTitle": false,
     "tableResultSettingsMap": {},
     "title": ""
    }
   },
   "source": [
    "## Standard Joins"
   ]
  },
  {
   "cell_type": "code",
   "execution_count": 0,
   "metadata": {
    "application/vnd.databricks.v1+cell": {
     "cellMetadata": {
      "byteLimit": 2048000,
      "rowLimit": 10000
     },
     "inputWidgets": {},
     "nuid": "51dd29f2-b39f-47a2-bf09-e63c6e774c62",
     "showTitle": false,
     "tableResultSettingsMap": {},
     "title": ""
    }
   },
   "outputs": [],
   "source": [
    "-- Use employee and department tables to demonstrate inner join.\n",
    "SELECT id, name, employee.deptno, deptname\n",
    "   FROM employee\n",
    "   INNER JOIN department ON employee.deptno = department.deptno;"
   ]
  },
  {
   "cell_type": "code",
   "execution_count": 0,
   "metadata": {
    "application/vnd.databricks.v1+cell": {
     "cellMetadata": {
      "byteLimit": 2048000,
      "rowLimit": 10000
     },
     "inputWidgets": {},
     "nuid": "47d0a479-24ac-46e0-81ad-2ef14addd1b6",
     "showTitle": false,
     "tableResultSettingsMap": {},
     "title": ""
    }
   },
   "outputs": [],
   "source": [
    "-- Use employee and department tables to demonstrate left join.\n",
    "SELECT id, name, employee.deptno, deptname\n",
    "   FROM employee\n",
    "   LEFT JOIN department ON employee.deptno = department.deptno;"
   ]
  },
  {
   "cell_type": "code",
   "execution_count": 0,
   "metadata": {
    "application/vnd.databricks.v1+cell": {
     "cellMetadata": {
      "byteLimit": 2048000,
      "rowLimit": 10000
     },
     "inputWidgets": {},
     "nuid": "670ca1a9-99da-48b9-a0b4-40dc297bbcba",
     "showTitle": false,
     "tableResultSettingsMap": {},
     "title": ""
    }
   },
   "outputs": [],
   "source": [
    "-- Use employee and department tables to demonstrate right join.\n",
    "SELECT id, name, employee.deptno, deptname\n",
    "    FROM employee\n",
    "    RIGHT JOIN department ON employee.deptno = department.deptno;"
   ]
  },
  {
   "cell_type": "code",
   "execution_count": 0,
   "metadata": {
    "application/vnd.databricks.v1+cell": {
     "cellMetadata": {
      "byteLimit": 2048000,
      "rowLimit": 10000
     },
     "inputWidgets": {},
     "nuid": "c01c124f-4365-4415-b3e9-9bcb5feddaa5",
     "showTitle": false,
     "tableResultSettingsMap": {},
     "title": ""
    }
   },
   "outputs": [],
   "source": [
    "-- Use employee and department tables to demonstrate full join.\n",
    "SELECT id, name, employee.deptno, deptname\n",
    "    FROM employee\n",
    "    FULL JOIN department ON employee.deptno = department.deptno;"
   ]
  },
  {
   "cell_type": "code",
   "execution_count": 0,
   "metadata": {
    "application/vnd.databricks.v1+cell": {
     "cellMetadata": {
      "byteLimit": 2048000,
      "rowLimit": 10000
     },
     "inputWidgets": {},
     "nuid": "02183dd1-83e6-4ced-a1aa-500002a9e575",
     "showTitle": false,
     "tableResultSettingsMap": {},
     "title": ""
    }
   },
   "outputs": [],
   "source": [
    "-- Use employee and department tables to demonstrate cross join.\n",
    "SELECT id, name, employee.deptno, deptname\n",
    "    FROM employee\n",
    "    CROSS JOIN department;"
   ]
  },
  {
   "cell_type": "code",
   "execution_count": 0,
   "metadata": {
    "application/vnd.databricks.v1+cell": {
     "cellMetadata": {
      "byteLimit": 2048000,
      "rowLimit": 10000
     },
     "inputWidgets": {},
     "nuid": "3bd03bec-528d-4e2d-b816-14fba61f3beb",
     "showTitle": false,
     "tableResultSettingsMap": {},
     "title": ""
    }
   },
   "outputs": [],
   "source": [
    "-- Use employee and department tables to demonstrate lateral inner join.\n",
    "SELECT id, name, deptno, deptname\n",
    "    FROM employee\n",
    "    JOIN LATERAL (SELECT deptname\n",
    "                    FROM department\n",
    "                    WHERE employee.deptno = department.deptno);"
   ]
  },
  {
   "cell_type": "code",
   "execution_count": 0,
   "metadata": {
    "application/vnd.databricks.v1+cell": {
     "cellMetadata": {
      "byteLimit": 2048000,
      "rowLimit": 10000
     },
     "inputWidgets": {},
     "nuid": "5476d2e7-32f3-4cdc-ac55-4c3e00b29791",
     "showTitle": false,
     "tableResultSettingsMap": {},
     "title": ""
    }
   },
   "outputs": [],
   "source": [
    "-- Use employee and department tables to demonstrate lateral left join.\n",
    "SELECT id, name, deptno, deptname\n",
    "    FROM employee\n",
    "    LEFT JOIN LATERAL (SELECT deptname\n",
    "                         FROM department\n",
    "                         WHERE employee.deptno = department.deptno);"
   ]
  },
  {
   "cell_type": "markdown",
   "metadata": {
    "application/vnd.databricks.v1+cell": {
     "cellMetadata": {},
     "inputWidgets": {},
     "nuid": "68f6e319-9794-458d-8efc-19013a0c39eb",
     "showTitle": false,
     "tableResultSettingsMap": {},
     "title": ""
    }
   },
   "source": [
    "##ANTI"
   ]
  },
  {
   "cell_type": "code",
   "execution_count": 0,
   "metadata": {
    "application/vnd.databricks.v1+cell": {
     "cellMetadata": {},
     "inputWidgets": {},
     "nuid": "1aeeff93-f68e-4420-98df-ac225c4b3940",
     "showTitle": false,
     "tableResultSettingsMap": {},
     "title": ""
    }
   },
   "outputs": [],
   "source": [
    "-- Use employee and department tables to demonstrate anti join.\n",
    "SELECT *\n",
    "    FROM employee\n",
    "    ANTI JOIN department ON employee.deptno = department.deptno;"
   ]
  },
  {
   "cell_type": "markdown",
   "metadata": {
    "application/vnd.databricks.v1+cell": {
     "cellMetadata": {},
     "inputWidgets": {},
     "nuid": "40d90082-9b5a-4190-96fe-ad157d861845",
     "showTitle": false,
     "tableResultSettingsMap": {},
     "title": ""
    }
   },
   "source": [
    "##SEMI"
   ]
  },
  {
   "cell_type": "code",
   "execution_count": 0,
   "metadata": {
    "application/vnd.databricks.v1+cell": {
     "cellMetadata": {},
     "inputWidgets": {},
     "nuid": "b04b04d4-ea36-4ed2-8063-13bbe8bb3e68",
     "showTitle": false,
     "tableResultSettingsMap": {},
     "title": ""
    }
   },
   "outputs": [],
   "source": [
    "-- Use employee and department tables to demonstrate semi join.\n",
    "SELECT *\n",
    "    FROM employee\n",
    "    SEMI JOIN department ON employee.deptno = department.deptno;"
   ]
  },
  {
   "cell_type": "markdown",
   "metadata": {
    "application/vnd.databricks.v1+cell": {
     "cellMetadata": {},
     "inputWidgets": {},
     "nuid": "44de81fb-5bb1-45ae-8837-e6cdebf51093",
     "showTitle": false,
     "tableResultSettingsMap": {},
     "title": ""
    }
   },
   "source": [
    "## NATURAL"
   ]
  },
  {
   "cell_type": "code",
   "execution_count": 0,
   "metadata": {
    "application/vnd.databricks.v1+cell": {
     "cellMetadata": {
      "byteLimit": 2048000,
      "rowLimit": 10000
     },
     "inputWidgets": {},
     "nuid": "a2ea27c1-316b-4d42-bc44-a4650c576540",
     "showTitle": false,
     "tableResultSettingsMap": {},
     "title": ""
    }
   },
   "outputs": [],
   "source": [
    "SELECT id, name, employee.deptno, deptname\n",
    "    FROM employee\n",
    "    NATURAL JOIN department;"
   ]
  },
  {
   "cell_type": "markdown",
   "metadata": {
    "application/vnd.databricks.v1+cell": {
     "cellMetadata": {},
     "inputWidgets": {},
     "nuid": "30f869d5-ce42-4391-b83a-e6bcea73cb05",
     "showTitle": false,
     "tableResultSettingsMap": {},
     "title": ""
    }
   },
   "source": [
    "##USING Clause"
   ]
  },
  {
   "cell_type": "code",
   "execution_count": 0,
   "metadata": {
    "application/vnd.databricks.v1+cell": {
     "cellMetadata": {
      "byteLimit": 2048000,
      "rowLimit": 10000
     },
     "inputWidgets": {},
     "nuid": "b60a85d9-4e7c-4c0b-8b20-4f8af41a5102",
     "showTitle": false,
     "tableResultSettingsMap": {},
     "title": ""
    }
   },
   "outputs": [],
   "source": [
    "SELECT id, name, employee.deptno, deptname\n",
    "    FROM employee\n",
    "     JOIN department USING(deptno);"
   ]
  },
  {
   "cell_type": "markdown",
   "metadata": {
    "application/vnd.databricks.v1+cell": {
     "cellMetadata": {},
     "inputWidgets": {},
     "nuid": "3f9d90ef-db74-4f47-b626-bc381119a11d",
     "showTitle": false,
     "tableResultSettingsMap": {},
     "title": ""
    }
   },
   "source": [
    "#EXCEPT "
   ]
  },
  {
   "cell_type": "markdown",
   "metadata": {
    "application/vnd.databricks.v1+cell": {
     "cellMetadata": {},
     "inputWidgets": {},
     "nuid": "a1632061-ad18-40cf-aee8-5e97a6f5fffd",
     "showTitle": false,
     "tableResultSettingsMap": {},
     "title": ""
    }
   },
   "source": [
    "##Set Based Queries"
   ]
  },
  {
   "cell_type": "code",
   "execution_count": 0,
   "metadata": {
    "application/vnd.databricks.v1+cell": {
     "cellMetadata": {
      "byteLimit": 2048000,
      "rowLimit": 10000
     },
     "inputWidgets": {},
     "nuid": "acabf58a-8bd5-4412-a025-f60693e4751e",
     "showTitle": false,
     "tableResultSettingsMap": {},
     "title": ""
    }
   },
   "outputs": [],
   "source": [
    "SELECT deptno FROM employee\n",
    "EXCEPT\n",
    "SELECT deptno FROM department;"
   ]
  },
  {
   "cell_type": "markdown",
   "metadata": {
    "application/vnd.databricks.v1+cell": {
     "cellMetadata": {},
     "inputWidgets": {},
     "nuid": "5477126d-a874-4e7f-b96b-2dcda5bef359",
     "showTitle": false,
     "tableResultSettingsMap": {},
     "title": ""
    }
   },
   "source": [
    "##  in SELECT Queries"
   ]
  },
  {
   "cell_type": "code",
   "execution_count": 0,
   "metadata": {
    "application/vnd.databricks.v1+cell": {
     "cellMetadata": {
      "byteLimit": 2048000,
      "rowLimit": 10000
     },
     "inputWidgets": {},
     "nuid": "c3102d23-150f-49a9-af6c-e3403e912a16",
     "showTitle": false,
     "tableResultSettingsMap": {},
     "title": ""
    }
   },
   "outputs": [],
   "source": [
    "SELECT * EXCEPT (deptno) FROM employee"
   ]
  },
  {
   "cell_type": "markdown",
   "metadata": {
    "application/vnd.databricks.v1+cell": {
     "cellMetadata": {},
     "inputWidgets": {},
     "nuid": "e3198556-6f52-4c93-947c-a794a6183da9",
     "showTitle": false,
     "tableResultSettingsMap": {},
     "title": ""
    }
   },
   "source": [
    "#Shaping"
   ]
  },
  {
   "cell_type": "markdown",
   "metadata": {
    "application/vnd.databricks.v1+cell": {
     "cellMetadata": {},
     "inputWidgets": {},
     "nuid": "f3193a3b-fcc6-451c-9df1-da259ccee627",
     "showTitle": false,
     "tableResultSettingsMap": {},
     "title": ""
    }
   },
   "source": [
    "##LATERAL VIEW .. EXPLODE"
   ]
  },
  {
   "cell_type": "code",
   "execution_count": 0,
   "metadata": {
    "application/vnd.databricks.v1+cell": {
     "cellMetadata": {
      "byteLimit": 2048000,
      "rowLimit": 10000
     },
     "inputWidgets": {},
     "nuid": "6dd78ba9-c72d-4e5e-b053-4701cec35d7b",
     "showTitle": false,
     "tableResultSettingsMap": {},
     "title": ""
    }
   },
   "outputs": [],
   "source": [
    "CREATE TABLE person (id INT, name STRING, age INT, class INT, address STRING);"
   ]
  },
  {
   "cell_type": "code",
   "execution_count": 0,
   "metadata": {
    "application/vnd.databricks.v1+cell": {
     "cellMetadata": {
      "byteLimit": 2048000,
      "rowLimit": 10000
     },
     "inputWidgets": {},
     "nuid": "12ee1a85-764c-4a3f-8dc5-4fffe481d36f",
     "showTitle": false,
     "tableResultSettingsMap": {},
     "title": ""
    }
   },
   "outputs": [],
   "source": [
    "INSERT INTO person VALUES\n",
    "    (100, 'John', 30, 1, 'Street 1'),\n",
    "    (200, 'Mary', NULL, 1, 'Street 2'),\n",
    "    (300, 'Mike', 80, 3, 'Street 3'),\n",
    "    (400, 'Dan', 50, 4, 'Street 4');"
   ]
  },
  {
   "cell_type": "code",
   "execution_count": 0,
   "metadata": {
    "application/vnd.databricks.v1+cell": {
     "cellMetadata": {
      "byteLimit": 2048000,
      "rowLimit": 10000
     },
     "inputWidgets": {},
     "nuid": "e44cfe1f-014d-4d13-9c2d-08c859d27bed",
     "showTitle": false,
     "tableResultSettingsMap": {},
     "title": ""
    }
   },
   "outputs": [],
   "source": [
    "SELECT * FROM person\n",
    "    LATERAL VIEW EXPLODE(ARRAY(30, 60)) tableName AS c_age\n",
    "    LATERAL VIEW EXPLODE(ARRAY(40, 80)) AS d_age;"
   ]
  },
  {
   "cell_type": "markdown",
   "metadata": {
    "application/vnd.databricks.v1+cell": {
     "cellMetadata": {},
     "inputWidgets": {},
     "nuid": "fa3c2442-42ec-4f77-bbf6-92a2939db3e3",
     "showTitle": false,
     "tableResultSettingsMap": {},
     "title": ""
    }
   },
   "source": [
    "##PIVOT"
   ]
  },
  {
   "cell_type": "code",
   "execution_count": 0,
   "metadata": {
    "application/vnd.databricks.v1+cell": {
     "cellMetadata": {
      "byteLimit": 2048000,
      "rowLimit": 10000
     },
     "inputWidgets": {},
     "nuid": "2c514e65-ee7f-4e43-8cbc-40d3567fc6ce",
     "showTitle": false,
     "tableResultSettingsMap": {},
     "title": ""
    }
   },
   "outputs": [],
   "source": [
    "CREATE TEMP VIEW sales(year, quarter, region, sales) AS\n",
    "   VALUES (2018, 1, 'east', 100),\n",
    "          (2018, 2, 'east',  20),\n",
    "          (2018, 3, 'east',  40),\n",
    "          (2018, 4, 'east',  40),\n",
    "          (2019, 1, 'east', 120),\n",
    "          (2019, 2, 'east', 110),\n",
    "          (2019, 3, 'east',  80),\n",
    "          (2019, 4, 'east',  60),\n",
    "          (2018, 1, 'west', 105),\n",
    "          (2018, 2, 'west',  25),\n",
    "          (2018, 3, 'west',  45),\n",
    "          (2018, 4, 'west',  45),\n",
    "          (2019, 1, 'west', 125),\n",
    "          (2019, 2, 'west', 115),\n",
    "          (2019, 3, 'west',  85),\n",
    "          (2019, 4, 'west',  65);"
   ]
  },
  {
   "cell_type": "code",
   "execution_count": 0,
   "metadata": {
    "application/vnd.databricks.v1+cell": {
     "cellMetadata": {
      "byteLimit": 2048000,
      "rowLimit": 10000
     },
     "inputWidgets": {},
     "nuid": "287571f9-2df9-4b3e-83e6-9cd745a022c5",
     "showTitle": false,
     "tableResultSettingsMap": {},
     "title": ""
    }
   },
   "outputs": [],
   "source": [
    "SELECT year, q1_total, q1_avg, q2_total, q2_avg, q3_total, q3_avg, q4_total, q4_avg\n",
    "    FROM (SELECT year, quarter, sales FROM sales) AS s\n",
    "    PIVOT (sum(sales) AS total, avg(sales) AS avg\n",
    "      FOR quarter\n",
    "      IN (1 AS q1, 2 AS q2, 3 AS q3, 4 AS q4));"
   ]
  },
  {
   "cell_type": "markdown",
   "metadata": {
    "application/vnd.databricks.v1+cell": {
     "cellMetadata": {},
     "inputWidgets": {},
     "nuid": "a5d9e44c-d0bb-497a-b7d1-074645b04164",
     "showTitle": false,
     "tableResultSettingsMap": {},
     "title": ""
    }
   },
   "source": [
    "##UNPVIOT"
   ]
  },
  {
   "cell_type": "code",
   "execution_count": 0,
   "metadata": {
    "application/vnd.databricks.v1+cell": {
     "cellMetadata": {
      "byteLimit": 2048000,
      "rowLimit": 10000
     },
     "inputWidgets": {},
     "nuid": "961b926a-4674-4eda-9b7c-2bac1f32d8bf",
     "showTitle": false,
     "tableResultSettingsMap": {},
     "title": ""
    }
   },
   "outputs": [],
   "source": [
    "CREATE OR REPLACE TEMPORARY VIEW sales(location, year, q1, q2, q3, q4) AS\n",
    "  VALUES ('Toronto'      , 2020, 100 , 80 , 70, 150),\n",
    "         ('San Francisco', 2020, NULL, 20 , 50,  60),\n",
    "         ('Toronto'      , 2021, 110 , 90 , 80, 170),\n",
    "         ('San Francisco', 2021, 70  , 120, 85, 105);\n",
    "\n",
    "SELECT *\n",
    "    FROM sales UNPIVOT INCLUDE NULLS\n",
    "    (sales FOR quarter IN (q1       AS `Jan-Mar`,\n",
    "                           q2       AS `Apr-Jun`,\n",
    "                           q3       AS `Jul-Sep`,\n",
    "                           sales.q4 AS `Oct-Dec`));"
   ]
  },
  {
   "cell_type": "markdown",
   "metadata": {
    "application/vnd.databricks.v1+cell": {
     "cellMetadata": {},
     "inputWidgets": {},
     "nuid": "b8dbc519-e573-4ac5-9d69-fdff37e6693f",
     "showTitle": false,
     "tableResultSettingsMap": {},
     "title": ""
    }
   },
   "source": [
    "#Aggregates\n"
   ]
  },
  {
   "cell_type": "markdown",
   "metadata": {
    "application/vnd.databricks.v1+cell": {
     "cellMetadata": {},
     "inputWidgets": {},
     "nuid": "6c9d347a-32da-443f-9dcb-586190335c1f",
     "showTitle": false,
     "tableResultSettingsMap": {},
     "title": ""
    }
   },
   "source": [
    "## Approximate Functions\n",
    "\n",
    "Approximate functions are designed to run quicker than their standard counterparts, especially on large datasets. They provide faster results by trading off some accuracy for performance. The size of data where approximate functions will show significant performance improvements can vary, but generally, they are beneficial when dealing with large datasets, typically in the range of millions to billions of rows.\n",
    "\n",
    "For smaller datasets, the performance difference might not be as noticeable, and the standard functions might be sufficient. However, as the dataset grows larger, the performance benefits of approximate functions become more apparent.\n"
   ]
  },
  {
   "cell_type": "code",
   "execution_count": 0,
   "metadata": {
    "application/vnd.databricks.v1+cell": {
     "cellMetadata": {
      "byteLimit": 2048000,
      "rowLimit": 10000
     },
     "inputWidgets": {},
     "nuid": "63a4393a-1754-4e51-b5db-180885646e8d",
     "showTitle": false,
     "tableResultSettingsMap": {},
     "title": ""
    }
   },
   "outputs": [],
   "source": [
    "SELECT approx_count_distinct(col1) FILTER(WHERE col2 = 10)\n",
    "    FROM VALUES (1, 10), (1, 10), (2, 10), (2, 10), (3, 10), (1, 12) AS tab(col1, col2);"
   ]
  },
  {
   "cell_type": "code",
   "execution_count": 0,
   "metadata": {
    "application/vnd.databricks.v1+cell": {
     "cellMetadata": {
      "byteLimit": 2048000,
      "rowLimit": 10000
     },
     "inputWidgets": {},
     "nuid": "a495a862-d1b8-4dd1-b1d2-50707f64c154",
     "showTitle": false,
     "tableResultSettingsMap": {},
     "title": ""
    }
   },
   "outputs": [],
   "source": [
    "SELECT approx_percentile(DISTINCT col, 0.5, 100) FROM VALUES (0), (6), (6), (7), (9), (10) AS tab(col);\n"
   ]
  },
  {
   "cell_type": "code",
   "execution_count": 0,
   "metadata": {
    "application/vnd.databricks.v1+cell": {
     "cellMetadata": {
      "byteLimit": 2048000,
      "rowLimit": 10000
     },
     "inputWidgets": {},
     "nuid": "256d6e15-dca3-4b11-be16-1636ab2cd266",
     "showTitle": false,
     "tableResultSettingsMap": {},
     "title": ""
    }
   },
   "outputs": [],
   "source": [
    "SELECT approx_top_k(expr, 2) FROM VALUES 'a', 'b', 'c', 'c', 'c', 'c', 'd', 'd' AS tab(expr);"
   ]
  },
  {
   "cell_type": "markdown",
   "metadata": {
    "application/vnd.databricks.v1+cell": {
     "cellMetadata": {},
     "inputWidgets": {},
     "nuid": "aab2b64c-4f11-4056-98fd-ce7234667b88",
     "showTitle": false,
     "tableResultSettingsMap": {},
     "title": ""
    }
   },
   "source": [
    "#AI Functions"
   ]
  },
  {
   "cell_type": "code",
   "execution_count": 0,
   "metadata": {
    "application/vnd.databricks.v1+cell": {
     "cellMetadata": {
      "byteLimit": 2048000,
      "rowLimit": 10000
     },
     "inputWidgets": {},
     "nuid": "7cd99052-9cc2-4e77-8ef2-ab83d795bc48",
     "showTitle": false,
     "tableResultSettingsMap": {},
     "title": ""
    }
   },
   "outputs": [],
   "source": [
    "SELECT ai_analyze_sentiment('I am happy') as sent_1, ai_analyze_sentiment('I am sad') as sent_2;"
   ]
  },
  {
   "cell_type": "code",
   "execution_count": 0,
   "metadata": {
    "application/vnd.databricks.v1+cell": {
     "cellMetadata": {
      "byteLimit": 2048000,
      "rowLimit": 10000
     },
     "inputWidgets": {},
     "nuid": "3dae50e2-8b68-4c2f-b791-87aa68d85c73",
     "showTitle": false,
     "tableResultSettingsMap": {},
     "title": ""
    }
   },
   "outputs": [],
   "source": [
    "SELECT ai_classify(\"My password is leaked.\", ARRAY(\"urgent\", \"not urgent\"));"
   ]
  },
  {
   "cell_type": "code",
   "execution_count": 0,
   "metadata": {
    "application/vnd.databricks.v1+cell": {
     "cellMetadata": {
      "byteLimit": 2048000,
      "rowLimit": 10000
     },
     "inputWidgets": {},
     "nuid": "6db75c69-bebd-4f9d-b747-6ba0d02948a9",
     "showTitle": false,
     "tableResultSettingsMap": {},
     "title": ""
    }
   },
   "outputs": [],
   "source": [
    "SELECT ai_extract(\n",
    "    'John Doe lives in New York and works for Acme Corp.',\n",
    "    array('person', 'location', 'organization')\n",
    "  );"
   ]
  },
  {
   "cell_type": "code",
   "execution_count": 0,
   "metadata": {
    "application/vnd.databricks.v1+cell": {
     "cellMetadata": {
      "byteLimit": 2048000,
      "rowLimit": 10000
     },
     "inputWidgets": {},
     "nuid": "a60e580f-00fd-4a94-acf4-d79889a3bef8",
     "showTitle": false,
     "tableResultSettingsMap": {},
     "title": ""
    }
   },
   "outputs": [],
   "source": [
    "SELECT ai_fix_grammar('This sentence have some mistake');"
   ]
  },
  {
   "cell_type": "code",
   "execution_count": 0,
   "metadata": {
    "application/vnd.databricks.v1+cell": {
     "cellMetadata": {
      "byteLimit": 2048000,
      "rowLimit": 10000
     },
     "inputWidgets": {},
     "nuid": "6fd517a0-fb80-4946-81d2-646fc4afb477",
     "showTitle": false,
     "tableResultSettingsMap": {},
     "title": ""
    }
   },
   "outputs": [],
   "source": [
    "SELECT ai_gen('Generate a concise, cheerful email title for a summer bike sale with 20% discount');\n",
    "  "
   ]
  },
  {
   "cell_type": "code",
   "execution_count": 0,
   "metadata": {
    "application/vnd.databricks.v1+cell": {
     "cellMetadata": {},
     "inputWidgets": {},
     "nuid": "b8e106a9-1ed6-43c6-a9c4-952af1b2d7a4",
     "showTitle": false,
     "tableResultSettingsMap": {},
     "title": ""
    }
   },
   "outputs": [],
   "source": []
  },
  {
   "cell_type": "code",
   "execution_count": 0,
   "metadata": {
    "application/vnd.databricks.v1+cell": {
     "cellMetadata": {
      "byteLimit": 2048000,
      "rowLimit": 10000
     },
     "inputWidgets": {},
     "nuid": "83ec2c16-c092-4ff7-a064-ba5c3b2ae16b",
     "showTitle": false,
     "tableResultSettingsMap": {},
     "title": ""
    }
   },
   "outputs": [],
   "source": [
    "SELECT ai_mask(\n",
    "    'John Doe lives in New York. His email is john.doe@example.com.',\n",
    "    array('person', 'email')\n",
    "  );"
   ]
  },
  {
   "cell_type": "code",
   "execution_count": 0,
   "metadata": {
    "application/vnd.databricks.v1+cell": {
     "cellMetadata": {
      "byteLimit": 2048000,
      "rowLimit": 10000
     },
     "inputWidgets": {},
     "nuid": "510f1f1f-d577-4d45-b018-905f2e997b9e",
     "showTitle": false,
     "tableResultSettingsMap": {},
     "title": ""
    }
   },
   "outputs": [],
   "source": [
    "SELECT *,\n",
    "  ai_query(\n",
    "    'databricks-meta-llama-3-1-70b-instruct',\n",
    "    \"Can you tell me the name of the US state that serves the provided ZIP code? zip code: \" || pickup_zip\n",
    "    )\n",
    "  FROM samples.nyctaxi.trips\n",
    "  LIMIT 10"
   ]
  },
  {
   "cell_type": "code",
   "execution_count": 0,
   "metadata": {
    "application/vnd.databricks.v1+cell": {
     "cellMetadata": {
      "byteLimit": 2048000,
      "rowLimit": 10000
     },
     "inputWidgets": {},
     "nuid": "2129ff98-28ef-4416-95b3-ca339f39109a",
     "showTitle": false,
     "tableResultSettingsMap": {},
     "title": ""
    }
   },
   "outputs": [],
   "source": [
    "SELECT ai_similarity('Apache Spark', 'Apache Arrow');"
   ]
  },
  {
   "cell_type": "code",
   "execution_count": 0,
   "metadata": {
    "application/vnd.databricks.v1+cell": {
     "cellMetadata": {
      "byteLimit": 2048000,
      "rowLimit": 10000
     },
     "inputWidgets": {},
     "nuid": "11fe3b4c-9f98-4497-af4e-bc02dbbee036",
     "showTitle": false,
     "tableResultSettingsMap": {},
     "title": ""
    }
   },
   "outputs": [],
   "source": [
    "SELECT ai_translate('La vida es un hermoso viaje.', 'en')"
   ]
  },
  {
   "cell_type": "code",
   "execution_count": 0,
   "metadata": {
    "application/vnd.databricks.v1+cell": {
     "cellMetadata": {},
     "inputWidgets": {},
     "nuid": "6e0e11f0-7563-4396-a867-4a5d0c992c81",
     "showTitle": false,
     "tableResultSettingsMap": {},
     "title": ""
    }
   },
   "outputs": [],
   "source": []
  }
 ],
 "metadata": {
  "application/vnd.databricks.v1+notebook": {
   "computePreferences": null,
   "dashboards": [],
   "environmentMetadata": {
    "base_environment": "",
    "environment_version": "2"
   },
   "language": "sql",
   "notebookMetadata": {
    "pythonIndentUnit": 4
   },
   "notebookName": "Databricks SQL Examples",
   "widgets": {}
  },
  "language_info": {
   "name": "sql"
  }
 },
 "nbformat": 4,
 "nbformat_minor": 0
}
