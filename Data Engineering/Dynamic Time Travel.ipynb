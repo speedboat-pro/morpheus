{
 "cells": [
  {
   "cell_type": "code",
   "execution_count": 0,
   "metadata": {
    "application/vnd.databricks.v1+cell": {
     "cellMetadata": {
      "byteLimit": 2048000,
      "rowLimit": 10000
     },
     "inputWidgets": {},
     "nuid": "722d6f98-a576-493e-99e1-110ce235c803",
     "showTitle": false,
     "tableResultSettingsMap": {},
     "title": ""
    }
   },
   "outputs": [],
   "source": [
    "def latest_version(query, table, max_mode):\n",
    "    if max_mode == \"version\":\n",
    "        hist =  spark.sql(f\"describe history {table}\").select(max(\"version\")).collect()[0][0]\n",
    "        display(spark.sql(f\"{query} VERSION AS OF {hist}\"))\n",
    "    else:\n",
    "        hist =  spark.sql(f\"describe history {table}\").select(max(\"timestamp\")).collect()[0][0]\n",
    "        display(\n",
    "            spark.sql(\n",
    "                f\"{query} TIMESTAMP AS OF \\'{hist}\\'\"\n",
    "                )\n",
    "        )\n",
    "        "
   ]
  },
  {
   "cell_type": "code",
   "execution_count": 0,
   "metadata": {
    "application/vnd.databricks.v1+cell": {
     "cellMetadata": {
      "byteLimit": 2048000,
      "rowLimit": 10000
     },
     "inputWidgets": {},
     "nuid": "a7ff83b5-17d9-4533-9f08-53e02ee07972",
     "showTitle": false,
     "tableResultSettingsMap": {},
     "title": ""
    }
   },
   "outputs": [],
   "source": [
    "version_check(table='customers', max_mode='version', query = 'select * from customers')"
   ]
  }
 ],
 "metadata": {
  "application/vnd.databricks.v1+notebook": {
   "computePreferences": null,
   "dashboards": [],
   "environmentMetadata": {
    "base_environment": "",
    "environment_version": "2"
   },
   "inputWidgetPreferences": null,
   "language": "python",
   "notebookMetadata": {
    "mostRecentlyExecutedCommandWithImplicitDF": {
     "commandId": 5818443928492493,
     "dataframes": [
      "_sqldf"
     ]
    },
    "pythonIndentUnit": 4
   },
   "notebookName": "Dynamic Time Travel",
   "widgets": {}
  },
  "language_info": {
   "name": "python"
  }
 },
 "nbformat": 4,
 "nbformat_minor": 0
}
