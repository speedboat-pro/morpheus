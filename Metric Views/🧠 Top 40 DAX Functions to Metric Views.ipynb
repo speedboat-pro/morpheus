{
 "cells": [
  {
   "cell_type": "markdown",
   "metadata": {
    "application/vnd.databricks.v1+cell": {
     "cellMetadata": {},
     "inputWidgets": {},
     "nuid": "ce2f55aa-1781-42ea-b24c-094dfd9f5a7d",
     "showTitle": false,
     "tableResultSettingsMap": {},
     "title": ""
    }
   },
   "source": [
    "# 🧠 Top 40 DAX Functions to Metric Views"
   ]
  },
  {
   "cell_type": "markdown",
   "metadata": {
    "application/vnd.databricks.v1+cell": {
     "cellMetadata": {},
     "inputWidgets": {},
     "nuid": "d0e92ea6-1d9b-4d0c-a3ea-0c95f6d7e512",
     "showTitle": false,
     "tableResultSettingsMap": {},
     "title": ""
    }
   },
   "source": [
    "## 🧮 Aggregation & Math\n",
    "| DAX Function | Description | DBXMV Syntax|\n",
    "|---|---|---|\n",
    "| SUM() | Adds up all values in a column. |``` SUM()```|\n",
    "| AVERAGE() | Returns the arithmetic mean. |``` AVERAGE()```|\n",
    "| MIN() | Returns the smallest value. |```MIN() ```|\n",
    "| MAX() | Returns the largest value. |```MAX()```|\n",
    "| COUNT() | Counts numeric values. |``` COUNT()```|\n",
    "| COUNTA() | Counts all non-blank values. |```COUNTIF(isnotnull(<col>) OR <col>!= '')```|\n",
    "| COUNTROWS() | Counts rows in a table. |``` COUNT(1)```|\n",
    "| DIVIDE(x, y, 0) | Division with zero handling. |```coalese(try_divide(x,y,),0 )```|\n",
    "\n"
   ]
  },
  {
   "cell_type": "markdown",
   "metadata": {
    "application/vnd.databricks.v1+cell": {
     "cellMetadata": {},
     "inputWidgets": {},
     "nuid": "bbd74679-b43d-4c18-9552-ff0181618cdd",
     "showTitle": false,
     "tableResultSettingsMap": {},
     "title": ""
    }
   },
   "source": [
    "## 🔁 Iterators & Table Functions\n",
    "| DAX Function | Description | DBXMV Syntax|\n",
    "|---|---|---|\n",
    "| CROSSJOIN() | Cartesian product of tables.|```CROSS JOIN would be in definition of MV```|\n",
    "| GENERATE() | Joins tables using row context.|```TBD```|\n",
    "| DISTINCT() | Returns unique values.|```DISTINCT```|\n",
    "| UNION() | Combines two tables.|```UNION would be in definition of MV```|\n",
    "| EXCEPT() | Returns rows from one table not in another.|```EXCEPT would be in definition of MV```|\n",
    "| INTERSECT() | Returns common rows between two tables.|```INTERSECT would be in definition of MV```|\n",
    "| TOPN() | Returns top N rows by expression.|```TBD ```|\n",
    "| RANKX() | Ranks rows based on an expression.|```TBD ```|\n",
    "| SUMX() | Iterates over a table and sums an expression. |```SUM(<col>)  FILTER <conditional clause> ```|\n",
    "| AVERAGEX() | Averages an expression over a table. |```AVERAGE(<col>)  FILTER <conditional clause>```|\n",
    "| MINX() | Minimum of an expression over a table. |```MIN(<col>)  FILTER <conditional clause> ```|\n",
    "| MAXX() | Maximum of an expression over a table. |```MAX(<col>)  FILTER <conditional clause>```|\n"
   ]
  },
  {
   "cell_type": "markdown",
   "metadata": {
    "application/vnd.databricks.v1+cell": {
     "cellMetadata": {},
     "inputWidgets": {},
     "nuid": "1fe96c2b-6dbf-4628-9c78-42972d4dcb13",
     "showTitle": false,
     "tableResultSettingsMap": {},
     "title": ""
    }
   },
   "source": [
    "## 🕰️ Time Intelligence\n",
    "| DAX Function | Description | DBXMV Syntax|\n",
    "|---|---|---|\n",
    "DATE()\n",
    "Builds a date from year, month, day.\n",
    "YEAR(), MONTH(), DAY()\n",
    "Extracts parts of a date.\n",
    "TODAY(), NOW()\n",
    "Returns current date/time.\n",
    "SAMEPERIODLASTYEAR()\n",
    "Shifts date context back one year.\n",
    "PREVIOUSMONTH(), NEXTMONTH()\n",
    "Moves context to previous/next month.\n",
    "DATESYTD(), TOTALYTD()\n",
    "Year-to-date totals.\n",
    "DATESMTD(), DATESQTD()\n",
    "Month-to-date, quarter-to-date totals.\n",
    "DATEADD()\n",
    "Shifts date context by a set interval.\n",
    "PARALLELPERIOD()\n",
    "Shifts context by months, quarters, or years.\n",
    "\n"
   ]
  }
 ],
 "metadata": {
  "application/vnd.databricks.v1+notebook": {
   "computePreferences": null,
   "dashboards": [],
   "environmentMetadata": {
    "base_environment": "",
    "environment_version": "4"
   },
   "inputWidgetPreferences": null,
   "language": "python",
   "notebookMetadata": {
    "pythonIndentUnit": 4
   },
   "notebookName": "🧠 Top 40 DAX Functions to Metric Views",
   "widgets": {}
  },
  "language_info": {
   "name": "python"
  }
 },
 "nbformat": 4,
 "nbformat_minor": 0
}
