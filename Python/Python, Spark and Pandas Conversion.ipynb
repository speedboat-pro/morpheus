{
 "cells": [
  {
   "cell_type": "markdown",
   "metadata": {
    "application/vnd.databricks.v1+cell": {
     "cellMetadata": {},
     "inputWidgets": {},
     "nuid": "455d83e7-8471-4f82-94fb-4bd3e8f37330",
     "showTitle": false,
     "tableResultSettingsMap": {},
     "title": ""
    }
   },
   "source": [
    "### Conversion Code Examples\n",
    "|Source| Destination| Method|\n",
    "|----|----|---|\n",
    "| core.Pandas (`df`) | pyspark.pandas (`ps`)|`df = ps.createDataFrame(df)` |\n",
    "| core.Pandas (`df`) | pyspark.sql (`sdf`)| `sdf = spark.createDataFrame(df)`|\n",
    "| pyspark.pandas (`ps`)|core.Pandas (`df`)|`df = ps.to_pandas()` |``\n",
    "| pyspark.sql (`sdf`)| core.Pandas (`df`) |  `df = sdf.toPandas()`|\n",
    "|pyspark.sql (`sdf`) |pyspark.pandas (`ps`)|`ps = sdf.to_pandas()` or `ps.createDataFrame(sdf)` or `ps = sdf.to_pandas_on_spark()`|\n",
    "| pyspark.pandas (`ps`)| pyspark.sql (`sdf`) |  `sdf = ps.createDataFrame(df)`| \n"
   ]
  },
  {
   "cell_type": "code",
   "execution_count": 0,
   "metadata": {
    "application/vnd.databricks.v1+cell": {
     "cellMetadata": {},
     "inputWidgets": {},
     "nuid": "f260a1a9-d86a-40b0-ac16-739a5f9d4664",
     "showTitle": false,
     "tableResultSettingsMap": {},
     "title": ""
    }
   },
   "outputs": [],
   "source": []
  }
 ],
 "metadata": {
  "application/vnd.databricks.v1+notebook": {
   "computePreferences": null,
   "dashboards": [],
   "environmentMetadata": {
    "base_environment": "",
    "environment_version": "2"
   },
   "inputWidgetPreferences": null,
   "language": "python",
   "notebookMetadata": {
    "pythonIndentUnit": 4
   },
   "notebookName": "Python, Spark and Pandas Conversion",
   "widgets": {}
  },
  "language_info": {
   "name": "python"
  }
 },
 "nbformat": 4,
 "nbformat_minor": 0
}
