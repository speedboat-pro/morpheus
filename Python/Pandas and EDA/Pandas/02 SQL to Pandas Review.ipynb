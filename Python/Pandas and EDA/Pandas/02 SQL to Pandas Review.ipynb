{
 "cells": [
  {
   "cell_type": "markdown",
   "metadata": {
    "application/vnd.databricks.v1+cell": {
     "cellMetadata": {},
     "inputWidgets": {},
     "nuid": "d2bb2c79-b598-4334-a66d-c970c78392b6",
     "showTitle": false,
     "tableResultSettingsMap": {},
     "title": ""
    }
   },
   "source": [
    "Python Analysis and Feature Engineering\n",
    "=======\n",
    "\n",
    "\n",
    "This lab will introduce to practical code for two concepts\n",
    "\n",
    "1. SQL style querying in Pandas \n",
    "1. SQL style data shaping in Pandas\n",
    "\n",
    "\n",
    "\n"
   ]
  },
  {
   "cell_type": "markdown",
   "metadata": {
    "application/vnd.databricks.v1+cell": {
     "cellMetadata": {},
     "inputWidgets": {},
     "nuid": "2ae0fe13-7d6a-4d12-9629-99b4667fde71",
     "showTitle": false,
     "tableResultSettingsMap": {},
     "title": ""
    }
   },
   "source": [
    "**Notebook Setup**"
   ]
  },
  {
   "cell_type": "code",
   "execution_count": 0,
   "metadata": {
    "application/vnd.databricks.v1+cell": {
     "cellMetadata": {},
     "inputWidgets": {},
     "nuid": "b330b672-7c4f-455e-b8df-2db5600f9057",
     "showTitle": false,
     "tableResultSettingsMap": {},
     "title": ""
    }
   },
   "outputs": [],
   "source": [
    "import numpy as np\n",
    "import pandas as pd\n",
    "from scipy import stats"
   ]
  },
  {
   "cell_type": "code",
   "execution_count": 0,
   "metadata": {
    "application/vnd.databricks.v1+cell": {
     "cellMetadata": {},
     "inputWidgets": {},
     "nuid": "c383f4ed-940a-4073-892c-5f70ebc198e4",
     "showTitle": false,
     "tableResultSettingsMap": {},
     "title": ""
    }
   },
   "outputs": [],
   "source": [
    "from pandas import plotting as pltpd"
   ]
  },
  {
   "cell_type": "code",
   "execution_count": 0,
   "metadata": {
    "application/vnd.databricks.v1+cell": {
     "cellMetadata": {},
     "inputWidgets": {},
     "nuid": "8652e5b6-6ef2-458b-891a-8339e93d173b",
     "showTitle": false,
     "tableResultSettingsMap": {},
     "title": ""
    },
    "scrolled": true
   },
   "outputs": [],
   "source": [
    "df = pd.read_csv('labtrain1.csv')\n",
    "df.info()"
   ]
  },
  {
   "cell_type": "code",
   "execution_count": 0,
   "metadata": {
    "application/vnd.databricks.v1+cell": {
     "cellMetadata": {},
     "inputWidgets": {},
     "nuid": "d33a76fd-8faf-4715-a388-09bdad54b882",
     "showTitle": false,
     "tableResultSettingsMap": {},
     "title": ""
    }
   },
   "outputs": [],
   "source": [
    "df.describe()"
   ]
  },
  {
   "cell_type": "markdown",
   "metadata": {
    "application/vnd.databricks.v1+cell": {
     "cellMetadata": {},
     "inputWidgets": {},
     "nuid": "a5f3f8b6-6c23-470a-8706-c7dbf1d8a7ad",
     "showTitle": false,
     "tableResultSettingsMap": {},
     "title": ""
    }
   },
   "source": [
    "**Data Setup**"
   ]
  },
  {
   "cell_type": "markdown",
   "metadata": {
    "application/vnd.databricks.v1+cell": {
     "cellMetadata": {},
     "inputWidgets": {},
     "nuid": "45f70ca1-fa0a-4fac-8fa7-395729d776c2",
     "showTitle": false,
     "tableResultSettingsMap": {},
     "title": ""
    }
   },
   "source": [
    "SQL style querying in Pandas\n",
    "----\n",
    "1. SELECT or Vertical filters\n",
    "1. WHERE or Horizontal filters\n",
    "1. ORDER BY or Sort\n",
    "1. TOP NN/ LIMIT NN\n",
    "1. GROUP BY and aggregate samples\n",
    "1. HAVING or filtered aggregation"
   ]
  },
  {
   "cell_type": "markdown",
   "metadata": {
    "application/vnd.databricks.v1+cell": {
     "cellMetadata": {},
     "inputWidgets": {},
     "nuid": "d7c7cb15-ab81-4d26-a7ad-73b84943280e",
     "showTitle": false,
     "tableResultSettingsMap": {},
     "title": ""
    }
   },
   "source": [
    "**SELECT**"
   ]
  },
  {
   "cell_type": "code",
   "execution_count": 0,
   "metadata": {
    "application/vnd.databricks.v1+cell": {
     "cellMetadata": {},
     "inputWidgets": {},
     "nuid": "0f59c78d-d24c-4c83-83dd-f6c0b02924d8",
     "showTitle": false,
     "tableResultSettingsMap": {},
     "title": ""
    }
   },
   "outputs": [],
   "source": [
    "#SELECT Calendar_Year,NVVar1 from df\n",
    "#by label\n",
    "#select_df1 = df[: ,[\"Calendar_Year\",\"NVVar2\"]]\n",
    "select_df1 = df[[\"Calendar_Year\",\"NVVar2\"]]\n",
    "select_df1"
   ]
  },
  {
   "cell_type": "code",
   "execution_count": 0,
   "metadata": {
    "application/vnd.databricks.v1+cell": {
     "cellMetadata": {},
     "inputWidgets": {},
     "nuid": "9e9ca615-449a-4944-bd01-61deca22c4da",
     "showTitle": false,
     "tableResultSettingsMap": {},
     "title": ""
    }
   },
   "outputs": [],
   "source": [
    "collist = \",\".join(list(select_df1.columns)).replace(\",\",\"\\\",\\\"\")"
   ]
  },
  {
   "cell_type": "code",
   "execution_count": 0,
   "metadata": {
    "application/vnd.databricks.v1+cell": {
     "cellMetadata": {},
     "inputWidgets": {},
     "nuid": "2f73a8c1-fbf8-4f6b-a6ee-b5ff9f57246a",
     "showTitle": false,
     "tableResultSettingsMap": {},
     "title": ""
    }
   },
   "outputs": [],
   "source": [
    "'\"'+collist+'\"'"
   ]
  },
  {
   "cell_type": "code",
   "execution_count": 0,
   "metadata": {
    "application/vnd.databricks.v1+cell": {
     "cellMetadata": {},
     "inputWidgets": {},
     "nuid": "d71c85e8-08ee-4afb-9569-6b5a180a5acc",
     "showTitle": false,
     "tableResultSettingsMap": {},
     "title": ""
    }
   },
   "outputs": [],
   "source": [
    "#SELECT ROW_ID, Calendar_Year, MOdel_year, NVVar1 \n",
    "#from df WHERE Calendar_Year = 2005\n",
    "# by position\n",
    "select_df2 = df[df.Calendar_Year == 2005].iloc[0:5,[1,2,3,4]]\n",
    "select_df2"
   ]
  },
  {
   "cell_type": "code",
   "execution_count": 0,
   "metadata": {
    "application/vnd.databricks.v1+cell": {
     "cellMetadata": {},
     "inputWidgets": {},
     "nuid": "1ddb2c5b-952c-4415-a0b5-894b0e5fd64c",
     "showTitle": false,
     "tableResultSettingsMap": {},
     "title": ""
    }
   },
   "outputs": [],
   "source": [
    "# select_df2 = df[df.Calendar_Year == 2005].iloc[:,[1,2,3,4]]\n",
    "df[['Calendar_Year', 'Model_Year', 'NVVar1', 'NVVar2']].query(\"Calendar_Year == 2005\")"
   ]
  },
  {
   "cell_type": "code",
   "execution_count": 0,
   "metadata": {
    "application/vnd.databricks.v1+cell": {
     "cellMetadata": {},
     "inputWidgets": {},
     "nuid": "d822c607-7e5d-46f5-8be1-eb94ccdc29b8",
     "showTitle": false,
     "tableResultSettingsMap": {},
     "title": ""
    }
   },
   "outputs": [],
   "source": [
    "col_len = len(select_df2.columns)"
   ]
  },
  {
   "cell_type": "code",
   "execution_count": 0,
   "metadata": {
    "application/vnd.databricks.v1+cell": {
     "cellMetadata": {},
     "inputWidgets": {},
     "nuid": "223e5407-f2b4-41c3-88c0-eb191e319854",
     "showTitle": false,
     "tableResultSettingsMap": {},
     "title": ""
    }
   },
   "outputs": [],
   "source": [
    "list(df.columns[1:5])"
   ]
  },
  {
   "cell_type": "code",
   "execution_count": 0,
   "metadata": {
    "application/vnd.databricks.v1+cell": {
     "cellMetadata": {},
     "inputWidgets": {},
     "nuid": "2caeb245-737e-41bb-a0e8-3d5e0cd3f0fb",
     "showTitle": false,
     "tableResultSettingsMap": {},
     "title": ""
    }
   },
   "outputs": [],
   "source": [
    "#SELECT COUNT(*) FROM select_df2\n",
    "row_len = len(select_df2)"
   ]
  },
  {
   "cell_type": "code",
   "execution_count": 0,
   "metadata": {
    "application/vnd.databricks.v1+cell": {
     "cellMetadata": {},
     "inputWidgets": {},
     "nuid": "50bf39f2-7779-44fc-97bb-772d79554ea7",
     "showTitle": false,
     "tableResultSettingsMap": {},
     "title": ""
    }
   },
   "outputs": [],
   "source": [
    "select_df2.shape"
   ]
  },
  {
   "cell_type": "code",
   "execution_count": 0,
   "metadata": {
    "application/vnd.databricks.v1+cell": {
     "cellMetadata": {},
     "inputWidgets": {},
     "nuid": "fb044c8e-2b1f-42c0-86c6-e7be63e8ad72",
     "showTitle": false,
     "tableResultSettingsMap": {},
     "title": ""
    }
   },
   "outputs": [],
   "source": [
    "row_len * col_len"
   ]
  },
  {
   "cell_type": "code",
   "execution_count": 0,
   "metadata": {
    "application/vnd.databricks.v1+cell": {
     "cellMetadata": {},
     "inputWidgets": {},
     "nuid": "75ebcdcf-c7c6-4ca7-afb1-dc3c79e72a96",
     "showTitle": false,
     "tableResultSettingsMap": {},
     "title": ""
    }
   },
   "outputs": [],
   "source": [
    "#SELECT COUNT(*) FROM df  WHERE Calendar_Year = 2005\n",
    "len(df[df.Calendar_Year == 2005])"
   ]
  },
  {
   "cell_type": "code",
   "execution_count": 0,
   "metadata": {
    "application/vnd.databricks.v1+cell": {
     "cellMetadata": {},
     "inputWidgets": {},
     "nuid": "5b848e23-8244-45a9-8184-23ee9a498e19",
     "showTitle": false,
     "tableResultSettingsMap": {},
     "title": ""
    }
   },
   "outputs": [],
   "source": [
    "for dt in select_df2.dtypes: print(dt)"
   ]
  },
  {
   "cell_type": "code",
   "execution_count": 0,
   "metadata": {
    "application/vnd.databricks.v1+cell": {
     "cellMetadata": {},
     "inputWidgets": {},
     "nuid": "8ebcfc0a-737f-449a-b924-328f46accf53",
     "showTitle": false,
     "tableResultSettingsMap": {},
     "title": ""
    }
   },
   "outputs": [],
   "source": [
    "#select only numerics\n",
    "#numerics = ['int16', 'int32', 'int64', 'float16', 'float32', 'float64']\n",
    "numerics = [ 'int64']\n",
    "#df_numeric = df.select_dtypes(include=numerics) \n",
    "df.describe(include=numerics).T"
   ]
  },
  {
   "cell_type": "code",
   "execution_count": 0,
   "metadata": {
    "application/vnd.databricks.v1+cell": {
     "cellMetadata": {},
     "inputWidgets": {},
     "nuid": "02fd28aa-ee14-4de0-a129-743615a05e0f",
     "showTitle": false,
     "tableResultSettingsMap": {},
     "title": ""
    }
   },
   "outputs": [],
   "source": [
    "#descriptive stats for strings\n",
    "df.describe(include=\"O\")"
   ]
  },
  {
   "cell_type": "markdown",
   "metadata": {
    "application/vnd.databricks.v1+cell": {
     "cellMetadata": {},
     "inputWidgets": {},
     "nuid": "581fd5ae-3ec7-434e-bee0-01d5ae85efbe",
     "showTitle": false,
     "tableResultSettingsMap": {},
     "title": ""
    }
   },
   "source": [
    "**ORDER BY**"
   ]
  },
  {
   "cell_type": "code",
   "execution_count": 0,
   "metadata": {
    "application/vnd.databricks.v1+cell": {
     "cellMetadata": {},
     "inputWidgets": {},
     "nuid": "759b9554-2819-4680-bdec-fa2f209739fd",
     "showTitle": false,
     "tableResultSettingsMap": {},
     "title": ""
    }
   },
   "outputs": [],
   "source": [
    "#SELECT \n",
    "#     Calendar_Year,NVVar1 \n",
    "#FROM\n",
    "#     df \n",
    "#ORDER BY Calendar_Year ASC\n",
    "select_df1.sort_values('Calendar_Year')"
   ]
  },
  {
   "cell_type": "code",
   "execution_count": 0,
   "metadata": {
    "application/vnd.databricks.v1+cell": {
     "cellMetadata": {},
     "inputWidgets": {},
     "nuid": "54171a40-64fb-4231-a252-ee6141bd3398",
     "showTitle": false,
     "tableResultSettingsMap": {},
     "title": ""
    }
   },
   "outputs": [],
   "source": [
    "#SELECT \n",
    "#     Calendar_Year,NVVar1 \n",
    "\n",
    "#FROM\n",
    "#     df \n",
    "#ORDER BY Calendar_Year DESC\n",
    "select_df1.sort_values('Calendar_Year',ascending=False)"
   ]
  },
  {
   "cell_type": "markdown",
   "metadata": {
    "application/vnd.databricks.v1+cell": {
     "cellMetadata": {},
     "inputWidgets": {},
     "nuid": "7758bfaf-5555-4ba3-9321-a4d9252800b8",
     "showTitle": false,
     "tableResultSettingsMap": {},
     "title": ""
    }
   },
   "source": [
    "**TOP / LIMIT**"
   ]
  },
  {
   "cell_type": "code",
   "execution_count": 0,
   "metadata": {
    "application/vnd.databricks.v1+cell": {
     "cellMetadata": {},
     "inputWidgets": {},
     "nuid": "dcd748e2-ccc1-4711-8e39-9b6cca151abc",
     "showTitle": false,
     "tableResultSettingsMap": {},
     "title": ""
    }
   },
   "outputs": [],
   "source": [
    "#SELECT TOP 50 \n",
    "#Calendar_Year,NVVar1 \n",
    "#FROM\n",
    "#     df \n",
    "#ORDER BY Calendar_Year DESC\n",
    "#       or\n",
    "#SELECT \n",
    "#Calendar_Year,NVVar1 \n",
    "#FROM\n",
    "#     df \n",
    "#ORDER BY Calendar_Year DESC\n",
    "#LIMIT 50\n",
    "select_df1.sort_values('Calendar_Year',ascending=False)[0:50]"
   ]
  },
  {
   "cell_type": "code",
   "execution_count": 0,
   "metadata": {
    "application/vnd.databricks.v1+cell": {
     "cellMetadata": {},
     "inputWidgets": {},
     "nuid": "3bb1d43b-a203-4f2a-a78c-94478527e525",
     "showTitle": false,
     "tableResultSettingsMap": {},
     "title": ""
    }
   },
   "outputs": [],
   "source": [
    "#SELECT \n",
    "#TOP 50 PERCENT\n",
    "#Calendar_Year,NVVar1 \n",
    "#FROM\n",
    "#     df \n",
    "#ORDER BY Calendar_Year DESC\n",
    "print(\"before:\",len(select_df1))\n",
    "#select_df1_after = select_df1.sort_values('Calendar_Year',ascending=False).head(int(df.shape[0]*.5))\n",
    "select_df1_after = (\n",
    "    select_df1.sort_values('Calendar_Year',ascending=False) \n",
    "    .head(int(len(select_df1)*.5)))\n",
    "print(\"after:\",len(select_df1_after))"
   ]
  },
  {
   "cell_type": "code",
   "execution_count": 0,
   "metadata": {
    "application/vnd.databricks.v1+cell": {
     "cellMetadata": {},
     "inputWidgets": {},
     "nuid": "482c60fb-d19c-4b67-ac5b-baa4d54389f3",
     "showTitle": false,
     "tableResultSettingsMap": {},
     "title": ""
    }
   },
   "outputs": [],
   "source": [
    "# WITH\n",
    "#     foo as\n",
    "#     (\n",
    "#         SELECT \n",
    "#              *\n",
    "#         from \n",
    "#             df\n",
    "#         ORDER By Calendar_Year\n",
    "#         LIMIT 50\n",
    "#     )\n",
    "#     SELECT \n",
    "#         Top 50% *\n",
    "#     FROM\n",
    "#         foo\n",
    "print(\"before:\",len(select_df1))\n",
    "#select_df3 =select_df1[0:49].sort_values('Calendar_Year',ascending=False)\n",
    "select_df2_after = \\\n",
    "    select_df1.sort_values(\n",
    "        #get 50 rows after sort\n",
    "        'Calendar_Year',ascending=False)[0:49].head( \\\n",
    "            int(select_df1[0:50].sort_values(\n",
    "                #shape = convert dataframe from query into index = 0 list of rows\n",
    "                'Calendar_Year',ascending=False).shape[0]*.5))\n",
    "print(\"after:\",len(select_df2_after))"
   ]
  },
  {
   "cell_type": "code",
   "execution_count": 0,
   "metadata": {
    "application/vnd.databricks.v1+cell": {
     "cellMetadata": {},
     "inputWidgets": {},
     "nuid": "91ecf726-f800-4452-b5c3-306f94a2f072",
     "showTitle": false,
     "tableResultSettingsMap": {},
     "title": ""
    }
   },
   "outputs": [],
   "source": [
    "col_list = list(set(col if 'NV' in col else None for col in df.columns))\n",
    "print(col_list)\n",
    "col_list.pop(col_list.index(None))\n",
    "col_list\n"
   ]
  },
  {
   "cell_type": "code",
   "execution_count": 0,
   "metadata": {
    "application/vnd.databricks.v1+cell": {
     "cellMetadata": {},
     "inputWidgets": {},
     "nuid": "b596193a-1329-44c7-a814-27ec1903f17e",
     "showTitle": false,
     "tableResultSettingsMap": {},
     "title": ""
    }
   },
   "outputs": [],
   "source": [
    "len(df)"
   ]
  },
  {
   "cell_type": "markdown",
   "metadata": {
    "application/vnd.databricks.v1+cell": {
     "cellMetadata": {},
     "inputWidgets": {},
     "nuid": "8c8d2fbf-5df7-47da-b760-49eaea9d4ed4",
     "showTitle": false,
     "tableResultSettingsMap": {},
     "title": ""
    }
   },
   "source": [
    "**GROUP BY**"
   ]
  },
  {
   "cell_type": "code",
   "execution_count": 0,
   "metadata": {
    "application/vnd.databricks.v1+cell": {
     "cellMetadata": {},
     "inputWidgets": {},
     "nuid": "1d1c862e-57be-44d0-a049-413a9216322c",
     "showTitle": false,
     "tableResultSettingsMap": {},
     "title": ""
    }
   },
   "outputs": [],
   "source": [
    "#SELECT Calendar_Year, count(*) from df group by Calendar_Year\n",
    "df.Calendar_Year.value_counts()"
   ]
  },
  {
   "cell_type": "code",
   "execution_count": 0,
   "metadata": {
    "application/vnd.databricks.v1+cell": {
     "cellMetadata": {},
     "inputWidgets": {},
     "nuid": "d9414290-6f4f-43c7-8767-2f2c46ffe264",
     "showTitle": false,
     "tableResultSettingsMap": {},
     "title": ""
    }
   },
   "outputs": [],
   "source": [
    "#with (sum as select count(*) sum from df)\n",
    "# ,dtl as (SELECT Calendar_Year, count(*) dtl from df group by Calendar_Year)\n",
    "#select dtl/sum ...\n",
    "df.Calendar_Year.value_counts(normalize=True)"
   ]
  },
  {
   "cell_type": "code",
   "execution_count": 0,
   "metadata": {
    "application/vnd.databricks.v1+cell": {
     "cellMetadata": {},
     "inputWidgets": {},
     "nuid": "09cce9a9-053b-40d9-b9c2-09cdbb9e8169",
     "showTitle": false,
     "tableResultSettingsMap": {},
     "title": ""
    }
   },
   "outputs": [],
   "source": [
    "#SELECT Calendar_Year, AVERAGE(NVVar1)) from df group by Calendar_Year\n",
    "df.groupby('Calendar_Year').mean()['NVVar1']"
   ]
  },
  {
   "cell_type": "code",
   "execution_count": 0,
   "metadata": {
    "application/vnd.databricks.v1+cell": {
     "cellMetadata": {},
     "inputWidgets": {},
     "nuid": "a55fb5db-813a-40df-a306-330299b38b23",
     "showTitle": false,
     "tableResultSettingsMap": {},
     "title": ""
    },
    "scrolled": true
   },
   "outputs": [],
   "source": [
    "# SELECT\n",
    "#     Calendar_Year\n",
    "#     ,COUNT(NVVar1) AS 'Calendar_Year_Count'\n",
    "#     ,COUNT(DISTINCT NVVar1) AS 'Calendar_Year_Count_Distinct'\n",
    "#     ,AVG(NVVar1) AS 'Calendar_Year_Count'\n",
    "#     ,STDEVP(NVVar1) AS 'Calendar_Year_Count'\n",
    "#     ,MIN(NVVar1) AS 'Calendar_Year_Count'\n",
    "#     ,MAX(NVVar1) AS 'Calendar_Year_Count'\n",
    "# FROM\n",
    "#     df\n",
    "# GROUP BY Calendar_Year\n",
    "df_agg1 = pd.DataFrame(\n",
    "    {\n",
    "        # SELECT COUNT(NVVar1) GROUP BY Calendar_Year\n",
    "        'Calendar_Year_Count':\n",
    "            df.groupby('Calendar_Year')\n",
    "                .count()['NVVar1']\n",
    "        , \n",
    "        #SELECT COUNT(DISTINCT NVVar1) GROUP BY Calendar_Year\n",
    "        'Calendar_Year_NVVar1_Count_Distinct':\n",
    "            df.groupby('Calendar_Year')\n",
    "                ['NVVar1'].nunique()\n",
    "        ,\n",
    "        # SELECT AVERAGE(NVVar1) GROUP BY Calendar_Year\n",
    "        'Calendar_Year_NVVar1_Avg':\n",
    "            df.groupby('Calendar_Year')\n",
    "                .mean()['NVVar1']\n",
    "        , \n",
    "                # SELECT STDEV.P(NVVar1) GROUP BY Calendar_Year\n",
    "        'Calendar_Year_NVVar1_Std':\n",
    "            df.groupby('Calendar_Year')\n",
    "                .std()['NVVar1']\n",
    "        , \n",
    "                # SELECT MIN(NVVar1) GROUP BY Calendar_Year\n",
    "        'Calendar_Year_NVVar1_Min':\n",
    "            df.groupby('Calendar_Year')\n",
    "                .min()['NVVar1']        \n",
    "        , \n",
    "                # SELECT MAX(NVVar1) GROUP BY Calendar_Year\n",
    "        'Calendar_Year_NVVar1_Max':\n",
    "            df.groupby('Calendar_Year')\n",
    "                .max()['NVVar1']                \n",
    "    }\n",
    ")\n",
    "df_agg1"
   ]
  },
  {
   "cell_type": "code",
   "execution_count": 0,
   "metadata": {
    "application/vnd.databricks.v1+cell": {
     "cellMetadata": {},
     "inputWidgets": {},
     "nuid": "9de49bd7-e628-4d8f-8be9-1a38a36e3d66",
     "showTitle": false,
     "tableResultSettingsMap": {},
     "title": ""
    }
   },
   "outputs": [],
   "source": [
    "df_agg3 = pd.DataFrame(\n",
    "    {\n",
    "        '2005-2006 Loss Count':\n",
    "            df.loc[(df.Calendar_Year > 2006)  ].groupby('Model_Year')\n",
    "                .sum()['HasLoss']\n",
    "    }\n",
    ")\n",
    "df_agg3"
   ]
  },
  {
   "cell_type": "code",
   "execution_count": 0,
   "metadata": {
    "application/vnd.databricks.v1+cell": {
     "cellMetadata": {},
     "inputWidgets": {},
     "nuid": "6888150b-ceff-49fd-84f6-aeb5721b2204",
     "showTitle": false,
     "tableResultSettingsMap": {},
     "title": ""
    }
   },
   "outputs": [],
   "source": [
    "import pandas as pd\n",
    "import numpy as np\n",
    "\n",
    "dfnan = pd.DataFrame({'A': ['foo', 'bar', 'foo', 'bar', 'foo', 'bar', 'foo', 'foo'],\n",
    "                   'B': ['one', 'one', 'two', np.nan, 'two', 'two', 'one', 'two'],\n",
    "                   'C': np.random.randn(8)})\n",
    "dfnan.groupby('B').count()"
   ]
  },
  {
   "cell_type": "code",
   "execution_count": 0,
   "metadata": {
    "application/vnd.databricks.v1+cell": {
     "cellMetadata": {},
     "inputWidgets": {},
     "nuid": "36a20e0b-5ac5-4f71-b56c-ff77a04df448",
     "showTitle": false,
     "tableResultSettingsMap": {},
     "title": ""
    }
   },
   "outputs": [],
   "source": [
    "set(dfnan.B)"
   ]
  },
  {
   "cell_type": "code",
   "execution_count": 0,
   "metadata": {
    "application/vnd.databricks.v1+cell": {
     "cellMetadata": {},
     "inputWidgets": {},
     "nuid": "a6e3f43e-ce15-459a-a1da-38e2f831fa60",
     "showTitle": false,
     "tableResultSettingsMap": {},
     "title": ""
    }
   },
   "outputs": [],
   "source": [
    "float(None) == np.nan"
   ]
  },
  {
   "cell_type": "code",
   "execution_count": 0,
   "metadata": {
    "application/vnd.databricks.v1+cell": {
     "cellMetadata": {},
     "inputWidgets": {},
     "nuid": "68e87f41-3693-4a0d-a74d-b191516f55d3",
     "showTitle": false,
     "tableResultSettingsMap": {},
     "title": ""
    }
   },
   "outputs": [],
   "source": [
    "type(np.nan)"
   ]
  },
  {
   "cell_type": "code",
   "execution_count": 0,
   "metadata": {
    "application/vnd.databricks.v1+cell": {
     "cellMetadata": {},
     "inputWidgets": {},
     "nuid": "95e9d0b3-c6e9-44a7-b5ae-5fc8b3f96668",
     "showTitle": false,
     "tableResultSettingsMap": {},
     "title": ""
    }
   },
   "outputs": [],
   "source": [
    "#HasLoss by ModelYear\n",
    "df_agg2 = pd.DataFrame(\n",
    "    {\n",
    "        '2005-2006 Loss Count':\n",
    "            df.loc[(df.Calendar_Year <= 2006)  ].groupby('Model_Year')\n",
    "                .sum()['HasLoss']\n",
    "# outer join between aggregate groupings ( tuple)\n",
    ",\n",
    "        '2007-2008 Loss Count':\n",
    "            df.loc[(df.Calendar_Year > 2006)  ].groupby('Model_Year')\n",
    "                .sum()['HasLoss']\n",
    "    }\n",
    ")\n",
    "df_agg2"
   ]
  },
  {
   "cell_type": "code",
   "execution_count": 0,
   "metadata": {
    "application/vnd.databricks.v1+cell": {
     "cellMetadata": {},
     "inputWidgets": {},
     "nuid": "fb3c87b6-e96d-47e1-a5ef-4033eb1a3357",
     "showTitle": false,
     "tableResultSettingsMap": {},
     "title": ""
    }
   },
   "outputs": [],
   "source": [
    "dfg =df.groupby('Calendar_Year')\n",
    "type(dfg)"
   ]
  },
  {
   "cell_type": "code",
   "execution_count": 0,
   "metadata": {
    "application/vnd.databricks.v1+cell": {
     "cellMetadata": {},
     "inputWidgets": {},
     "nuid": "32c022e1-d0b2-4b78-8f0f-7669ef9934aa",
     "showTitle": false,
     "tableResultSettingsMap": {},
     "title": ""
    }
   },
   "outputs": [],
   "source": [
    "# SELECT Calendar_Year, SUM(HasLoss) GROUP BY Calendar_Year\n",
    "dfg.sum()['HasLoss']"
   ]
  },
  {
   "cell_type": "code",
   "execution_count": 0,
   "metadata": {
    "application/vnd.databricks.v1+cell": {
     "cellMetadata": {},
     "inputWidgets": {},
     "nuid": "6f74ddb6-e746-40b5-9377-9cbee4f1e42a",
     "showTitle": false,
     "tableResultSettingsMap": {},
     "title": ""
    }
   },
   "outputs": [],
   "source": [
    " # SELECT Calendar_Year, COUNT(ROW_ID)... GROUP BY Calendar_Year\n",
    "df.groupby('Calendar_Year').count()"
   ]
  },
  {
   "cell_type": "markdown",
   "metadata": {
    "application/vnd.databricks.v1+cell": {
     "cellMetadata": {},
     "inputWidgets": {},
     "nuid": "ada1fc75-6ad6-4ff9-88cf-ee49b76829ea",
     "showTitle": false,
     "tableResultSettingsMap": {},
     "title": ""
    }
   },
   "source": [
    "SQL style data shaping in Pandas\n",
    "----\n",
    "1. AS or derived column review\n",
    "1. JOIN or key based\n",
    "1. UNION or schema based\n",
    "1. Pandas operations that don't ft in SQL Box"
   ]
  },
  {
   "cell_type": "markdown",
   "metadata": {
    "application/vnd.databricks.v1+cell": {
     "cellMetadata": {},
     "inputWidgets": {},
     "nuid": "50b98680-f974-4c9e-b553-177c0acecefc",
     "showTitle": false,
     "tableResultSettingsMap": {},
     "title": ""
    }
   },
   "source": [
    "**AS or derived column review**"
   ]
  },
  {
   "cell_type": "code",
   "execution_count": 0,
   "metadata": {
    "application/vnd.databricks.v1+cell": {
     "cellMetadata": {},
     "inputWidgets": {},
     "nuid": "4afe205d-ebe8-478b-9f5f-74447e17a84c",
     "showTitle": false,
     "tableResultSettingsMap": {},
     "title": ""
    }
   },
   "outputs": [],
   "source": [
    "# WITH \n",
    "#     NVVar1_Std as\n",
    "#         (\n",
    "#             SELECT\n",
    "#                 STDEVP(NVVar1) AS NVVar1_Std\n",
    "#             FROM \n",
    "#                 df\n",
    "#         )\n",
    "#     NVVar1_Avg as\n",
    "#         (\n",
    "#             SELECT\n",
    "#                 AVG(NVVar1) AS NVVar1_Avg\n",
    "#             FROM \n",
    "#                 df\n",
    "#         )\n",
    "# SELECT\n",
    "#     Calendar_Year\n",
    "#     ,NVVar1\n",
    "#     ,\n",
    "#         (\n",
    "#             NVVar1\n",
    "#             -\n",
    "#             NVVar1_Avg.NVVar1_Avg\n",
    "#         )\n",
    "#         /\n",
    "#         NVVar1_Std.NVVar1_Std\n",
    "#     AS NVVar1_Z_Score\n",
    "# FROM\n",
    "#     df\n",
    "#     ,NVVar1_Std\n",
    "#     ,NVVar1_Avg\n",
    "# persisting in SQl required scalar UDF and view\n",
    "df['NVVar1_ZScore']                         \\\n",
    "    = (\n",
    "            df['NVVar1']                    \\\n",
    "            -                               \\\n",
    "            df['NVVar1'].mean()             \\\n",
    "        )                                   \\\n",
    "            /                               \\\n",
    "        df['NVVar1'].std(ddof=0)\n",
    "#alternately \n",
    "#df['NVVar1_ZScore2']= stats.zscore(df['NVVar1'], axis=1, ddof=10.to_frame()\n",
    "df[[\"Calendar_Year\",\"NVVar1\",\"NVVar1_ZScore\"]].describe()"
   ]
  },
  {
   "cell_type": "code",
   "execution_count": 0,
   "metadata": {
    "application/vnd.databricks.v1+cell": {
     "cellMetadata": {},
     "inputWidgets": {},
     "nuid": "708519b6-d54a-45f8-ab12-d35715ada81a",
     "showTitle": false,
     "tableResultSettingsMap": {},
     "title": ""
    }
   },
   "outputs": [],
   "source": [
    "from scipy import stats\n",
    "\n",
    "df[\"newz\"] = stats.zscore(df[\"NVVar1\"])\n",
    "# T = transpose\n",
    "df.describe().T"
   ]
  },
  {
   "cell_type": "code",
   "execution_count": 0,
   "metadata": {
    "application/vnd.databricks.v1+cell": {
     "cellMetadata": {},
     "inputWidgets": {},
     "nuid": "659db732-68b3-4840-a596-58d668828e3d",
     "showTitle": false,
     "tableResultSettingsMap": {},
     "title": ""
    }
   },
   "outputs": [],
   "source": [
    "type(df)"
   ]
  },
  {
   "cell_type": "code",
   "execution_count": 0,
   "metadata": {
    "application/vnd.databricks.v1+cell": {
     "cellMetadata": {},
     "inputWidgets": {},
     "nuid": "884a29b6-38ec-4ccc-b69f-847a5a554216",
     "showTitle": false,
     "tableResultSettingsMap": {},
     "title": ""
    }
   },
   "outputs": [],
   "source": [
    "dfg = (df['NVVar1'] - df['NVVar1'].mean() )/df['NVVar1'].std(ddof=0)\n",
    "type(dfg)"
   ]
  },
  {
   "cell_type": "markdown",
   "metadata": {
    "application/vnd.databricks.v1+cell": {
     "cellMetadata": {},
     "inputWidgets": {},
     "nuid": "3290d399-6a07-4ddb-90ff-fafd605d21c3",
     "showTitle": false,
     "tableResultSettingsMap": {},
     "title": ""
    }
   },
   "source": [
    "**JOIN or key based**"
   ]
  },
  {
   "cell_type": "code",
   "execution_count": 0,
   "metadata": {
    "application/vnd.databricks.v1+cell": {
     "cellMetadata": {},
     "inputWidgets": {},
     "nuid": "f2a63849-2352-405d-80d7-95dade4c9701",
     "showTitle": false,
     "tableResultSettingsMap": {},
     "title": ""
    }
   },
   "outputs": [],
   "source": [
    "#WITH tbl_cal AS \n",
    "# (\n",
    "#SELECT\n",
    "# <col> as '<col>',\n",
    "# sum(1) as 'count',\n",
    "# mean(<col>) as 'mean',\n",
    "# stdev(<col>) as 'std',\n",
    "# min(<col>) as 'min',\n",
    "# PERCENTILE_DISC(0.25) OVER (PARTITION BY 1 ORDER BY <col>) as '25',\n",
    "# PERCENTILE_DISC(0.50) OVER (PARTITION BY 1 ORDER BY <col>) as '50',\n",
    "# PERCENTILE_DISC(0.75) OVER (PARTITION BY 1 ORDER BY <col>) as '75',\n",
    "# max(<col>) as 'max'\n",
    "# ...\n",
    "# SELECT tbl1...\n",
    "# PIVOT...\n",
    "\n",
    "newdf = pd.read_csv('labtrain2.csv')\n",
    "newdf.describe()"
   ]
  },
  {
   "cell_type": "code",
   "execution_count": 0,
   "metadata": {
    "application/vnd.databricks.v1+cell": {
     "cellMetadata": {},
     "inputWidgets": {},
     "nuid": "3e141afd-4431-4c15-807b-89281bb2a2c4",
     "showTitle": false,
     "tableResultSettingsMap": {},
     "title": ""
    }
   },
   "outputs": [],
   "source": [
    "#SELECT a.*,b.* from df a inner JOIN newdf b on a.Calendar_Year = b.NVVar1 \n",
    "#SELECT a.*,b.* from df a left JOIN newdf b on a.Calendar_Year = b.NVVar1 \n",
    "#SELECT a.*,b.* from df a right JOIN newdf b on a.Calendar_Year = b.NVVar1 \n",
    "#SELECT a.*,b.* from df a outer JOIN newdf b on a.Calendar_Year = b.NVVar1 \n",
    "innerjoin=df.join(newdf, how=\"inner\", lsuffix ='Calendar_Year', rsuffix ='NVVar1')\n",
    "leftjoin=df.join(newdf, how=\"left\", lsuffix ='Calendar_Year', rsuffix ='NVVar1')\n",
    "righjoin=df.join(newdf, how=\"right\", lsuffix ='Calendar_Year', rsuffix ='NVVar1')\n",
    "outerjoin=df.join(newdf, how=\"outer\", lsuffix ='Calendar_Year', rsuffix ='NVVar1')\n",
    "print(\"rows df: \",len(df))\n",
    "print(\"rows newdf: \",len(newdf))\n",
    "print(\"rows innerjoin: \",len(innerjoin))\n",
    "print(\"rows leftjoin: \",len(leftjoin))\n",
    "print(\"rows rightjoin: \",len(righjoin))\n",
    "print(\"rows outerjoin: \",len(outerjoin))\n",
    "outerjoin"
   ]
  },
  {
   "cell_type": "code",
   "execution_count": 0,
   "metadata": {
    "application/vnd.databricks.v1+cell": {
     "cellMetadata": {},
     "inputWidgets": {},
     "nuid": "04de148a-1771-4eee-a3a2-819cc4c699b7",
     "showTitle": false,
     "tableResultSettingsMap": {},
     "title": ""
    }
   },
   "outputs": [],
   "source": [
    "indexjoin=df.join(newdf, how=\"inner\")"
   ]
  },
  {
   "cell_type": "code",
   "execution_count": 0,
   "metadata": {
    "application/vnd.databricks.v1+cell": {
     "cellMetadata": {},
     "inputWidgets": {},
     "nuid": "6e10343d-7118-457f-9629-5656ddd192c8",
     "showTitle": false,
     "tableResultSettingsMap": {},
     "title": ""
    }
   },
   "outputs": [],
   "source": [
    "df.join?"
   ]
  },
  {
   "cell_type": "markdown",
   "metadata": {
    "application/vnd.databricks.v1+cell": {
     "cellMetadata": {},
     "inputWidgets": {},
     "nuid": "a131d1c5-dbb7-4f23-b77e-01687344a779",
     "showTitle": false,
     "tableResultSettingsMap": {},
     "title": ""
    }
   },
   "source": [
    "**UNION or schema based**"
   ]
  },
  {
   "cell_type": "code",
   "execution_count": 0,
   "metadata": {
    "application/vnd.databricks.v1+cell": {
     "cellMetadata": {},
     "inputWidgets": {},
     "nuid": "13111c2a-80a1-4f08-906b-924bdc599402",
     "showTitle": false,
     "tableResultSettingsMap": {},
     "title": ""
    }
   },
   "outputs": [],
   "source": [
    "#SELECT *,NULL AS Unnamed: 0,\tNULL AS NVVar2_ZScore, NULL AS\tNVVar3_ZScore\tNVVar4_ZScore from df\n",
    "#UNION ALL\n",
    "#SELECT * from newdf\n",
    "df_union= pd.concat([df,newdf],ignore_index=True,sort=False)\n",
    "print(\"rows df_union all: \",len(df_union))\n",
    "df_union"
   ]
  },
  {
   "cell_type": "code",
   "execution_count": 0,
   "metadata": {
    "application/vnd.databricks.v1+cell": {
     "cellMetadata": {},
     "inputWidgets": {},
     "nuid": "7811fb1d-7016-49af-aa68-dbb0818b4894",
     "showTitle": false,
     "tableResultSettingsMap": {},
     "title": ""
    }
   },
   "outputs": [],
   "source": [
    "#SELECT *,NULL AS Unnamed: 0,\tNULL AS NVVar2_ZScore, NULL AS\tNVVar3_ZScore\tNVVar4_ZScore from df\n",
    "#UNION\n",
    "#SELECT * from newdf\n",
    "df_union= pd.concat([df,newdf],ignore_index=True,sort=False)\n",
    "df_union.drop_duplicates(inplace=True)\n",
    "print(\"rows df_union: \",len(df_union))"
   ]
  },
  {
   "cell_type": "code",
   "execution_count": 0,
   "metadata": {
    "application/vnd.databricks.v1+cell": {
     "cellMetadata": {},
     "inputWidgets": {},
     "nuid": "12f1a829-3b65-4f6c-9c8b-99884ab3cb53",
     "showTitle": false,
     "tableResultSettingsMap": {},
     "title": ""
    }
   },
   "outputs": [],
   "source": [
    "df_union.info()"
   ]
  },
  {
   "cell_type": "markdown",
   "metadata": {
    "application/vnd.databricks.v1+cell": {
     "cellMetadata": {},
     "inputWidgets": {},
     "nuid": "5b9e1684-c3d7-434a-8d7b-f6478fcd32f9",
     "showTitle": false,
     "tableResultSettingsMap": {},
     "title": ""
    }
   },
   "source": [
    "**Pandas operations that don't fit in SQL Box**"
   ]
  },
  {
   "cell_type": "code",
   "execution_count": 0,
   "metadata": {
    "application/vnd.databricks.v1+cell": {
     "cellMetadata": {},
     "inputWidgets": {},
     "nuid": "d0343087-18d9-457c-9a0b-5261d91ab514",
     "showTitle": false,
     "tableResultSettingsMap": {},
     "title": ""
    }
   },
   "outputs": [],
   "source": [
    "#Where SQL ends and Python begins :)\n",
    "df.info()\n",
    "df.groupby(\n",
    "    ['Calendar_Year']\n",
    ").agg(\n",
    "    [\n",
    "        'min'\n",
    "        ,'max'\n",
    "        ,'count'\n",
    "        ,'nunique'\n",
    "    ]\n",
    ")\n"
   ]
  },
  {
   "cell_type": "code",
   "execution_count": 0,
   "metadata": {
    "application/vnd.databricks.v1+cell": {
     "cellMetadata": {},
     "inputWidgets": {},
     "nuid": "af6bde38-a8ee-4951-a7ee-b8b666add0b0",
     "showTitle": false,
     "tableResultSettingsMap": {},
     "title": ""
    }
   },
   "outputs": [],
   "source": [
    "df.Calendar_Year.value_counts(normalize=True)"
   ]
  },
  {
   "cell_type": "code",
   "execution_count": 0,
   "metadata": {
    "application/vnd.databricks.v1+cell": {
     "cellMetadata": {},
     "inputWidgets": {},
     "nuid": "a402f295-b659-4cae-b0fd-fd068c79fa19",
     "showTitle": false,
     "tableResultSettingsMap": {},
     "title": ""
    }
   },
   "outputs": [],
   "source": [
    "#hot encoding or case statements forever\n",
    "df['Calendar_Year_Enum'] = df['Calendar_Year'].astype(str)\n",
    "df_dummy = pd.get_dummies(df)\n",
    "df_dummy.describe().T"
   ]
  },
  {
   "cell_type": "code",
   "execution_count": 0,
   "metadata": {
    "application/vnd.databricks.v1+cell": {
     "cellMetadata": {},
     "inputWidgets": {},
     "nuid": "4a9f7e7e-1f55-4543-8d84-001901c828ce",
     "showTitle": false,
     "tableResultSettingsMap": {},
     "title": ""
    }
   },
   "outputs": [],
   "source": [
    "df['Calendar_Year_Enum'].describe(include=\"O\")"
   ]
  },
  {
   "cell_type": "code",
   "execution_count": 0,
   "metadata": {
    "application/vnd.databricks.v1+cell": {
     "cellMetadata": {},
     "inputWidgets": {},
     "nuid": "22834f7b-7e7f-44c9-acdc-0faaad40f3d9",
     "showTitle": false,
     "tableResultSettingsMap": {},
     "title": ""
    }
   },
   "outputs": [],
   "source": [
    "9/3*(1+2)"
   ]
  },
  {
   "cell_type": "code",
   "execution_count": 0,
   "metadata": {
    "application/vnd.databricks.v1+cell": {
     "cellMetadata": {},
     "inputWidgets": {},
     "nuid": "7d3a8a20-4386-4555-957d-54282bf2eb9c",
     "showTitle": false,
     "tableResultSettingsMap": {},
     "title": ""
    }
   },
   "outputs": [],
   "source": [
    "df.loc[(df.Calendar_Year <= 2006)  ]"
   ]
  },
  {
   "cell_type": "code",
   "execution_count": 0,
   "metadata": {
    "application/vnd.databricks.v1+cell": {
     "cellMetadata": {},
     "inputWidgets": {},
     "nuid": "b75144f0-0ee5-49c4-9f8d-51b6e46fc84c",
     "showTitle": false,
     "tableResultSettingsMap": {},
     "title": ""
    }
   },
   "outputs": [],
   "source": []
  }
 ],
 "metadata": {
  "application/vnd.databricks.v1+notebook": {
   "computePreferences": null,
   "dashboards": [],
   "environmentMetadata": null,
   "inputWidgetPreferences": null,
   "language": "python",
   "notebookMetadata": {
    "pythonIndentUnit": 4
   },
   "notebookName": "02 SQL to Pandas Review",
   "widgets": {}
  },
  "interpreter": {
   "hash": "81794d4967e6c3204c66dcd87b604927b115b27c00565d3d43f05ba2f3a2cb0d"
  },
  "kernelspec": {
   "display_name": "Python 3.9.5 64-bit",
   "language": "python",
   "name": "python3"
  },
  "language_info": {
   "name": "python"
  }
 },
 "nbformat": 4,
 "nbformat_minor": 0
}
