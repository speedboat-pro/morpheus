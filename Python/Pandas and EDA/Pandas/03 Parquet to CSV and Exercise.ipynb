{
 "cells": [
  {
   "cell_type": "markdown",
   "metadata": {
    "application/vnd.databricks.v1+cell": {
     "cellMetadata": {},
     "inputWidgets": {},
     "nuid": "984e57a0-7144-4bb8-af29-5393f654e648",
     "showTitle": false,
     "tableResultSettingsMap": {},
     "title": ""
    }
   },
   "source": [
    "## Parquet <-> CSV and Exercise\n",
    "\n",
    "### Exercise\n",
    "1. Generate or copy to this diectory any of the following files:\n",
    "    1. Extract of any SQL database \n",
    "    1. Imported file from your capstone work\n",
    "    1. Any other data from other exercises you have aleady used\n",
    "1. Import into Pandas\n",
    "1. Create at least three new Pandas dataframe outputs ether reproducing prior analytics or new analytics"
   ]
  },
  {
   "cell_type": "code",
   "execution_count": 0,
   "metadata": {
    "application/vnd.databricks.v1+cell": {
     "cellMetadata": {},
     "inputWidgets": {},
     "nuid": "b72f10a6-7c69-43a5-abe1-35e74d4b4eba",
     "showTitle": false,
     "tableResultSettingsMap": {},
     "title": ""
    }
   },
   "outputs": [],
   "source": [
    "!head  data.dataset.parquet"
   ]
  },
  {
   "cell_type": "code",
   "execution_count": 0,
   "metadata": {
    "application/vnd.databricks.v1+cell": {
     "cellMetadata": {},
     "inputWidgets": {},
     "nuid": "476ec64e-7265-4095-b7fc-b4ee9a5c8f50",
     "showTitle": false,
     "tableResultSettingsMap": {},
     "title": ""
    }
   },
   "outputs": [],
   "source": [
    "#be sure to have this notebook in the same folder as your parquet file\n",
    "\n",
    "#this line of code loads the library into the notebook\n",
    "import pandas as pd\n",
    "\n",
    "#this line of code reads the parquet into memory to a Pandas DataFrame \n",
    "df = pd.read_parquet('data.dataset.parquet')\n",
    "df"
   ]
  },
  {
   "cell_type": "code",
   "execution_count": 0,
   "metadata": {
    "application/vnd.databricks.v1+cell": {
     "cellMetadata": {},
     "inputWidgets": {},
     "nuid": "b5849c7d-707b-4194-a07b-dee909aaa87e",
     "showTitle": false,
     "tableResultSettingsMap": {},
     "title": ""
    }
   },
   "outputs": [],
   "source": [
    "\n",
    "#this line code exports the data into a format for Power BI\n",
    "df.to_csv('azureml_export.csv')"
   ]
  },
  {
   "cell_type": "code",
   "execution_count": 0,
   "metadata": {
    "application/vnd.databricks.v1+cell": {
     "cellMetadata": {},
     "inputWidgets": {},
     "nuid": "e67ba612-afb2-4491-8995-0a3fe3e3f36d",
     "showTitle": false,
     "tableResultSettingsMap": {},
     "title": ""
    }
   },
   "outputs": [],
   "source": []
  }
 ],
 "metadata": {
  "application/vnd.databricks.v1+notebook": {
   "computePreferences": null,
   "dashboards": [],
   "environmentMetadata": null,
   "inputWidgetPreferences": null,
   "language": "python",
   "notebookMetadata": {},
   "notebookName": "03 Parquet to CSV and Exercise",
   "widgets": {}
  },
  "interpreter": {
   "hash": "81794d4967e6c3204c66dcd87b604927b115b27c00565d3d43f05ba2f3a2cb0d"
  },
  "kernelspec": {
   "display_name": "Python 3.9.5 64-bit",
   "language": "python",
   "name": "python3"
  },
  "language_info": {
   "name": "python"
  }
 },
 "nbformat": 4,
 "nbformat_minor": 0
}
