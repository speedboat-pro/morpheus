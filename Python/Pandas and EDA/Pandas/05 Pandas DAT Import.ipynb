{
 "cells": [
  {
   "cell_type": "code",
   "execution_count": 0,
   "metadata": {
    "application/vnd.databricks.v1+cell": {
     "cellMetadata": {},
     "inputWidgets": {},
     "nuid": "3ac4cbfa-3ff4-42ff-a5a5-e5ec22a2770e",
     "showTitle": false,
     "tableResultSettingsMap": {},
     "title": ""
    }
   },
   "outputs": [],
   "source": [
    "import pandas as pd\n",
    "df = pd.read_fwf(r\"C:\\Users\\andre\\Downloads\\MM032522.DAT\",names =['col1',\n",
    " 'col2',\n",
    " 'col3',\n",
    " 'col4',\n",
    " 'col5',\n",
    " 'col6',\n",
    " 'col7',\n",
    " 'col8',\n",
    " 'col9',\n",
    " 'col10',\n",
    " 'col11',\n",
    " 'col12',\n",
    " 'col13',\n",
    " 'col14',\n",
    " 'col15',\n",
    " 'col16',\n",
    " 'col17',\n",
    " 'col18',\n",
    " 'col19'])\n",
    "df.info()"
   ]
  },
  {
   "cell_type": "code",
   "execution_count": 0,
   "metadata": {
    "application/vnd.databricks.v1+cell": {
     "cellMetadata": {},
     "inputWidgets": {},
     "nuid": "9d84522e-dd58-4374-b816-04803ab27ece",
     "showTitle": false,
     "tableResultSettingsMap": {},
     "title": ""
    }
   },
   "outputs": [],
   "source": [
    "['col'+str(n) for n in range (1,20)]"
   ]
  },
  {
   "cell_type": "code",
   "execution_count": 0,
   "metadata": {
    "application/vnd.databricks.v1+cell": {
     "cellMetadata": {},
     "inputWidgets": {},
     "nuid": "a23603ff-d698-4cdb-ae8a-fa222d753766",
     "showTitle": false,
     "tableResultSettingsMap": {},
     "title": ""
    }
   },
   "outputs": [],
   "source": []
  }
 ],
 "metadata": {
  "application/vnd.databricks.v1+notebook": {
   "computePreferences": null,
   "dashboards": [],
   "environmentMetadata": null,
   "inputWidgetPreferences": null,
   "language": "python",
   "notebookMetadata": {},
   "notebookName": "05 Pandas DAT Import",
   "widgets": {}
  },
  "interpreter": {
   "hash": "81794d4967e6c3204c66dcd87b604927b115b27c00565d3d43f05ba2f3a2cb0d"
  },
  "kernelspec": {
   "display_name": "Python 3.9.5 64-bit",
   "language": "python",
   "name": "python3"
  },
  "language_info": {
   "name": "python"
  },
  "orig_nbformat": 4
 },
 "nbformat": 4,
 "nbformat_minor": 0
}
