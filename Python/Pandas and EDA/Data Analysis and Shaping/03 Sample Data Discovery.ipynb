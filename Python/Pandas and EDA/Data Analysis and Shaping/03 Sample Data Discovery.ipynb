{
 "cells": [
  {
   "cell_type": "code",
   "execution_count": 0,
   "metadata": {
    "application/vnd.databricks.v1+cell": {
     "cellMetadata": {},
     "inputWidgets": {},
     "nuid": "521671a3-d762-4b5d-8761-8393cba42fad",
     "showTitle": false,
     "tableResultSettingsMap": {},
     "title": ""
    }
   },
   "outputs": [],
   "source": [
    "#Github dformoso / sklearn-classification\n",
    "import numpy as np\n",
    "import pandas as pd\n",
    "\n",
    "# Visualization \n",
    "import matplotlib.pyplot as plt\n",
    "import seaborn as sns\n",
    "# from mpl_toolkits.mplot3d import Axes3D\n",
    "\n",
    "# # Feature Selection and Encoding\n",
    "# from sklearn.feature_selection import RFE, RFECV\n",
    "# from sklearn.svm import SVR\n",
    "# from sklearn.decomposition import PCA\n",
    "# from sklearn.preprocessing import OneHotEncoder, LabelEncoder, label_binarize\n",
    "\n",
    "# # Machine learning \n",
    "# import sklearn.ensemble as ske\n",
    "# from sklearn import datasets, model_selection, tree, preprocessing, metrics, linear_model\n",
    "# from sklearn.svm import LinearSVC\n",
    "# from sklearn.ensemble import RandomForestClassifier, GradientBoostingClassifier\n",
    "# from sklearn.neighbors import KNeighborsClassifier\n",
    "# from sklearn.naive_bayes import GaussianNB\n",
    "# from sklearn.linear_model import LinearRegression, LogisticRegression, Ridge, Lasso, SGDClassifier\n",
    "# from sklearn.tree import DecisionTreeClassifier\n",
    "# import tensorflow as tf\n",
    "\n",
    "# # Grid and Random Search\n",
    "# import scipy.stats as st\n",
    "# from scipy.stats import randint as sp_randint\n",
    "# from sklearn.model_selection import GridSearchCV\n",
    "# from sklearn.model_selection import RandomizedSearchCV\n",
    "\n",
    "# # Metrics\n",
    "# from sklearn.metrics import precision_recall_fscore_support, roc_curve, auc\n",
    "\n",
    "# # Managing Warnings \n",
    "# import warnings\n",
    "# warnings.filterwarnings('ignore')\n",
    "\n",
    "# Plot the Figures Inline\n",
    "%matplotlib inline"
   ]
  },
  {
   "cell_type": "code",
   "execution_count": 0,
   "metadata": {
    "application/vnd.databricks.v1+cell": {
     "cellMetadata": {},
     "inputWidgets": {},
     "nuid": "34dc2fb2-cf2d-48c9-b001-0a132f4b5fa7",
     "showTitle": false,
     "tableResultSettingsMap": {},
     "title": ""
    }
   },
   "outputs": [],
   "source": [
    "# Download\n",
    "import os\n",
    "import requests\n",
    "DATASET = (\n",
    "    \"http://archive.ics.uci.edu/ml/machine-learning-databases/adult/adult.data\",\n",
    "    \"http://archive.ics.uci.edu/ml/machine-learning-databases/adult/adult.names\",\n",
    "    \"http://archive.ics.uci.edu/ml/machine-learning-databases/adult/adult.test\",\n",
    ")\n",
    "\n",
    "def download_data(path='dataset', urls=DATASET):\n",
    "    if not os.path.exists(path):\n",
    "        os.mkdir(path)\n",
    "\n",
    "    for url in urls:\n",
    "        response = requests.get(url)\n",
    "        name = os.path.basename(url)\n",
    "        with open(os.path.join(path, name), 'w') as f:\n",
    "            f.write(str(response.content))\n",
    "download_data()            "
   ]
  },
  {
   "cell_type": "code",
   "execution_count": 0,
   "metadata": {
    "application/vnd.databricks.v1+cell": {
     "cellMetadata": {},
     "inputWidgets": {},
     "nuid": "5085d68d-d0d1-4187-be6c-effaa6426dfb",
     "showTitle": false,
     "tableResultSettingsMap": {},
     "title": ""
    }
   },
   "outputs": [],
   "source": [
    "pd.read_csv?"
   ]
  },
  {
   "cell_type": "code",
   "execution_count": 0,
   "metadata": {
    "application/vnd.databricks.v1+cell": {
     "cellMetadata": {},
     "inputWidgets": {},
     "nuid": "c8ac1bcd-8285-4f14-ae2f-ecf3f9721b39",
     "showTitle": false,
     "tableResultSettingsMap": {},
     "title": ""
    }
   },
   "outputs": [],
   "source": [
    "# Load Training and Test Data Sets\n",
    "headers = ['age', 'workclass', 'fnlwgt', \n",
    "           'education', 'education-num', \n",
    "           'marital-status', 'occupation', \n",
    "           'relationship', 'race', 'sex', \n",
    "           'capital-gain', 'capital-loss', \n",
    "           'hours-per-week', 'native-country', \n",
    "           'predclass']\n",
    "training_raw = pd.read_csv('dataset/adult.data', \n",
    "                       header=None, \n",
    "                       names=headers, \n",
    "                       sep=',\\s', \n",
    "                       na_values=[\"?\"], \n",
    "                       engine='python')\n",
    "test_raw = pd.read_csv('dataset/adult.test', \n",
    "                      header=None, \n",
    "                      names=headers, \n",
    "                      sep=',\\s', \n",
    "                      na_values=[\"?\"], \n",
    "                      engine='python', \n",
    "                      skiprows=1)"
   ]
  },
  {
   "cell_type": "code",
   "execution_count": 0,
   "metadata": {
    "application/vnd.databricks.v1+cell": {
     "cellMetadata": {},
     "inputWidgets": {},
     "nuid": "50c48e87-e756-4415-b876-c2e0aa3df132",
     "showTitle": false,
     "tableResultSettingsMap": {},
     "title": ""
    }
   },
   "outputs": [],
   "source": [
    "# Join Datasets\n",
    "dataset_raw = training_raw.append(test_raw)\n",
    "dataset_raw.reset_index(inplace=True)\n",
    "dataset_raw.drop('index',inplace=True,axis=1)"
   ]
  },
  {
   "cell_type": "code",
   "execution_count": 0,
   "metadata": {
    "application/vnd.databricks.v1+cell": {
     "cellMetadata": {},
     "inputWidgets": {},
     "nuid": "9f9c718c-6d66-45cd-86f2-078dc0c0ad3e",
     "showTitle": false,
     "tableResultSettingsMap": {},
     "title": ""
    }
   },
   "outputs": [],
   "source": [
    "import math\n",
    "def convert_size(size_bytes):\n",
    "   if size_bytes == 0:\n",
    "       return \"0B\"\n",
    "   size_name = (\"Bytes\", \"KB\", \"MB\", \"GB\", \"TB\", \"PB\", \"EB\", \"ZB\", \"YB\")\n",
    "   i = int(math.floor(math.log(size_bytes, 1024)))\n",
    "   p = math.pow(1024, i)\n",
    "   s = round(size_bytes / p, 2)\n",
    "   return \"%s %s\" % (s, size_name[i])\n",
    "convert_size(dataset_raw.memory_usage().sum())"
   ]
  },
  {
   "cell_type": "code",
   "execution_count": 0,
   "metadata": {
    "application/vnd.databricks.v1+cell": {
     "cellMetadata": {},
     "inputWidgets": {},
     "nuid": "d58e1a62-f9f8-4b4c-983d-0cb227799f2d",
     "showTitle": false,
     "tableResultSettingsMap": {},
     "title": ""
    }
   },
   "outputs": [],
   "source": [
    "# Describing all the Numerical Features\n",
    "dataset_raw.describe()"
   ]
  },
  {
   "cell_type": "code",
   "execution_count": 0,
   "metadata": {
    "application/vnd.databricks.v1+cell": {
     "cellMetadata": {},
     "inputWidgets": {},
     "nuid": "2d9ffcaa-5731-4349-ab96-f362707debcd",
     "showTitle": false,
     "tableResultSettingsMap": {},
     "title": ""
    }
   },
   "outputs": [],
   "source": [
    "\n",
    "# Describing all the Categorical Features\n",
    "dataset_raw.describe(include=['O'])"
   ]
  },
  {
   "cell_type": "code",
   "execution_count": 0,
   "metadata": {
    "application/vnd.databricks.v1+cell": {
     "cellMetadata": {},
     "inputWidgets": {},
     "nuid": "05a6ae6d-2fb0-4c78-a1e4-31f07f5ffbd8",
     "showTitle": false,
     "tableResultSettingsMap": {},
     "title": ""
    }
   },
   "outputs": [],
   "source": [
    "# Let's have a quick look at our data\n",
    "dataset_raw.head()"
   ]
  },
  {
   "cell_type": "code",
   "execution_count": 0,
   "metadata": {
    "application/vnd.databricks.v1+cell": {
     "cellMetadata": {},
     "inputWidgets": {},
     "nuid": "91e50777-30de-478e-a830-aa46928b29df",
     "showTitle": false,
     "tableResultSettingsMap": {},
     "title": ""
    }
   },
   "outputs": [],
   "source": [
    "import seaborn as sns\n",
    "def plot_distribution(dataset, cols=5, width=20, height=15, hspace=0.2, wspace=0.5):\n",
    "    plt.style.use('seaborn-whitegrid')\n",
    "    fig = plt.figure(figsize=(width,height))\n",
    "    fig.subplots_adjust(left=None, bottom=None, right=None, top=None, wspace=wspace, hspace=hspace)\n",
    "    rows = math.ceil(float(dataset.shape[1]) / cols)\n",
    "    for i, column in enumerate(dataset.columns):\n",
    "        ax = fig.add_subplot(rows, cols, i + 1)\n",
    "        ax.set_title(column)\n",
    "        if dataset.dtypes[column] == np.object:\n",
    "            g = sns.countplot(y=column, data=dataset)\n",
    "            substrings = [s.get_text()[:18] for s in g.get_yticklabels()]\n",
    "            g.set(yticklabels=substrings)\n",
    "            plt.xticks(rotation=25)\n",
    "        else:\n",
    "            g = sns.distplot(dataset[column])\n",
    "            plt.xticks(rotation=25)\n",
    "    \n",
    "plot_distribution(dataset_raw, cols=3, width=20, height=20, hspace=0.45, wspace=0.5)"
   ]
  },
  {
   "cell_type": "code",
   "execution_count": 0,
   "metadata": {
    "application/vnd.databricks.v1+cell": {
     "cellMetadata": {},
     "inputWidgets": {},
     "nuid": "5577d2fd-d1e4-48d4-85d0-9bd30dd1656c",
     "showTitle": false,
     "tableResultSettingsMap": {},
     "title": ""
    }
   },
   "outputs": [],
   "source": [
    "# To perform our data analysis, let's create new dataframes.\n",
    "dataset_bin = pd.DataFrame() # To contain our dataframe with our discretised continuous variables \n",
    "dataset_con = pd.DataFrame() # To contain our dataframe with our continuous variables\n"
   ]
  },
  {
   "cell_type": "code",
   "execution_count": 0,
   "metadata": {
    "application/vnd.databricks.v1+cell": {
     "cellMetadata": {},
     "inputWidgets": {},
     "nuid": "895267f2-05ac-4c99-9446-89f543aff4e8",
     "showTitle": false,
     "tableResultSettingsMap": {},
     "title": ""
    }
   },
   "outputs": [],
   "source": []
  }
 ],
 "metadata": {
  "application/vnd.databricks.v1+notebook": {
   "computePreferences": null,
   "dashboards": [],
   "environmentMetadata": null,
   "inputWidgetPreferences": null,
   "language": "python",
   "notebookMetadata": {},
   "notebookName": "03 Sample Data Discovery",
   "widgets": {}
  },
  "interpreter": {
   "hash": "81794d4967e6c3204c66dcd87b604927b115b27c00565d3d43f05ba2f3a2cb0d"
  },
  "kernelspec": {
   "display_name": "Python 3.9.5 64-bit",
   "language": "python",
   "name": "python3"
  },
  "language_info": {
   "name": "python"
  }
 },
 "nbformat": 4,
 "nbformat_minor": 0
}
