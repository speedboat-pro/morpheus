{
 "cells": [
  {
   "cell_type": "code",
   "execution_count": 0,
   "metadata": {
    "application/vnd.databricks.v1+cell": {
     "cellMetadata": {},
     "inputWidgets": {},
     "nuid": "f31ab8e9-fca0-4a3e-a03b-6a9c38127fe2",
     "showTitle": false,
     "tableResultSettingsMap": {},
     "title": ""
    }
   },
   "outputs": [],
   "source": [
    "#!pip install beautifulsoup4\n",
    "from bs4 import BeautifulSoup\n",
    "import requests\n",
    "\n",
    "class Souper():\n",
    "    \n",
    "    def __init__(self, url, bsParser='html.parser'):\n",
    "        self.url = url\n",
    "        self.bsParser = bsParser\n",
    "    \n",
    "    def scoop(self):  \n",
    "        def status_check(r):\n",
    "            rtn = str()\n",
    "            if r.status_code==200:\n",
    "                rtn = \"Success!\"\n",
    "            else:\n",
    "                rtn = \"Failed!\"\n",
    "            return rtn\n",
    "        def encoding_check(r):\n",
    "            return (r.encoding)\n",
    "        def decode_content(r,encoding):\n",
    "            return (r.content.decode(encoding)) \n",
    "        response = requests.get(self.url)\n",
    "        enc = encoding_check(response)\n",
    "        contents = decode_content(response,enc)        \n",
    "        stat = status_check(response)\n",
    "        #print(response)\n",
    "        try:\n",
    "            print(\"Scooping {0} with encoding: {1}:{2}\".format(\n",
    "                self.url\n",
    "                ,enc\n",
    "                ,stat\n",
    "                ))\n",
    "            \n",
    "            soup = BeautifulSoup(contents,self.bsParser)\n",
    "        except Exception as err:\n",
    "            print(err)\n",
    "        return soup\n",
    "    \n"
   ]
  },
  {
   "cell_type": "code",
   "execution_count": 0,
   "metadata": {
    "application/vnd.databricks.v1+cell": {
     "cellMetadata": {},
     "inputWidgets": {},
     "nuid": "3a180caa-8b10-49de-ae26-783de126c21d",
     "showTitle": false,
     "tableResultSettingsMap": {},
     "title": ""
    }
   },
   "outputs": [],
   "source": [
    "def status_check(r):\n",
    "    if r.status_code==200:\n",
    "        print(\"Success!\")\n",
    "        return 1\n",
    "    else:\n",
    "        print(\"Failed!\")\n",
    "        return -1\n",
    "def encoding_check(r):\n",
    "    return (r.encoding)\n",
    "def decode_content(r,encoding):\n",
    "    return (r.content.decode(encoding))\n",
    "wiki_home = \"https://www.espn.com/nba/playbyplay/_/gameId/401360812\"\n",
    "response = requests.get(wiki_home)\n",
    "contents = decode_content(response,encoding_check(response))\n",
    "status_check(response)    "
   ]
  },
  {
   "cell_type": "code",
   "execution_count": 0,
   "metadata": {
    "application/vnd.databricks.v1+cell": {
     "cellMetadata": {},
     "inputWidgets": {},
     "nuid": "7e02357c-dc38-470c-964a-ba5632992b3d",
     "showTitle": false,
     "tableResultSettingsMap": {},
     "title": ""
    }
   },
   "outputs": [],
   "source": [
    "corpus = []\n",
    "agniYoga = \"https://agniyoga.org\"\n",
    "\n",
    "tOC = Souper(agniYoga)\n",
    "tOCSoup = tOC.scoop()"
   ]
  },
  {
   "cell_type": "code",
   "execution_count": 0,
   "metadata": {
    "application/vnd.databricks.v1+cell": {
     "cellMetadata": {},
     "inputWidgets": {},
     "nuid": "504e176c-0cc0-4ced-a069-b068f59d4101",
     "showTitle": false,
     "tableResultSettingsMap": {},
     "title": ""
    }
   },
   "outputs": [],
   "source": [
    "type(tOCSoup)"
   ]
  },
  {
   "cell_type": "code",
   "execution_count": 0,
   "metadata": {
    "application/vnd.databricks.v1+cell": {
     "cellMetadata": {},
     "inputWidgets": {},
     "nuid": "2fe6451a-7264-4b91-8bcb-803ebf18b7f4",
     "showTitle": false,
     "tableResultSettingsMap": {},
     "title": ""
    }
   },
   "outputs": [],
   "source": [
    "for s in tOCSoup.find_all(\"ul\",attrs={\"id\":\"navRight\"}):\n",
    "    for lnk in s.findAll(\"a\"):\n",
    "        corpus.append(agniYoga+\"/\"+lnk.get(\"href\"))      "
   ]
  },
  {
   "cell_type": "code",
   "execution_count": 0,
   "metadata": {
    "application/vnd.databricks.v1+cell": {
     "cellMetadata": {},
     "inputWidgets": {},
     "nuid": "8d1e7129-ec9b-4e3c-bab8-32c9cfd4dfe9",
     "showTitle": false,
     "tableResultSettingsMap": {},
     "title": ""
    }
   },
   "outputs": [],
   "source": [
    "corpus"
   ]
  },
  {
   "cell_type": "code",
   "execution_count": 0,
   "metadata": {
    "application/vnd.databricks.v1+cell": {
     "cellMetadata": {},
     "inputWidgets": {},
     "nuid": "0c24d00a-7e94-4d24-a5eb-66c17cd3136e",
     "showTitle": false,
     "tableResultSettingsMap": {},
     "title": ""
    }
   },
   "outputs": [],
   "source": [
    "LM01 = corpus[0]\n",
    "LM01Soup = Souper(LM01).scoop()"
   ]
  },
  {
   "cell_type": "code",
   "execution_count": 0,
   "metadata": {
    "application/vnd.databricks.v1+cell": {
     "cellMetadata": {},
     "inputWidgets": {},
     "nuid": "036e5a6d-2759-46fc-b43b-61e17667ff63",
     "showTitle": false,
     "tableResultSettingsMap": {},
     "title": ""
    }
   },
   "outputs": [],
   "source": [
    "raw_dump = \"\"\n",
    "for agniYogaBook in corpus[0:13]:\n",
    "    agniYogaHTML = Souper(agniYogaBook).scoop()\n",
    "    for M in agniYogaHTML.select(\"section.ayBook\"):\n",
    "        for p in M.find_all(\"p\"):\n",
    "            raw_dump+=p.getText()\n"
   ]
  },
  {
   "cell_type": "code",
   "execution_count": 0,
   "metadata": {
    "application/vnd.databricks.v1+cell": {
     "cellMetadata": {},
     "inputWidgets": {},
     "nuid": "624b263c-24e1-4606-85e0-e1fff9f9fa1b",
     "showTitle": false,
     "tableResultSettingsMap": {},
     "title": ""
    }
   },
   "outputs": [],
   "source": [
    "len(raw_dump)"
   ]
  },
  {
   "cell_type": "code",
   "execution_count": 0,
   "metadata": {
    "application/vnd.databricks.v1+cell": {
     "cellMetadata": {},
     "inputWidgets": {},
     "nuid": "e8a7e3a5-1134-4286-9454-e2612d0b4d0d",
     "showTitle": false,
     "tableResultSettingsMap": {},
     "title": ""
    }
   },
   "outputs": [],
   "source": [
    "with open(\"agniyoga_en.txt\",\"wb\") as file:\n",
    "    file.write(raw_dump.encode(\"UTF-8\"))"
   ]
  },
  {
   "cell_type": "code",
   "execution_count": 0,
   "metadata": {
    "application/vnd.databricks.v1+cell": {
     "cellMetadata": {},
     "inputWidgets": {},
     "nuid": "3997b868-6a90-40d4-8002-c2603b2735a6",
     "showTitle": false,
     "tableResultSettingsMap": {},
     "title": ""
    }
   },
   "outputs": [],
   "source": [
    "(0.56121 - 0.54068)/0.54068"
   ]
  },
  {
   "cell_type": "code",
   "execution_count": 0,
   "metadata": {
    "application/vnd.databricks.v1+cell": {
     "cellMetadata": {},
     "inputWidgets": {},
     "nuid": "b298f8c0-f6b3-41c4-addd-f171094d70d3",
     "showTitle": false,
     "tableResultSettingsMap": {},
     "title": ""
    }
   },
   "outputs": [],
   "source": [
    "5/3"
   ]
  },
  {
   "cell_type": "code",
   "execution_count": 0,
   "metadata": {
    "application/vnd.databricks.v1+cell": {
     "cellMetadata": {},
     "inputWidgets": {},
     "nuid": "05363185-052e-47e7-84d3-a45d9754fb45",
     "showTitle": false,
     "tableResultSettingsMap": {},
     "title": ""
    }
   },
   "outputs": [],
   "source": [
    "(10.39-7.65)/10.39"
   ]
  },
  {
   "cell_type": "code",
   "execution_count": 0,
   "metadata": {
    "application/vnd.databricks.v1+cell": {
     "cellMetadata": {},
     "inputWidgets": {},
     "nuid": "1a96cae4-a665-4cd3-b8d9-16f33f68c0bb",
     "showTitle": false,
     "tableResultSettingsMap": {},
     "title": ""
    }
   },
   "outputs": [],
   "source": []
  }
 ],
 "metadata": {
  "application/vnd.databricks.v1+notebook": {
   "computePreferences": null,
   "dashboards": [],
   "environmentMetadata": null,
   "inputWidgetPreferences": null,
   "language": "python",
   "notebookMetadata": {},
   "notebookName": "scraping",
   "widgets": {}
  },
  "interpreter": {
   "hash": "81794d4967e6c3204c66dcd87b604927b115b27c00565d3d43f05ba2f3a2cb0d"
  },
  "kernelspec": {
   "display_name": "Python 3.9.5 64-bit",
   "language": "python",
   "name": "python3"
  },
  "language_info": {
   "name": "python"
  },
  "latex_envs": {
   "LaTeX_envs_menu_present": true,
   "autoclose": false,
   "autocomplete": true,
   "bibliofile": "biblio.bib",
   "cite_by": "apalike",
   "current_citInitial": 1,
   "eqLabelWithNumbers": true,
   "eqNumInitial": 1,
   "hotkeys": {
    "equation": "Ctrl-E",
    "itemize": "Ctrl-I"
   },
   "labels_anchors": false,
   "latex_user_defs": false,
   "report_style_numbering": false,
   "user_envs_cfg": false
  }
 },
 "nbformat": 4,
 "nbformat_minor": 0
}
