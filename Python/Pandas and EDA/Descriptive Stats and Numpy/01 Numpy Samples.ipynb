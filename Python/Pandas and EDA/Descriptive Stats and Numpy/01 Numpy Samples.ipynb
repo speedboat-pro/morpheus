{
 "cells": [
  {
   "cell_type": "code",
   "execution_count": 0,
   "metadata": {
    "application/vnd.databricks.v1+cell": {
     "cellMetadata": {},
     "inputWidgets": {},
     "nuid": "d63cea06-8d76-48ec-ab8d-3225edf576ad",
     "showTitle": false,
     "tableResultSettingsMap": {},
     "title": ""
    }
   },
   "outputs": [],
   "source": [
    "import numpy as np"
   ]
  },
  {
   "cell_type": "code",
   "execution_count": 0,
   "metadata": {
    "application/vnd.databricks.v1+cell": {
     "cellMetadata": {},
     "inputWidgets": {},
     "nuid": "ca68eef4-4f20-4949-a474-83143eca93b5",
     "showTitle": false,
     "tableResultSettingsMap": {},
     "title": ""
    }
   },
   "outputs": [],
   "source": [
    "lst1 = [1,2,3]\n",
    "lst2 = [3,1,2]\n",
    "lst1+lst2"
   ]
  },
  {
   "cell_type": "code",
   "execution_count": 0,
   "metadata": {
    "application/vnd.databricks.v1+cell": {
     "cellMetadata": {},
     "inputWidgets": {},
     "nuid": "156b0c0b-2153-45d0-8fd8-d14ee1660839",
     "showTitle": false,
     "tableResultSettingsMap": {},
     "title": ""
    }
   },
   "outputs": [],
   "source": [
    "ex = \"a\"\n",
    "ey = \"b\"\n",
    "ex+ey"
   ]
  },
  {
   "cell_type": "code",
   "execution_count": 0,
   "metadata": {
    "application/vnd.databricks.v1+cell": {
     "cellMetadata": {},
     "inputWidgets": {},
     "nuid": "df89b94d-e7e3-4b0f-9a00-82b0c23747ef",
     "showTitle": false,
     "tableResultSettingsMap": {},
     "title": ""
    }
   },
   "outputs": [],
   "source": [
    "gen1 = (r for r in range(8))\n",
    "num = 0\n",
    "for g in gen1:\n",
    "    num = num + g\n",
    "num"
   ]
  },
  {
   "cell_type": "code",
   "execution_count": 0,
   "metadata": {
    "application/vnd.databricks.v1+cell": {
     "cellMetadata": {},
     "inputWidgets": {},
     "nuid": "3e69847d-246d-4401-9667-b8778322f95b",
     "showTitle": false,
     "tableResultSettingsMap": {},
     "title": ""
    }
   },
   "outputs": [],
   "source": [
    "type (gen1)"
   ]
  },
  {
   "cell_type": "code",
   "execution_count": 0,
   "metadata": {
    "application/vnd.databricks.v1+cell": {
     "cellMetadata": {},
     "inputWidgets": {},
     "nuid": "03a6bd55-812f-4281-b1aa-f47f87ec8453",
     "showTitle": false,
     "tableResultSettingsMap": {},
     "title": ""
    }
   },
   "outputs": [],
   "source": [
    "lst1 = [1.,2.,3.]\n",
    "array1 = np.array(lst1)\n",
    "\n",
    "array2 =np.array([3,1,2])"
   ]
  },
  {
   "cell_type": "code",
   "execution_count": 0,
   "metadata": {
    "application/vnd.databricks.v1+cell": {
     "cellMetadata": {},
     "inputWidgets": {},
     "nuid": "b0eff070-e065-472d-b4f2-d6e9f5b416d4",
     "showTitle": false,
     "tableResultSettingsMap": {},
     "title": ""
    }
   },
   "outputs": [],
   "source": [
    "array1"
   ]
  },
  {
   "cell_type": "code",
   "execution_count": 0,
   "metadata": {
    "application/vnd.databricks.v1+cell": {
     "cellMetadata": {},
     "inputWidgets": {},
     "nuid": "8c3e8aba-e1b4-4750-8bde-d73a89df8965",
     "showTitle": false,
     "tableResultSettingsMap": {},
     "title": ""
    }
   },
   "outputs": [],
   "source": [
    "type(array1)"
   ]
  },
  {
   "cell_type": "code",
   "execution_count": 0,
   "metadata": {
    "application/vnd.databricks.v1+cell": {
     "cellMetadata": {},
     "inputWidgets": {},
     "nuid": "0123d793-2e8f-4b49-931c-b37392545ead",
     "showTitle": false,
     "tableResultSettingsMap": {},
     "title": ""
    }
   },
   "outputs": [],
   "source": [
    "array1[1] = 6.5"
   ]
  },
  {
   "cell_type": "code",
   "execution_count": 0,
   "metadata": {
    "application/vnd.databricks.v1+cell": {
     "cellMetadata": {},
     "inputWidgets": {},
     "nuid": "8ea65a0e-23fb-441e-a8b7-7e331328ea7a",
     "showTitle": false,
     "tableResultSettingsMap": {},
     "title": ""
    }
   },
   "outputs": [],
   "source": [
    "print(array1)\n",
    "print(array2)"
   ]
  },
  {
   "cell_type": "code",
   "execution_count": 0,
   "metadata": {
    "application/vnd.databricks.v1+cell": {
     "cellMetadata": {},
     "inputWidgets": {},
     "nuid": "1424a5a1-0b74-4e93-87b8-f47f9874a7be",
     "showTitle": false,
     "tableResultSettingsMap": {},
     "title": ""
    }
   },
   "outputs": [],
   "source": [
    "array1.dtype"
   ]
  },
  {
   "cell_type": "code",
   "execution_count": 0,
   "metadata": {
    "application/vnd.databricks.v1+cell": {
     "cellMetadata": {},
     "inputWidgets": {},
     "nuid": "cd9e1612-9d34-4ec9-b5cf-a345f3e39ddd",
     "showTitle": false,
     "tableResultSettingsMap": {},
     "title": ""
    }
   },
   "outputs": [],
   "source": [
    "print(\"array1 added by array1: \",array2+array1)\n",
    "\n",
    "print(\"array1 multiplied by array1: \",array2*array1)\n",
    "#Division:\n",
    "print(\"array1 divided by array1: \",array2/array1)\n",
    "#Raising an array to the power of another array:\n",
    "print(\"array1 raised to the power of array1: \",array2**array1)\n",
    "# [1.  6.5 3. ]\n",
    "# [3 1 2]"
   ]
  },
  {
   "cell_type": "code",
   "execution_count": 0,
   "metadata": {
    "application/vnd.databricks.v1+cell": {
     "cellMetadata": {},
     "inputWidgets": {},
     "nuid": "000fbb37-0eac-4c4a-ad27-ee115961fd99",
     "showTitle": false,
     "tableResultSettingsMap": {},
     "title": ""
    }
   },
   "outputs": [],
   "source": [
    "lst_5=[i for i in range(1,6)]\n",
    "print(lst_5)\n",
    "array_5=np.array(lst_5)\n",
    "\n",
    "#Sine operation:\n",
    "\n",
    "print(\"Sine: \",np.sin(array_5))\n",
    "#Logarithm operation:\n",
    "print(\"Natural logarithm: \",np.log(array_5))\n",
    "print(\"Base-10 logarithm: \",np.log10(array_5))\n",
    "print(\"Base-2 logarithm: \",np.log2(array_5))\n",
    "#Exponential operation:\n",
    "print(\"Exponential: \",np.exp(array_5))\n"
   ]
  },
  {
   "cell_type": "code",
   "execution_count": 0,
   "metadata": {
    "application/vnd.databricks.v1+cell": {
     "cellMetadata": {},
     "inputWidgets": {},
     "nuid": "3cf172b1-3d34-4548-b6a2-3c07f24fb942",
     "showTitle": false,
     "tableResultSettingsMap": {},
     "title": ""
    }
   },
   "outputs": [],
   "source": [
    "lin_smp = np.linspace(0,50,11)\n",
    "print(\"11 linearly spaced numbers between 0 and 5: \",lin_smp)\n",
    "# (0, 5] = beginning at 0 and up to and including 5"
   ]
  },
  {
   "cell_type": "code",
   "execution_count": 0,
   "metadata": {
    "application/vnd.databricks.v1+cell": {
     "cellMetadata": {},
     "inputWidgets": {},
     "nuid": "d46740c5-b12f-457a-bdde-5b86f37e41ce",
     "showTitle": false,
     "tableResultSettingsMap": {},
     "title": ""
    }
   },
   "outputs": [],
   "source": [
    "len(lin_smp)"
   ]
  },
  {
   "cell_type": "code",
   "execution_count": 0,
   "metadata": {
    "application/vnd.databricks.v1+cell": {
     "cellMetadata": {},
     "inputWidgets": {},
     "nuid": "343f657a-194f-4e87-916c-d2091a05f549",
     "showTitle": false,
     "tableResultSettingsMap": {},
     "title": ""
    }
   },
   "outputs": [],
   "source": [
    "list_2D = [[1,2,3],[4,5,6],[7,8,9]]\n",
    "mat1 = np.array(list_2D)\n",
    "print(\"Type/Class of this object:\",type(mat1))\n",
    "print(\"Here is the matrix\\n----------\\n\",mat1,\"\\n----------\")\n",
    "\n"
   ]
  },
  {
   "cell_type": "code",
   "execution_count": 0,
   "metadata": {
    "application/vnd.databricks.v1+cell": {
     "cellMetadata": {},
     "inputWidgets": {},
     "nuid": "151e1e04-1268-4324-ad7f-772334050525",
     "showTitle": false,
     "tableResultSettingsMap": {},
     "title": ""
    }
   },
   "outputs": [],
   "source": [
    "type(mat1)"
   ]
  },
  {
   "cell_type": "code",
   "execution_count": 0,
   "metadata": {
    "application/vnd.databricks.v1+cell": {
     "cellMetadata": {},
     "inputWidgets": {},
     "nuid": "c6a146ab-e6f9-463a-be37-806a3df96d13",
     "showTitle": false,
     "tableResultSettingsMap": {},
     "title": ""
    }
   },
   "outputs": [],
   "source": [
    "mat1[2][0]"
   ]
  },
  {
   "cell_type": "code",
   "execution_count": 0,
   "metadata": {
    "application/vnd.databricks.v1+cell": {
     "cellMetadata": {},
     "inputWidgets": {},
     "nuid": "8a9fc2e6-3eb9-407d-87f0-e3f8e21c512b",
     "showTitle": false,
     "tableResultSettingsMap": {},
     "title": ""
    }
   },
   "outputs": [],
   "source": [
    "array2"
   ]
  },
  {
   "cell_type": "code",
   "execution_count": 0,
   "metadata": {
    "application/vnd.databricks.v1+cell": {
     "cellMetadata": {},
     "inputWidgets": {},
     "nuid": "3a236737-b09d-4d2c-95f4-2342897e61f0",
     "showTitle": false,
     "tableResultSettingsMap": {},
     "title": ""
    }
   },
   "outputs": [],
   "source": [
    "#Even tuples can be converted to multi-dimensional arrays:\n",
    "tuple_2D = np.array([(1.5,2,3), (4,5,6),(7,8,9)])\n",
    "print(tuple_2D)"
   ]
  },
  {
   "cell_type": "code",
   "execution_count": 0,
   "metadata": {
    "application/vnd.databricks.v1+cell": {
     "cellMetadata": {},
     "inputWidgets": {},
     "nuid": "6d834351-ab01-4f56-8a41-3ddfe3c6c944",
     "showTitle": false,
     "tableResultSettingsMap": {},
     "title": ""
    }
   },
   "outputs": [],
   "source": [
    "mat_tuple = np.array(tuple_2D)\n",
    "#mat_tuple\n",
    "print (mat_tuple)"
   ]
  },
  {
   "cell_type": "code",
   "execution_count": 0,
   "metadata": {
    "application/vnd.databricks.v1+cell": {
     "cellMetadata": {},
     "inputWidgets": {},
     "nuid": "0a3d9304-cb55-4026-baa1-755df8e27b86",
     "showTitle": false,
     "tableResultSettingsMap": {},
     "title": ""
    }
   },
   "outputs": [],
   "source": [
    "#array([3, 1, 2])\n",
    "print(\"array1 added by array1: \",array2+mat_tuple)\n",
    "print(\"array1 multiplied by array1: \",array2*mat_tuple)\n",
    "#Division:\n",
    "print(\"array1 divided by array1: \",array2/mat_tuple)\n",
    "#Raising an array to the power of another array:\n",
    "print(\"array1 raised to the power of array1: \",array2**mat_tuple)"
   ]
  },
  {
   "cell_type": "code",
   "execution_count": 0,
   "metadata": {
    "application/vnd.databricks.v1+cell": {
     "cellMetadata": {},
     "inputWidgets": {},
     "nuid": "e84d543a-4e5f-42f3-bcc8-c46a8cc524b9",
     "showTitle": false,
     "tableResultSettingsMap": {},
     "title": ""
    }
   },
   "outputs": [],
   "source": [
    "print(\"array1 added by array1: \",mat1**tuple_2D)"
   ]
  },
  {
   "cell_type": "code",
   "execution_count": 0,
   "metadata": {
    "application/vnd.databricks.v1+cell": {
     "cellMetadata": {},
     "inputWidgets": {},
     "nuid": "007b450c-323c-45ee-8fbd-7d86bf09ed6c",
     "showTitle": false,
     "tableResultSettingsMap": {},
     "title": ""
    }
   },
   "outputs": [],
   "source": [
    "array2\n",
    "array3 = np.array([[1],[2],[3]])\n",
    "array3"
   ]
  },
  {
   "cell_type": "code",
   "execution_count": 0,
   "metadata": {
    "application/vnd.databricks.v1+cell": {
     "cellMetadata": {},
     "inputWidgets": {},
     "nuid": "84b8cb18-981b-42b0-829a-e016c595c376",
     "showTitle": false,
     "tableResultSettingsMap": {},
     "title": ""
    }
   },
   "outputs": [],
   "source": [
    "#print(\"array1 added by array1: \",list_2D+mat_tuple)\n",
    "\n",
    "print(\"array1 multiplied by array1: \",list_2D*array3)\n",
    "#Division:\n",
    "print(\"array1 divided by array1: \",list_2D/array3)\n",
    "#Raising an array to the power of another array:\n",
    "print(\"array1 raised to the power of array1: \",list_2D**array3)"
   ]
  },
  {
   "cell_type": "code",
   "execution_count": 0,
   "metadata": {
    "application/vnd.databricks.v1+cell": {
     "cellMetadata": {},
     "inputWidgets": {},
     "nuid": "38627efe-a223-4483-98d6-1d24fd5f5c58",
     "showTitle": false,
     "tableResultSettingsMap": {},
     "title": ""
    }
   },
   "outputs": [],
   "source": [
    "#but the size will be 6, as 6 = 3x2.\n",
    "#Print the dimension of the matrix using ndim:\n",
    "print(\"Dimension of this matrix: \",mat1.ndim,sep='') \n",
    "#Print the size of the matrix using size:\n",
    "print(\"Size of this matrix: \", mat1.size,sep='') \n",
    "#Print the shape of the matrix using shape:\n",
    "print(\"Shape of this matrix: \", mat1.shape,sep='')\n",
    "#Print the data type of the matrix using dtype:\n",
    "print(\"Data type of this matrix: \", mat1.dtype,sep='')\n",
    "#"
   ]
  },
  {
   "cell_type": "code",
   "execution_count": 0,
   "metadata": {
    "application/vnd.databricks.v1+cell": {
     "cellMetadata": {},
     "inputWidgets": {},
     "nuid": "687ceaca-d4f5-443b-a82b-84717152e6a1",
     "showTitle": false,
     "tableResultSettingsMap": {},
     "title": ""
    }
   },
   "outputs": [],
   "source": [
    "#Often, you may have to create matrices filled with zeroes, ones, random numbers, or ones in the diagonal:\n",
    "print(\"Vector of zeros: \",np.zeros(5))\n",
    "print(\"Matrix of zeros: \",np.zeros((3,4)))\n"
   ]
  },
  {
   "cell_type": "code",
   "execution_count": 0,
   "metadata": {
    "application/vnd.databricks.v1+cell": {
     "cellMetadata": {},
     "inputWidgets": {},
     "nuid": "e4d02aaa-eaa3-4e6e-85f9-79687431ad5c",
     "showTitle": false,
     "tableResultSettingsMap": {},
     "title": ""
    }
   },
   "outputs": [],
   "source": [
    "print(\"Vector of ones: \",np.ones(4))\n",
    "print(\"Matrix of ones: \",np.ones((4,2)))\n",
    "print(\"Matrix of 5’s: \",5*np.ones((3,3)))\n",
    "\n"
   ]
  },
  {
   "cell_type": "code",
   "execution_count": 0,
   "metadata": {
    "application/vnd.databricks.v1+cell": {
     "cellMetadata": {},
     "inputWidgets": {},
     "nuid": "768bc9cb-ea66-463d-a3bf-788773f21510",
     "showTitle": false,
     "tableResultSettingsMap": {},
     "title": ""
    }
   },
   "outputs": [],
   "source": [
    "num_samp = np.ones((4,2))\n",
    "type(num_samp)"
   ]
  },
  {
   "cell_type": "code",
   "execution_count": 0,
   "metadata": {
    "application/vnd.databricks.v1+cell": {
     "cellMetadata": {},
     "inputWidgets": {},
     "nuid": "947b38b7-e885-49cd-b0b5-b5ab629cdacb",
     "showTitle": false,
     "tableResultSettingsMap": {},
     "title": ""
    }
   },
   "outputs": [],
   "source": [
    "num_samp"
   ]
  },
  {
   "cell_type": "code",
   "execution_count": 0,
   "metadata": {
    "application/vnd.databricks.v1+cell": {
     "cellMetadata": {},
     "inputWidgets": {},
     "nuid": "bdd6ecb9-42ae-4644-baea-8fb9195a1a0d",
     "showTitle": false,
     "tableResultSettingsMap": {},
     "title": ""
    }
   },
   "outputs": [],
   "source": [
    "print(\"Identity matrix of dimension 2:\",np.eye(2))\n",
    "print(\"Identity matrix of dimension 4:\",np.eye(4))\n",
    "print(\"Random matrix of shape (4,3):\\n\",np.random.randint(low=1,high=10,size=(4,3)))\n"
   ]
  },
  {
   "cell_type": "code",
   "execution_count": 0,
   "metadata": {
    "application/vnd.databricks.v1+cell": {
     "cellMetadata": {},
     "inputWidgets": {},
     "nuid": "7d328001-4c8d-4e3a-93d3-704332f6c5c7",
     "showTitle": false,
     "tableResultSettingsMap": {},
     "title": ""
    }
   },
   "outputs": [],
   "source": [
    "import numpy as np\n",
    "npeye = np.eye(4)\n",
    "nprand =np.random.randint(low=1,high=10,size=(4,4))\n",
    "npeye * nprand\n"
   ]
  },
  {
   "cell_type": "code",
   "execution_count": 0,
   "metadata": {
    "application/vnd.databricks.v1+cell": {
     "cellMetadata": {},
     "inputWidgets": {},
     "nuid": "9bf6a524-9f4b-4340-a340-2534d1185fc1",
     "showTitle": false,
     "tableResultSettingsMap": {},
     "title": ""
    }
   },
   "outputs": [],
   "source": [
    "nprand"
   ]
  },
  {
   "cell_type": "code",
   "execution_count": 0,
   "metadata": {
    "application/vnd.databricks.v1+cell": {
     "cellMetadata": {},
     "inputWidgets": {},
     "nuid": "91e201ac-b135-459c-9abd-bc1615926812",
     "showTitle": false,
     "tableResultSettingsMap": {},
     "title": ""
    }
   },
   "outputs": [],
   "source": [
    "#The following functions accomplish those tasks. Execute the following code:\n",
    "a = np.random.randint(1,100,30)\n",
    "a"
   ]
  },
  {
   "cell_type": "code",
   "execution_count": 0,
   "metadata": {
    "application/vnd.databricks.v1+cell": {
     "cellMetadata": {},
     "inputWidgets": {},
     "nuid": "2a92814e-8c2c-4f06-af52-d81e3b215f78",
     "showTitle": false,
     "tableResultSettingsMap": {},
     "title": ""
    }
   },
   "outputs": [],
   "source": [
    "help(np.random.randint)"
   ]
  },
  {
   "cell_type": "code",
   "execution_count": 0,
   "metadata": {
    "application/vnd.databricks.v1+cell": {
     "cellMetadata": {},
     "inputWidgets": {},
     "nuid": "f554950f-ecb5-48b1-9f87-43b08a06bb94",
     "showTitle": false,
     "tableResultSettingsMap": {},
     "title": ""
    }
   },
   "outputs": [],
   "source": [
    "arr = np.arange(0,11)\n",
    "arr"
   ]
  },
  {
   "cell_type": "code",
   "execution_count": 0,
   "metadata": {
    "application/vnd.databricks.v1+cell": {
     "cellMetadata": {},
     "inputWidgets": {},
     "nuid": "1ee79d89-32c1-4e3a-beb4-593b968aaeb2",
     "showTitle": false,
     "tableResultSettingsMap": {},
     "title": ""
    }
   },
   "outputs": [],
   "source": [
    "#print(\"Array:\",arr)\n",
    "print(\"Element at 7th index is:\", arr[7])\n",
    "print(\"Elements from 3rd to 5th index are:\", arr[3:6])\n",
    "print(\"Elements up to 4th index are:\", arr[:4])\n",
    "print(\"Elements from last backwards are:\", arr[2:6:-2])\n",
    "# -1\n",
    "#Elements from last backwards are: [10  9  8  7  6  5  4  3  2  1  0]\n",
    "print(\"3 Elements from last backwards are:\", arr[-1:-6:-2])\n",
    "print(\"All Elements:\", arr[:])"
   ]
  },
  {
   "cell_type": "code",
   "execution_count": 0,
   "metadata": {
    "application/vnd.databricks.v1+cell": {
     "cellMetadata": {},
     "inputWidgets": {},
     "nuid": "31eca59b-4195-4a36-b0c1-d22e7d72a080",
     "showTitle": false,
     "tableResultSettingsMap": {},
     "title": ""
    }
   },
   "outputs": [],
   "source": [
    "57*30"
   ]
  },
  {
   "cell_type": "code",
   "execution_count": 0,
   "metadata": {
    "application/vnd.databricks.v1+cell": {
     "cellMetadata": {},
     "inputWidgets": {},
     "nuid": "5a3c8712-2a5c-4978-bf4b-2a9da62e7e04",
     "showTitle": false,
     "tableResultSettingsMap": {},
     "title": ""
    }
   },
   "outputs": [],
   "source": [
    "mat = np.array(np.random.randint(10,100,15))\n",
    "print(mat)\n",
    "matrs = mat.reshape(5,3)\n",
    "print(matrs)\n",
    "print(\"Matrix of random 2-digit numbers\\n\",mat)\n",
    "print (\"\\nFifth Element\", mat[4])\n",
    "\n",
    "print (\"\\nElements greater than 50\\n\", mat[mat>50])\n"
   ]
  },
  {
   "cell_type": "code",
   "execution_count": 0,
   "metadata": {
    "application/vnd.databricks.v1+cell": {
     "cellMetadata": {},
     "inputWidgets": {},
     "nuid": "6a21688f-8b67-45dd-99b6-998d1dcecb1c",
     "showTitle": false,
     "tableResultSettingsMap": {},
     "title": ""
    }
   },
   "outputs": [],
   "source": [
    "#NumPy arrays operate just like mathematical matrices, and the operations are performed element-wise:\n",
    "mat1 = np.random.randint(1,10,9).reshape(3,3)\n",
    "array_mat1 = mat1.reshape(9,1)\n",
    "mat2 = np.random.randint(1,10,9).reshape(3,3)\n",
    "print(\"\\n1st Matrix of random single-digit numbers\\n\",mat1)\n",
    "print(\"\\n2nd Matrix of random single-digit numbers\\n\",mat2)\n",
    "print(\"\\nAddition\\n\", mat1+mat2)\n",
    "print(\"\\nMultiplication\\n\", mat1*mat2)\n",
    "print(\"\\nDivision\\n\", mat1/mat2)\n",
    "print(\"\\nLineaer combination: 3*A - 2*B\\n\", 3*mat1-2*mat2)\n",
    "print(\"\\nAddition of a scalar (100)\\n\", 100+mat1)\n",
    "print(\"\\nLinear Exponentiation, matrix cubed here\\n\", mat1**3)\n",
    "print(\"\\nExponentiation, square root using ‘pow’ function\\n\",pow(mat1,0.5))\n"
   ]
  },
  {
   "cell_type": "code",
   "execution_count": 0,
   "metadata": {
    "application/vnd.databricks.v1+cell": {
     "cellMetadata": {},
     "inputWidgets": {},
     "nuid": "06488628-68b4-4e9a-a66b-11608a6af3fe",
     "showTitle": false,
     "tableResultSettingsMap": {},
     "title": ""
    }
   },
   "outputs": [],
   "source": [
    "txt = input(\"what string?\")\n",
    "repeat = int(input(\"how many times?\"))\n",
    "print(txt*repeat)"
   ]
  },
  {
   "cell_type": "code",
   "execution_count": 0,
   "metadata": {
    "application/vnd.databricks.v1+cell": {
     "cellMetadata": {},
     "inputWidgets": {},
     "nuid": "b7aeeacb-0ecb-4de7-9c37-42607d6d9f26",
     "showTitle": false,
     "tableResultSettingsMap": {},
     "title": ""
    }
   },
   "outputs": [],
   "source": [
    "print('a\\tb\\nc\\td\\n\\\"e\\\\')\n"
   ]
  },
  {
   "cell_type": "code",
   "execution_count": 0,
   "metadata": {
    "application/vnd.databricks.v1+cell": {
     "cellMetadata": {},
     "inputWidgets": {},
     "nuid": "f617189a-21ac-46d6-b4be-a467ab3bdaa4",
     "showTitle": false,
     "tableResultSettingsMap": {},
     "title": ""
    }
   },
   "outputs": [],
   "source": [
    "a = np.array([[1,2],[3,4]])\n",
    "b = np.array([[5,6],[7,8]])\n",
    "print(\"Matrix a\\n\",a)\n",
    "print(\"Matrix b\\n\",b)\n",
    "print(\"Vertical stacking\\n\",np.vstack((a,b)))\n",
    "print(\"Horizontal stacking\\n\",np.hstack((a,b)))\n",
    "print(\"Vertical stacking alt \\n\",np.vstack((b,a)))\n",
    "print(\"Horizontal stacking alt \\n\",np.hstack((b,a)))\n"
   ]
  },
  {
   "cell_type": "code",
   "execution_count": 0,
   "metadata": {
    "application/vnd.databricks.v1+cell": {
     "cellMetadata": {},
     "inputWidgets": {},
     "nuid": "81cdd64f-3c42-4684-920c-319ca91dfecc",
     "showTitle": false,
     "tableResultSettingsMap": {},
     "title": ""
    }
   },
   "outputs": [],
   "source": [
    "print(\"\\nExponentiation, square root using ‘pow’ function\\n\",pow(mat1,mat2))\n"
   ]
  },
  {
   "cell_type": "code",
   "execution_count": 0,
   "metadata": {
    "application/vnd.databricks.v1+cell": {
     "cellMetadata": {},
     "inputWidgets": {},
     "nuid": "0bfc96b4-36d1-4bb3-8696-90ea0392ed49",
     "showTitle": false,
     "tableResultSettingsMap": {},
     "title": ""
    }
   },
   "outputs": [],
   "source": [
    "# list = []\n",
    "# Matrix a\n",
    "#  [[1 2]\n",
    "#  [3 4]]\n",
    "# Matrix b\n",
    "#  [[5 6]\n",
    "#  [7 8]]\n",
    "c = np.empty((2,2), dtype=a.dtype)\n",
    "print(c)\n",
    "c[0::2] = a[0]\n",
    "c[1::2] = b[0]\n",
    "c"
   ]
  },
  {
   "cell_type": "code",
   "execution_count": 0,
   "metadata": {
    "application/vnd.databricks.v1+cell": {
     "cellMetadata": {},
     "inputWidgets": {},
     "nuid": "9ba802c4-9a6f-47a0-aaf5-5217af41107f",
     "showTitle": false,
     "tableResultSettingsMap": {},
     "title": ""
    }
   },
   "outputs": [],
   "source": [
    "results = {\n",
    "    'Question 1': [10, 15, 17, 32, 26],\n",
    "    'Question 2': [26, 22, 29, 10, 13],\n",
    "    'Question 3': [35, 37, 7, 2, 19],\n",
    "    'Question 4': [32, 11, 9, 15, 33],\n",
    "    'Question 5': [21, 29, 5, 5, 40],\n",
    "    'Question 6': [8, 19, 5, 30, 38]\n",
    "}\n",
    "print([np.cumsum(np.array(v)) for v in results.values()])"
   ]
  },
  {
   "cell_type": "code",
   "execution_count": 0,
   "metadata": {
    "application/vnd.databricks.v1+cell": {
     "cellMetadata": {},
     "inputWidgets": {},
     "nuid": "7abe0522-9904-49a3-890a-3d1def5f5aa2",
     "showTitle": false,
     "tableResultSettingsMap": {},
     "title": ""
    }
   },
   "outputs": [],
   "source": [
    "import matplotlib.pyplot as plt\n",
    "plt.get_cmap('RdYlGn')"
   ]
  },
  {
   "cell_type": "code",
   "execution_count": 0,
   "metadata": {
    "application/vnd.databricks.v1+cell": {
     "cellMetadata": {},
     "inputWidgets": {},
     "nuid": "a6852618-0083-4af0-afe5-98c858cd45f5",
     "showTitle": false,
     "tableResultSettingsMap": {},
     "title": ""
    }
   },
   "outputs": [],
   "source": [
    "category_colors = plt.get_cmap('RdYlGn')(\n",
    "    np.linspace(0.15, 0.85, np.array(list(results.values())).shape[1]))\n",
    "category_colors    "
   ]
  },
  {
   "cell_type": "code",
   "execution_count": 0,
   "metadata": {
    "application/vnd.databricks.v1+cell": {
     "cellMetadata": {},
     "inputWidgets": {},
     "nuid": "694e0da5-ab21-4a6c-96d1-c8f2c48b2a56",
     "showTitle": false,
     "tableResultSettingsMap": {},
     "title": ""
    }
   },
   "outputs": [],
   "source": [
    "\n",
    "category_names = ['Strongly disagree', 'Disagree',\n",
    "                  'Neither agree nor disagree', 'Agree', 'Strongly agree']\n",
    "foo = zip(category_names, category_colors)                  \n",
    "[f for f in enumerate(foo)]"
   ]
  },
  {
   "cell_type": "code",
   "execution_count": 0,
   "metadata": {
    "application/vnd.databricks.v1+cell": {
     "cellMetadata": {},
     "inputWidgets": {},
     "nuid": "f4fa40a1-cddc-4f4e-bec3-28b8b0662431",
     "showTitle": false,
     "tableResultSettingsMap": {},
     "title": ""
    }
   },
   "outputs": [],
   "source": [
    "[f for f in enumerate(foo)]"
   ]
  },
  {
   "cell_type": "code",
   "execution_count": 0,
   "metadata": {
    "application/vnd.databricks.v1+cell": {
     "cellMetadata": {},
     "inputWidgets": {},
     "nuid": "54a0e3f3-9227-418c-96f7-f72447ce3be3",
     "showTitle": false,
     "tableResultSettingsMap": {},
     "title": ""
    }
   },
   "outputs": [],
   "source": [
    "import numpy as np\n",
    "import matplotlib.pyplot as plt\n",
    "\n",
    "\n",
    "category_names = ['Strongly disagree', 'Disagree',\n",
    "                  'Neither agree nor disagree', 'Agree', 'Strongly agree']\n",
    "results = {\n",
    "    'Question 1': [10, 15, 17, 32, 26],\n",
    "    'Question 2': [26, 22, 29, 10, 13],\n",
    "    'Question 3': [35, 37, 7, 2, 19],\n",
    "    'Question 4': [32, 11, 9, 15, 33],\n",
    "    'Question 5': [21, 29, 5, 5, 40],\n",
    "    'Question 6': [8, 19, 5, 30, 38]\n",
    "}\n",
    "\n",
    "\n",
    "def survey(results, category_names):\n",
    "    \"\"\"\n",
    "    Parameters\n",
    "    ----------\n",
    "    results : dict\n",
    "        A mapping from question labels to a list of answers per category.\n",
    "        It is assumed all lists contain the same number of entries and that\n",
    "        it matches the length of *category_names*.\n",
    "    category_names : list of str\n",
    "        The category labels.\n",
    "    \"\"\"\n",
    "    labels = list(results.keys())\n",
    "    data = np.array(list(results.values()))\n",
    "    data_cum = data.cumsum(axis=1)\n",
    "    category_colors = plt.get_cmap('RdYlGn')(\n",
    "        np.linspace(0.15, 0.85, data.shape[1]))\n",
    "\n",
    "    fig, ax = plt.subplots(figsize=(9.2, 5))\n",
    "    ax.invert_yaxis()\n",
    "    ax.xaxis.set_visible(False)\n",
    "    ax.set_xlim(0, np.sum(data, axis=1).max())\n",
    "\n",
    "    for i, (colname, color) in enumerate(zip(category_names, category_colors)):\n",
    "        widths = data[:, i]\n",
    "        starts = data_cum[:, i] - widths\n",
    "        rects = ax.barh(labels, widths, left=starts, height=0.5,\n",
    "                        label=colname, color=color)\n",
    "\n",
    "        r, g, b, _ = color\n",
    "        text_color = 'white' if r * g * b < 0.5 else 'darkgrey'\n",
    "        #ax.bar_label(rects, label_type='center', color=text_color)\n",
    "    ax.legend(ncol=len(category_names), bbox_to_anchor=(0, 1),\n",
    "              loc='lower left', fontsize='small')\n",
    "\n",
    "    return fig, ax\n",
    "\n",
    "\n",
    "survey(results, category_names)\n",
    "plt.show()"
   ]
  },
  {
   "cell_type": "code",
   "execution_count": 0,
   "metadata": {
    "application/vnd.databricks.v1+cell": {
     "cellMetadata": {},
     "inputWidgets": {},
     "nuid": "123c2b76-b778-434f-9135-fee2805d4393",
     "showTitle": false,
     "tableResultSettingsMap": {},
     "title": ""
    }
   },
   "outputs": [],
   "source": [
    "153**2"
   ]
  },
  {
   "cell_type": "code",
   "execution_count": 0,
   "metadata": {
    "application/vnd.databricks.v1+cell": {
     "cellMetadata": {},
     "inputWidgets": {},
     "nuid": "934be00f-44c6-46e5-b6f7-e5242f66adbb",
     "showTitle": false,
     "tableResultSettingsMap": {},
     "title": ""
    }
   },
   "outputs": [],
   "source": [
    "ax.bar_label?"
   ]
  },
  {
   "cell_type": "code",
   "execution_count": 0,
   "metadata": {
    "application/vnd.databricks.v1+cell": {
     "cellMetadata": {},
     "inputWidgets": {},
     "nuid": "739738ae-a185-4a9c-8fd4-a751c2cb418e",
     "showTitle": false,
     "tableResultSettingsMap": {},
     "title": ""
    }
   },
   "outputs": [],
   "source": [
    "np.array(list(results.values())).cumsum(axis=1)\n",
    "#'Question 1': [10, 15, 17, 32, 26],"
   ]
  },
  {
   "cell_type": "code",
   "execution_count": 0,
   "metadata": {
    "application/vnd.databricks.v1+cell": {
     "cellMetadata": {},
     "inputWidgets": {},
     "nuid": "1e0caaeb-7f9b-4f05-b312-51d0ea78ed9b",
     "showTitle": false,
     "tableResultSettingsMap": {},
     "title": ""
    }
   },
   "outputs": [],
   "source": [
    "plt.get_cmap('RdYlGn')(\n",
    "        np.linspace(0.15, 0.85, np.array(list(results.values())).cumsum(axis=1).shape[1]))"
   ]
  },
  {
   "cell_type": "code",
   "execution_count": 0,
   "metadata": {
    "application/vnd.databricks.v1+cell": {
     "cellMetadata": {},
     "inputWidgets": {},
     "nuid": "f612c316-5d06-41cf-b5ec-f8305afc4e04",
     "showTitle": false,
     "tableResultSettingsMap": {},
     "title": ""
    }
   },
   "outputs": [],
   "source": [
    "for w in enumerate(zip(category_names, category_colors)): print(w)"
   ]
  }
 ],
 "metadata": {
  "application/vnd.databricks.v1+notebook": {
   "computePreferences": null,
   "dashboards": [],
   "environmentMetadata": null,
   "inputWidgetPreferences": null,
   "language": "python",
   "notebookMetadata": {},
   "notebookName": "01 Numpy Samples",
   "widgets": {}
  },
  "interpreter": {
   "hash": "81794d4967e6c3204c66dcd87b604927b115b27c00565d3d43f05ba2f3a2cb0d"
  },
  "kernelspec": {
   "display_name": "Python 3.9.5 64-bit",
   "language": "python",
   "name": "python3"
  },
  "language_info": {
   "name": "python"
  }
 },
 "nbformat": 4,
 "nbformat_minor": 0
}
